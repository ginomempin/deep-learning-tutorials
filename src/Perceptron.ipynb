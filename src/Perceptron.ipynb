{
  "nbformat": 4,
  "nbformat_minor": 0,
  "metadata": {
    "colab": {
      "name": "Perceptron.ipynb",
      "provenance": [],
      "collapsed_sections": [
        "xUvAPlkzlSTl"
      ],
      "toc_visible": true,
      "authorship_tag": "ABX9TyNYrQEGl0+itl4nzRf1hiF2",
      "include_colab_link": true
    },
    "kernelspec": {
      "name": "python3",
      "display_name": "Python 3"
    }
  },
  "cells": [
    {
      "cell_type": "markdown",
      "metadata": {
        "colab_type": "text",
        "id": "view-in-github"
      },
      "source": [
        "<a href=\"https://colab.research.google.com/github/ginomempin/machine-learning-tutorials/blob/master/src/Perceptron.ipynb\" target=\"_parent\"><img src=\"https://colab.research.google.com/assets/colab-badge.svg\" alt=\"Open In Colab\"/></a>"
      ]
    },
    {
      "cell_type": "code",
      "execution_count": 0,
      "metadata": {
        "colab": {
          "base_uri": "https://localhost:8080/",
          "height": 121
        },
        "colab_type": "code",
        "id": "Z0NG8BMRPlV7",
        "outputId": "10b4a37a-2688-4322-ce35-f87135d3ad62"
      },
      "outputs": [
        {
          "name": "stdout",
          "output_type": "stream",
          "text": [
            "Requirement already satisfied: torch in /usr/local/lib/python3.6/dist-packages (1.3.1)\n",
            "Requirement already satisfied: numpy in /usr/local/lib/python3.6/dist-packages (from torch) (1.17.5)\n",
            "Requirement already satisfied: scikit-learn in /usr/local/lib/python3.6/dist-packages (0.22.1)\n",
            "Requirement already satisfied: scipy>=0.17.0 in /usr/local/lib/python3.6/dist-packages (from scikit-learn) (1.4.1)\n",
            "Requirement already satisfied: joblib>=0.11 in /usr/local/lib/python3.6/dist-packages (from scikit-learn) (0.14.1)\n",
            "Requirement already satisfied: numpy>=1.11.0 in /usr/local/lib/python3.6/dist-packages (from scikit-learn) (1.17.5)\n"
          ]
        }
      ],
      "source": [
        "!pip3 install torch\n",
        "!pip3 install scikit-learn"
      ]
    },
    {
      "cell_type": "code",
      "execution_count": 0,
      "metadata": {
        "colab": {},
        "colab_type": "code",
        "id": "vjafa_WbXm-Y"
      },
      "outputs": [],
      "source": [
        "import matplotlib.pyplot as plt\n",
        "import numpy as np\n",
        "from sklearn import datasets\n",
        "import torch\n",
        "import torch.nn as nn"
      ]
    },
    {
      "cell_type": "markdown",
      "metadata": {
        "colab_type": "text",
        "id": "qXX04JrQXZf-"
      },
      "source": [
        "# Outline"
      ]
    },
    {
      "cell_type": "markdown",
      "metadata": {
        "colab_type": "text",
        "id": "V2Wz9kjrYtz7"
      },
      "source": [
        "1. Use `sklearn` to create a linearly-separable dataset\n",
        "1. Use `torch` to create a perceptron-based neural network\n",
        "1. Train NN to fit the dataset to classify data into 2 classes"
      ]
    },
    {
      "cell_type": "markdown",
      "metadata": {
        "colab_type": "text",
        "id": "UCJG1OZqPxAd"
      },
      "source": [
        "# Reference\n",
        "\n",
        "[ginomempin / machine-learning-tutorials / docs / Perceptron.md](https://github.com/ginomempin/machine-learning-tutorials/blob/master/docs/Perceptron.md)"
      ]
    },
    {
      "cell_type": "markdown",
      "metadata": {
        "colab_type": "text",
        "id": "pFEIl9dmZJM5"
      },
      "source": [
        "# Create the Data Set"
      ]
    },
    {
      "cell_type": "code",
      "execution_count": 0,
      "metadata": {
        "colab": {},
        "colab_type": "code",
        "id": "poRM0cvfXFEr"
      },
      "outputs": [],
      "source": [
        "# Define the number of data points\n",
        "n_pts = 100\n",
        "\n",
        "# Define 2 clusters (2 classes) and define the center for each.\n",
        "# The exact position of the 2 centers are not that important, \n",
        "# but were chosen such that there is a reasonably small degree \n",
        "# of separation to allow for classification.\n",
        "centers = [[-0.5, 0.5], [0.5, -0.5]]\n",
        "\n",
        "# Create a random set of points centered around the 2 centers.\n",
        "# The make_blobs() method returns an array of data points (X)\n",
        "# and the label values for each point (y).\n",
        "X, y = datasets.make_blobs(\n",
        "    n_samples=n_pts,\n",
        "    random_state=123,   # Provide a fixed seed for reproducible random values\n",
        "    centers=centers,\n",
        "    cluster_std=0.4,    # Standard deviation of data points from center\n",
        ")"
      ]
    },
    {
      "cell_type": "code",
      "execution_count": 0,
      "metadata": {
        "colab": {
          "base_uri": "https://localhost:8080/",
          "height": 1000
        },
        "colab_type": "code",
        "id": "qqeF-bUwxzG6",
        "outputId": "ccebf5ea-895c-43ac-e759-0f7ee9cdc08e"
      },
      "outputs": [
        {
          "name": "stdout",
          "output_type": "stream",
          "text": [
            "[[-0.13715792 -0.07147228]\n",
            " [ 0.80437976 -0.37061246]\n",
            " [-0.60224775 -0.61943564]\n",
            " [ 0.57087693 -0.5119872 ]\n",
            " [ 0.0063745   0.15330384]\n",
            " [-0.87433355  0.97033162]\n",
            " [ 0.19742512 -0.37132537]\n",
            " [-0.6340043   0.91244578]\n",
            " [-0.48180397  0.40676318]\n",
            " [ 0.19748489  0.18077491]\n",
            " [-0.62590326  0.06563904]\n",
            " [-0.31262435  0.16753801]\n",
            " [-0.1085056   1.39525734]\n",
            " [ 0.09825765  0.92775707]\n",
            " [-0.36456438  0.4952678 ]\n",
            " [ 0.75682188 -1.29115517]\n",
            " [ 0.33484534  0.56577649]\n",
            " [-0.66134642  0.44958817]\n",
            " [ 0.34335208 -0.44400876]\n",
            " [-0.42758595  0.97114478]\n",
            " [-0.09837844  0.65447456]\n",
            " [ 0.45694611  0.66516486]\n",
            " [-0.12901503  0.43054573]\n",
            " [ 0.67045866 -1.1421639 ]\n",
            " [ 0.82493653 -0.30010394]\n",
            " [ 0.72261948 -0.58483205]\n",
            " [-0.49886163  0.77528908]\n",
            " [-0.03991778 -0.00694082]\n",
            " [ 1.05814117 -0.64357437]\n",
            " [ 0.60152659 -0.38650986]\n",
            " [ 0.57181979 -1.24479028]\n",
            " [-0.20505257  1.09629281]\n",
            " [ 1.14347639 -0.60809296]\n",
            " [-0.97932046  0.57980963]\n",
            " [ 0.20367449 -0.4708371 ]\n",
            " [-0.79298479  0.01499075]\n",
            " [ 0.5081264  -0.57758555]\n",
            " [-1.00155227  0.2448994 ]\n",
            " [ 0.53169081 -0.60975863]\n",
            " [-0.83500669 -0.1423851 ]\n",
            " [ 0.164381    0.82292327]\n",
            " [ 0.28043183 -0.89122308]\n",
            " [ 0.90509562 -0.38850366]\n",
            " [ 0.00209495  0.22445241]\n",
            " [ 0.38237203  1.37471444]\n",
            " [ 0.38968559 -0.72084323]\n",
            " [ 0.40413249 -0.44267691]\n",
            " [ 0.68973892 -0.72556957]\n",
            " [-0.14371744  1.20195447]\n",
            " [ 0.57983284 -0.55044711]\n",
            " [ 0.66123438  0.08877175]\n",
            " [ 0.55361072 -0.21821037]\n",
            " [-0.34823976  0.34832943]\n",
            " [-0.77155446  0.46211641]\n",
            " [ 0.28041796  0.22238804]\n",
            " [ 0.68250836  0.11781778]\n",
            " [-1.01763413  0.08448472]\n",
            " [-0.82214661 -0.1910678 ]\n",
            " [ 0.20591322 -0.2995004 ]\n",
            " [-0.03511838  0.06111878]\n",
            " [-0.93382716 -0.04538862]\n",
            " [ 0.57880757 -1.792422  ]\n",
            " [ 0.08040333 -0.53004824]\n",
            " [ 1.10754625 -0.64160005]\n",
            " [-0.3868086  -0.10251789]\n",
            " [-1.20861324  0.22004911]\n",
            " [ 0.10107141 -0.94001725]\n",
            " [-0.48812671  0.92772639]\n",
            " [ 0.54829895 -0.20071375]\n",
            " [-0.67759278  0.32625949]\n",
            " [ 0.3922826  -0.54434029]\n",
            " [-0.3742912  -0.03050618]\n",
            " [ 1.28376454 -1.31001831]\n",
            " [-0.06475555 -1.25074746]\n",
            " [-0.65635992  0.72952234]\n",
            " [ 0.62295369 -0.74449014]\n",
            " [-0.80908349  0.81794507]\n",
            " [ 1.05090299 -0.55727039]\n",
            " [ 0.32892816 -0.00285218]\n",
            " [ 0.06691962  0.82289461]\n",
            " [ 0.76626138 -0.85936918]\n",
            " [-0.55602749  0.15529804]\n",
            " [-0.7314401   1.16057461]\n",
            " [ 1.10946551 -0.93801058]\n",
            " [ 0.49014961 -0.48634315]\n",
            " [ 0.36349531 -0.5871785 ]\n",
            " [ 0.28054315 -1.52282184]\n",
            " [-0.93425224  0.89893818]\n",
            " [-1.4706717   0.32843495]\n",
            " [ 0.78490585  0.53932157]\n",
            " [ 0.17062744 -0.44791402]\n",
            " [ 0.72154247 -0.71226982]\n",
            " [ 0.09213797 -0.43282308]\n",
            " [ 1.00691946 -0.36689401]\n",
            " [ 0.53738433  0.08383571]\n",
            " [ 0.09655585  0.2444392 ]\n",
            " [-0.04837939 -0.63299011]\n",
            " [-0.85181454  0.61345093]\n",
            " [ 0.35807022 -0.3433663 ]\n",
            " [-1.34924014  0.91589084]]\n",
            "(100, 2)\n"
          ]
        }
      ],
      "source": [
        "print(X)\n",
        "print(X.shape)"
      ]
    },
    {
      "cell_type": "code",
      "execution_count": 0,
      "metadata": {
        "colab": {
          "base_uri": "https://localhost:8080/",
          "height": 86
        },
        "colab_type": "code",
        "id": "Hi32s2_Fx1H0",
        "outputId": "80ead5dd-6173-4d9a-864d-893921a714f3"
      },
      "outputs": [
        {
          "name": "stdout",
          "output_type": "stream",
          "text": [
            "[0 1 0 1 0 0 1 0 0 0 0 0 0 0 0 1 0 0 1 0 0 0 0 1 1 1 0 0 1 1 1 0 1 0 1 0 1\n",
            " 0 1 0 0 1 1 0 0 1 1 1 0 1 1 1 0 0 1 1 0 0 1 0 0 1 1 1 0 0 1 0 1 0 1 0 1 1\n",
            " 0 1 0 1 1 0 1 0 0 1 1 1 1 0 0 1 1 1 1 1 1 0 1 0 1 0]\n",
            "(100,)\n"
          ]
        }
      ],
      "source": [
        "print(y)\n",
        "print(y.shape)"
      ]
    },
    {
      "cell_type": "markdown",
      "metadata": {
        "colab_type": "text",
        "id": "2rMDX8tPcpap"
      },
      "source": [
        "The data points centered around `[-0.5, 0.5]` will be labeled with `0`.  \n",
        "The data points centered around `[0.5, -0.5]` will be labeled with `1`."
      ]
    },
    {
      "cell_type": "code",
      "execution_count": 0,
      "metadata": {
        "colab": {
          "base_uri": "https://localhost:8080/",
          "height": 285
        },
        "colab_type": "code",
        "id": "g3tAyHFIdDBB",
        "outputId": "dd8e93e7-320e-44cf-cf67-1c6766eab3f7"
      },
      "outputs": [
        {
          "data": {
            "text/plain": [
              "<matplotlib.collections.PathCollection at 0x7fb4a23c6f28>"
            ]
          },
          "execution_count": 6,
          "metadata": {
            "tags": []
          },
          "output_type": "execute_result"
        },
        {
          "data": {
            "image/png": "[encoded data removed]",
            "text/plain": [
              "<Figure size 432x288 with 1 Axes>"
            ]
          },
          "metadata": {
            "tags": []
          },
          "output_type": "display_data"
        }
      ],
      "source": [
        "# Plot data points around 1st center (-0.5, 0.5)\n",
        "\n",
        "# Using manual filtering\n",
        "all_data0 = [pt for idx, pt in enumerate(X) if y[idx]==0]\n",
        "all_data0_x = [pt[0] for pt in all_data0]\n",
        "all_data0_y = [pt[1] for pt in all_data0]\n",
        "plt.scatter(all_data0_x, all_data0_y)"
      ]
    },
    {
      "cell_type": "code",
      "execution_count": 0,
      "metadata": {
        "colab": {
          "base_uri": "https://localhost:8080/",
          "height": 285
        },
        "colab_type": "code",
        "id": "Pv4uYhuhenmh",
        "outputId": "28a9f03a-3576-4d07-9e18-cca3a7acf17a"
      },
      "outputs": [
        {
          "data": {
            "text/plain": [
              "<matplotlib.collections.PathCollection at 0x7fb49f6b5240>"
            ]
          },
          "execution_count": 7,
          "metadata": {
            "tags": []
          },
          "output_type": "execute_result"
        },
        {
          "data": {
            "image/png": "[encoded data removed]",
            "text/plain": [
              "<Figure size 432x288 with 1 Axes>"
            ]
          },
          "metadata": {
            "tags": []
          },
          "output_type": "display_data"
        }
      ],
      "source": [
        "# Using numpy filter\n",
        "plt.scatter(X[y==0, 0], X[y==0, 1])"
      ]
    },
    {
      "cell_type": "code",
      "execution_count": 0,
      "metadata": {
        "colab": {
          "base_uri": "https://localhost:8080/",
          "height": 282
        },
        "colab_type": "code",
        "id": "HSl2FgxFftID",
        "outputId": "43fd145f-67b8-4fa5-b3fb-9246bc99ce36"
      },
      "outputs": [
        {
          "data": {
            "text/plain": [
              "<matplotlib.collections.PathCollection at 0x7fb49f623c88>"
            ]
          },
          "execution_count": 8,
          "metadata": {
            "tags": []
          },
          "output_type": "execute_result"
        },
        {
          "data": {
            "image/png": "[encoded data removed]",
            "text/plain": [
              "<Figure size 432x288 with 1 Axes>"
            ]
          },
          "metadata": {
            "tags": []
          },
          "output_type": "display_data"
        }
      ],
      "source": [
        "# Plot data points around 2nd center (0.5, -0.5)\n",
        "\n",
        "# Using manual filtering\n",
        "all_data1 = [pt for idx, pt in enumerate(X) if y[idx]==1]\n",
        "all_data1_x = [pt[0] for pt in all_data1]\n",
        "all_data1_y = [pt[1] for pt in all_data1]\n",
        "plt.scatter(all_data1_x, all_data1_y)"
      ]
    },
    {
      "cell_type": "code",
      "execution_count": 0,
      "metadata": {
        "colab": {
          "base_uri": "https://localhost:8080/",
          "height": 282
        },
        "colab_type": "code",
        "id": "OAVJEgw0f9OM",
        "outputId": "0e4d3b04-b5ec-4dbc-d218-1141428d664e"
      },
      "outputs": [
        {
          "data": {
            "text/plain": [
              "<matplotlib.collections.PathCollection at 0x7fb49f605898>"
            ]
          },
          "execution_count": 9,
          "metadata": {
            "tags": []
          },
          "output_type": "execute_result"
        },
        {
          "data": {
            "image/png": "[encoded data removed]",
            "text/plain": [
              "<Figure size 432x288 with 1 Axes>"
            ]
          },
          "metadata": {
            "tags": []
          },
          "output_type": "display_data"
        }
      ],
      "source": [
        "# Using numpy filter\n",
        "plt.scatter(X[y==1, 0], X[y==1, 1])"
      ]
    },
    {
      "cell_type": "code",
      "execution_count": 0,
      "metadata": {
        "colab": {},
        "colab_type": "code",
        "id": "m46xETZIgB2-"
      },
      "outputs": [],
      "source": [
        "# Wrap plotting the data into a function\n",
        "def plot_data():\n",
        "    plt.scatter(X[y==0, 0], X[y==0, 1])\n",
        "    plt.scatter(X[y==1, 0], X[y==1, 1])"
      ]
    },
    {
      "cell_type": "code",
      "execution_count": 0,
      "metadata": {
        "colab": {
          "base_uri": "https://localhost:8080/",
          "height": 265
        },
        "colab_type": "code",
        "id": "tP2TJJc2q-Ye",
        "outputId": "9d67b592-da8d-4c18-a6fe-f88ae9a3ab5a"
      },
      "outputs": [
        {
          "data": {
            "image/png": "[encoded data removed]",
            "text/plain": [
              "<Figure size 432x288 with 1 Axes>"
            ]
          },
          "metadata": {
            "tags": []
          },
          "output_type": "display_data"
        }
      ],
      "source": [
        "plot_data()"
      ]
    },
    {
      "cell_type": "markdown",
      "metadata": {
        "colab_type": "text",
        "id": "BxDRF00chLmZ"
      },
      "source": [
        "# Create the Perceptron Model"
      ]
    },
    {
      "cell_type": "code",
      "execution_count": 0,
      "metadata": {
        "colab": {},
        "colab_type": "code",
        "id": "C40S3CVEhOJx"
      },
      "outputs": [],
      "source": [
        "# \n",
        "#  x2 -- w1 --\\\n",
        "#              \\\n",
        "#  x1 -- w2 ----- sigmoid -- output\n",
        "#              /\n",
        "#  1  -- b1 --/\n",
        "#\n",
        "\n",
        "class Model(nn.Module):\n",
        "    def __init__(self, input_size, output_size):\n",
        "        super().__init__()\n",
        "        self._linear = nn.Linear(input_size, output_size)\n",
        "    def forward(self, x):\n",
        "        pred = torch.sigmoid(self._linear(x))\n",
        "        return pred\n",
        "    def predict(self, x):\n",
        "        pred = self.forward(x)\n",
        "        if pred >= 0.5:\n",
        "            return \"1, lower right\"\n",
        "        else:\n",
        "            return \"0, upper left\""
      ]
    },
    {
      "cell_type": "code",
      "execution_count": 0,
      "metadata": {
        "colab": {
          "base_uri": "https://localhost:8080/",
          "height": 69
        },
        "colab_type": "code",
        "id": "YRCaMwG8i55W",
        "outputId": "3797be83-00d7-48f3-8835-bfc8f6ebf0c3"
      },
      "outputs": [
        {
          "name": "stdout",
          "output_type": "stream",
          "text": [
            "[Parameter containing:\n",
            "tensor([[ 0.1622, -0.1683]], requires_grad=True), Parameter containing:\n",
            "tensor([0.1939], requires_grad=True)]\n"
          ]
        }
      ],
      "source": [
        "# Set a fixed seed to get reproducible results with tutorial]\n",
        "# In reality, use any seed.\n",
        "torch.manual_seed(2)\n",
        "\n",
        "model = Model(2, 1)\n",
        "print(list(model.parameters()))"
      ]
    },
    {
      "cell_type": "markdown",
      "metadata": {
        "colab_type": "text",
        "id": "d79K2aDQkFEg"
      },
      "source": [
        "# Initial Results"
      ]
    },
    {
      "cell_type": "markdown",
      "metadata": {
        "colab_type": "text",
        "id": "xUvAPlkzlSTl"
      },
      "source": [
        "## Get the Model's Initial Parameters"
      ]
    },
    {
      "cell_type": "code",
      "execution_count": 0,
      "metadata": {
        "colab": {
          "base_uri": "https://localhost:8080/",
          "height": 69
        },
        "colab_type": "code",
        "id": "4hIRFWeSjZgB",
        "outputId": "9c870442-60d8-4ddd-c0ba-1a00254b6ac3"
      },
      "outputs": [
        {
          "name": "stdout",
          "output_type": "stream",
          "text": [
            "Parameter containing:\n",
            "tensor([[ 0.1622, -0.1683]], requires_grad=True) Parameter containing:\n",
            "tensor([0.1939], requires_grad=True)\n"
          ]
        }
      ],
      "source": [
        "w, b = model.parameters()\n",
        "print(w, b)"
      ]
    },
    {
      "cell_type": "code",
      "execution_count": 0,
      "metadata": {
        "colab": {
          "base_uri": "https://localhost:8080/",
          "height": 52
        },
        "colab_type": "code",
        "id": "kY9qAJ7DkBdx",
        "outputId": "ce11020f-ec81-4c51-c380-e711e98efb19"
      },
      "outputs": [
        {
          "name": "stdout",
          "output_type": "stream",
          "text": [
            "tensor(0.1622, grad_fn=<SelectBackward>)\n",
            "tensor(-0.1683, grad_fn=<SelectBackward>)\n"
          ]
        }
      ],
      "source": [
        "# Get w1 and w2\n",
        "\n",
        "# Change 'w' from 1x2 to 2x1 then unpack it\n",
        "w1, w2 = w.view(2)\n",
        "print(w1)\n",
        "print(w2)"
      ]
    },
    {
      "cell_type": "code",
      "execution_count": 0,
      "metadata": {
        "colab": {
          "base_uri": "https://localhost:8080/",
          "height": 34
        },
        "colab_type": "code",
        "id": "vQrJy7y5k5Tp",
        "outputId": "c01bca19-9ef6-4f0b-ccee-df4433bb0d18"
      },
      "outputs": [
        {
          "name": "stdout",
          "output_type": "stream",
          "text": [
            "tensor(0.1939, grad_fn=<SelectBackward>)\n"
          ]
        }
      ],
      "source": [
        "# Get b\n",
        "\n",
        "# Simply extrac the element from the array\n",
        "b1 = b[0]\n",
        "print(b1)"
      ]
    },
    {
      "cell_type": "code",
      "execution_count": 0,
      "metadata": {
        "colab": {
          "base_uri": "https://localhost:8080/",
          "height": 34
        },
        "colab_type": "code",
        "id": "unim7lqVlDup",
        "outputId": "3c550447-ac0f-4439-b365-fe36cdcf19b7"
      },
      "outputs": [
        {
          "name": "stdout",
          "output_type": "stream",
          "text": [
            "0.16220331192016602 -0.1682732105255127 0.19390898942947388\n"
          ]
        }
      ],
      "source": [
        "print(w1.item(), w2.item(), b1.item())"
      ]
    },
    {
      "cell_type": "code",
      "execution_count": 0,
      "metadata": {
        "colab": {},
        "colab_type": "code",
        "id": "FnD5D7ZclnPq"
      },
      "outputs": [],
      "source": [
        "# Wrap it into a function\n",
        "def get_params():\n",
        "    w, b = model.parameters()\n",
        "    w1, w2 = w.view(2)\n",
        "    b1 = b[0]\n",
        "    return w1.item(), w2.item(), b1.item()"
      ]
    },
    {
      "cell_type": "code",
      "execution_count": 0,
      "metadata": {
        "colab": {
          "base_uri": "https://localhost:8080/",
          "height": 34
        },
        "colab_type": "code",
        "id": "wdWfbQW4q1uD",
        "outputId": "99b3f13b-4bdb-404c-c9a6-84780b5e87ba"
      },
      "outputs": [
        {
          "data": {
            "text/plain": [
              "(0.16220331192016602, -0.1682732105255127, 0.19390898942947388)"
            ]
          },
          "execution_count": 19,
          "metadata": {
            "tags": []
          },
          "output_type": "execute_result"
        }
      ],
      "source": [
        "get_params()"
      ]
    },
    {
      "cell_type": "markdown",
      "metadata": {
        "colab_type": "text",
        "id": "crqrj-O-mags"
      },
      "source": [
        "## Plot Initial Predictions"
      ]
    },
    {
      "cell_type": "code",
      "execution_count": 0,
      "metadata": {
        "colab": {},
        "colab_type": "code",
        "id": "S0R366pNmXW4"
      },
      "outputs": [],
      "source": [
        "def plot_fit(title):\n",
        "    # From Section 5: Perceptrons - Perceptron Model,\n",
        "    # the equation for a line\n",
        "    #   y = wx + b\n",
        "    # can be rewritten as\n",
        "    #   0 = wx - y + b\n",
        "    #   0 = w1x + (-1)y + b\n",
        "    #   0 = w1*x1 + w2*y + b\n",
        "    #   0 = w1*x1 + w2*x2 + b\n",
        "    # Arranging algebraically\n",
        "    #  x2 = ((w1*x1)+b)/-w2\n",
        "\n",
        "    w1, w2, b1 = get_params()\n",
        "    x1 = np.array([-2.0, 2.0])  # range of x of the data set\n",
        "    x2 = ((w1 * x1) + b1) / -w2\n",
        "\n",
        "    plt.plot(x1, x2, 'r')\n",
        "    plot_data()"
      ]
    },
    {
      "cell_type": "code",
      "execution_count": 0,
      "metadata": {
        "colab": {
          "base_uri": "https://localhost:8080/",
          "height": 265
        },
        "colab_type": "code",
        "id": "f4Bm_We2qyGY",
        "outputId": "69fb5573-435b-4c3f-ec9d-609fb8f15e28"
      },
      "outputs": [
        {
          "data": {
            "image/png": "[encoded data removed]",
            "text/plain": [
              "<Figure size 432x288 with 1 Axes>"
            ]
          },
          "metadata": {
            "tags": []
          },
          "output_type": "display_data"
        }
      ],
      "source": [
        "plot_fit(\"Initial\")"
      ]
    },
    {
      "cell_type": "markdown",
      "metadata": {
        "colab_type": "text",
        "id": "igx6OX3krbWv"
      },
      "source": [
        "# Training"
      ]
    },
    {
      "cell_type": "markdown",
      "metadata": {
        "colab_type": "text",
        "id": "ot66TxAjxMei"
      },
      "source": [
        "## Convert Dataset to Tensors"
      ]
    },
    {
      "cell_type": "code",
      "execution_count": 0,
      "metadata": {
        "colab": {},
        "colab_type": "code",
        "id": "s2eTL-9wxHqH"
      },
      "outputs": [],
      "source": [
        "x_data = torch.Tensor(X)\n",
        "y_labels = torch.Tensor(y.reshape(100, 1))  # To satisfy Torch warning \n",
        "                                            # \"\"\"\n",
        "                                            #  UserWarning: Using a target size (torch.Size([100])) \n",
        "                                            #  that is different to the input size (torch.Size([100, 1]))\n",
        "                                            # \"\"\""
      ]
    },
    {
      "cell_type": "markdown",
      "metadata": {
        "colab_type": "text",
        "id": "zD5Ont11yg3w"
      },
      "source": [
        "## Define the Loss and Optimizer Functions"
      ]
    },
    {
      "cell_type": "code",
      "execution_count": 0,
      "metadata": {
        "colab": {},
        "colab_type": "code",
        "id": "QPVx3NpSyoyA"
      },
      "outputs": [],
      "source": [
        "# Use Cross Entropy to compute the loss.\n",
        "# Specifically, Binary Cross Entropy Loss.\n",
        "criterion = nn.BCELoss()\n",
        "\n",
        "# Use Gradient Descent to optimize the model.\n",
        "# Specifically, Stochastic Gradient Descent.\n",
        "optimizer = torch.optim.SGD(\n",
        "    model.parameters(),\n",
        "    lr=0.01\n",
        ")"
      ]
    },
    {
      "cell_type": "markdown",
      "metadata": {
        "colab_type": "text",
        "id": "WzpWyJfuyqIQ"
      },
      "source": [
        "## Forward-Backward for N epochs"
      ]
    },
    {
      "cell_type": "code",
      "execution_count": 0,
      "metadata": {
        "colab": {
          "base_uri": "https://localhost:8080/",
          "height": 1000
        },
        "colab_type": "code",
        "id": "Lrvh2Z-nrebo",
        "outputId": "aa01fac3-1099-44ae-eb60-210938c34904"
      },
      "outputs": [
        {
          "name": "stdout",
          "output_type": "stream",
          "text": [
            "epoch 0: loss=0.6185115575790405\n",
            "epoch 1: loss=0.6174639463424683\n",
            "epoch 2: loss=0.6164201498031616\n",
            "epoch 3: loss=0.6153794527053833\n",
            "epoch 4: loss=0.614342451095581\n",
            "epoch 5: loss=0.6133086681365967\n",
            "epoch 6: loss=0.6122783422470093\n",
            "epoch 7: loss=0.6112515330314636\n",
            "epoch 8: loss=0.6102280616760254\n",
            "epoch 9: loss=0.6092080473899841\n",
            "epoch 10: loss=0.6081910729408264\n",
            "epoch 11: loss=0.6071775555610657\n",
            "epoch 12: loss=0.606167733669281\n",
            "epoch 13: loss=0.6051608920097351\n",
            "epoch 14: loss=0.604157567024231\n",
            "epoch 15: loss=0.6031574606895447\n",
            "epoch 16: loss=0.602160632610321\n",
            "epoch 17: loss=0.6011670827865601\n",
            "epoch 18: loss=0.6001767516136169\n",
            "epoch 19: loss=0.599189817905426\n",
            "epoch 20: loss=0.5982059240341187\n",
            "epoch 21: loss=0.5972254276275635\n",
            "epoch 22: loss=0.5962479114532471\n",
            "epoch 23: loss=0.5952739119529724\n",
            "epoch 24: loss=0.5943028926849365\n",
            "epoch 25: loss=0.5933352112770081\n",
            "epoch 26: loss=0.5923705101013184\n",
            "epoch 27: loss=0.5914090275764465\n",
            "epoch 28: loss=0.5904508829116821\n",
            "epoch 29: loss=0.5894957184791565\n",
            "epoch 30: loss=0.588543713092804\n",
            "epoch 31: loss=0.5875945687294006\n",
            "epoch 32: loss=0.5866488218307495\n",
            "epoch 33: loss=0.5857059955596924\n",
            "epoch 34: loss=0.5847664475440979\n",
            "epoch 35: loss=0.5838297009468079\n",
            "epoch 36: loss=0.5828962922096252\n",
            "epoch 37: loss=0.5819657444953918\n",
            "epoch 38: loss=0.581038236618042\n",
            "epoch 39: loss=0.5801137685775757\n",
            "epoch 40: loss=0.5791923403739929\n",
            "epoch 41: loss=0.5782737135887146\n",
            "epoch 42: loss=0.577358067035675\n",
            "epoch 43: loss=0.5764455199241638\n",
            "epoch 44: loss=0.5755358934402466\n",
            "epoch 45: loss=0.5746294260025024\n",
            "epoch 46: loss=0.5737255811691284\n",
            "epoch 47: loss=0.5728249549865723\n",
            "epoch 48: loss=0.5719269514083862\n",
            "epoch 49: loss=0.5710318088531494\n",
            "epoch 50: loss=0.5701398849487305\n",
            "epoch 51: loss=0.5692505240440369\n",
            "epoch 52: loss=0.5683643221855164\n",
            "epoch 53: loss=0.5674808621406555\n",
            "epoch 54: loss=0.5666001439094543\n",
            "epoch 55: loss=0.5657223463058472\n",
            "epoch 56: loss=0.5648474097251892\n",
            "epoch 57: loss=0.5639750957489014\n",
            "epoch 58: loss=0.5631057620048523\n",
            "epoch 59: loss=0.5622392892837524\n",
            "epoch 60: loss=0.561375617980957\n",
            "epoch 61: loss=0.5605144500732422\n",
            "epoch 62: loss=0.5596560835838318\n",
            "epoch 63: loss=0.5588006973266602\n",
            "epoch 64: loss=0.5579478144645691\n",
            "epoch 65: loss=0.5570977330207825\n",
            "epoch 66: loss=0.5562503933906555\n",
            "epoch 67: loss=0.5554057955741882\n",
            "epoch 68: loss=0.5545637011528015\n",
            "epoch 69: loss=0.5537243485450745\n",
            "epoch 70: loss=0.5528878569602966\n",
            "epoch 71: loss=0.5520538687705994\n",
            "epoch 72: loss=0.5512227416038513\n",
            "epoch 73: loss=0.5503940582275391\n",
            "epoch 74: loss=0.5495679378509521\n",
            "epoch 75: loss=0.5487444996833801\n",
            "epoch 76: loss=0.5479238629341125\n",
            "epoch 77: loss=0.5471054911613464\n",
            "epoch 78: loss=0.5462900400161743\n",
            "epoch 79: loss=0.5454771518707275\n",
            "epoch 80: loss=0.5446667671203613\n",
            "epoch 81: loss=0.5438589453697205\n",
            "epoch 82: loss=0.5430535674095154\n",
            "epoch 83: loss=0.5422506928443909\n",
            "epoch 84: loss=0.5414506196975708\n",
            "epoch 85: loss=0.5406527519226074\n",
            "epoch 86: loss=0.5398576855659485\n",
            "epoch 87: loss=0.5390648245811462\n",
            "epoch 88: loss=0.5382746458053589\n",
            "epoch 89: loss=0.5374867916107178\n",
            "epoch 90: loss=0.5367016792297363\n",
            "epoch 91: loss=0.535918653011322\n",
            "epoch 92: loss=0.5351383686065674\n",
            "epoch 93: loss=0.5343605279922485\n",
            "epoch 94: loss=0.5335849523544312\n",
            "epoch 95: loss=0.5328119993209839\n",
            "epoch 96: loss=0.5320413112640381\n",
            "epoch 97: loss=0.5312730669975281\n",
            "epoch 98: loss=0.5305072665214539\n",
            "epoch 99: loss=0.5297438502311707\n",
            "epoch 100: loss=0.5289824604988098\n",
            "epoch 101: loss=0.5282240509986877\n",
            "epoch 102: loss=0.5274677872657776\n",
            "epoch 103: loss=0.5267136693000793\n",
            "epoch 104: loss=0.5259618759155273\n",
            "epoch 105: loss=0.5252127647399902\n",
            "epoch 106: loss=0.524465799331665\n",
            "epoch 107: loss=0.5237209796905518\n",
            "epoch 108: loss=0.5229786038398743\n",
            "epoch 109: loss=0.5222384929656982\n",
            "epoch 110: loss=0.5215004682540894\n",
            "epoch 111: loss=0.5207651257514954\n",
            "epoch 112: loss=0.5200319290161133\n",
            "epoch 113: loss=0.5193008184432983\n",
            "epoch 114: loss=0.5185720324516296\n",
            "epoch 115: loss=0.5178455114364624\n",
            "epoch 116: loss=0.5171211361885071\n",
            "epoch 117: loss=0.5163991451263428\n",
            "epoch 118: loss=0.5156794190406799\n",
            "epoch 119: loss=0.5149617791175842\n",
            "epoch 120: loss=0.5142462253570557\n",
            "epoch 121: loss=0.5135331153869629\n",
            "epoch 122: loss=0.5128219723701477\n",
            "epoch 123: loss=0.5121132135391235\n",
            "epoch 124: loss=0.5114063024520874\n",
            "epoch 125: loss=0.5107016563415527\n",
            "epoch 126: loss=0.5099992752075195\n",
            "epoch 127: loss=0.5092989206314087\n",
            "epoch 128: loss=0.5086007714271545\n",
            "epoch 129: loss=0.5079045295715332\n",
            "epoch 130: loss=0.5072106122970581\n",
            "epoch 131: loss=0.5065188407897949\n",
            "epoch 132: loss=0.5058292150497437\n",
            "epoch 133: loss=0.5051414966583252\n",
            "epoch 134: loss=0.5044559240341187\n",
            "epoch 135: loss=0.5037723779678345\n",
            "epoch 136: loss=0.5030909180641174\n",
            "epoch 137: loss=0.5024116039276123\n",
            "epoch 138: loss=0.5017342567443848\n",
            "epoch 139: loss=0.50105881690979\n",
            "epoch 140: loss=0.5003856420516968\n",
            "epoch 141: loss=0.4997144341468811\n",
            "epoch 142: loss=0.4990452826023102\n",
            "epoch 143: loss=0.49837803840637207\n",
            "epoch 144: loss=0.4977127015590668\n",
            "epoch 145: loss=0.497049480676651\n",
            "epoch 146: loss=0.4963882863521576\n",
            "epoch 147: loss=0.49572890996932983\n",
            "epoch 148: loss=0.49507153034210205\n",
            "epoch 149: loss=0.49441614747047424\n",
            "epoch 150: loss=0.4937628209590912\n",
            "epoch 151: loss=0.49311134219169617\n",
            "epoch 152: loss=0.49246203899383545\n",
            "epoch 153: loss=0.49181443452835083\n",
            "epoch 154: loss=0.4911685883998871\n",
            "epoch 155: loss=0.49052485823631287\n",
            "epoch 156: loss=0.48988306522369385\n",
            "epoch 157: loss=0.48924314975738525\n",
            "epoch 158: loss=0.4886051118373871\n",
            "epoch 159: loss=0.48796898126602173\n",
            "epoch 160: loss=0.487334668636322\n",
            "epoch 161: loss=0.4867023527622223\n",
            "epoch 162: loss=0.4860716760158539\n",
            "epoch 163: loss=0.4854430854320526\n",
            "epoch 164: loss=0.4848161041736603\n",
            "epoch 165: loss=0.4841911196708679\n",
            "epoch 166: loss=0.4835679233074188\n",
            "epoch 167: loss=0.4829466640949249\n",
            "epoch 168: loss=0.4823271632194519\n",
            "epoch 169: loss=0.4817095100879669\n",
            "epoch 170: loss=0.48109352588653564\n",
            "epoch 171: loss=0.48047950863838196\n",
            "epoch 172: loss=0.47986698150634766\n",
            "epoch 173: loss=0.47925662994384766\n",
            "epoch 174: loss=0.47864776849746704\n",
            "epoch 175: loss=0.478040874004364\n",
            "epoch 176: loss=0.4774356782436371\n",
            "epoch 177: loss=0.47683224081993103\n",
            "epoch 178: loss=0.47623059153556824\n",
            "epoch 179: loss=0.4756303131580353\n",
            "epoch 180: loss=0.4750322997570038\n",
            "epoch 181: loss=0.47443583607673645\n",
            "epoch 182: loss=0.4738411605358124\n",
            "epoch 183: loss=0.47324806451797485\n",
            "epoch 184: loss=0.4726565480232239\n",
            "epoch 185: loss=0.47206705808639526\n",
            "epoch 186: loss=0.4714791476726532\n",
            "epoch 187: loss=0.47089287638664246\n",
            "epoch 188: loss=0.47030842304229736\n",
            "epoch 189: loss=0.4697253704071045\n",
            "epoch 190: loss=0.4691442549228668\n",
            "epoch 191: loss=0.4685647487640381\n",
            "epoch 192: loss=0.46798667311668396\n",
            "epoch 193: loss=0.46741050481796265\n",
            "epoch 194: loss=0.4668358266353607\n",
            "epoch 195: loss=0.46626290678977966\n",
            "epoch 196: loss=0.4656916558742523\n",
            "epoch 197: loss=0.4651219844818115\n",
            "epoch 198: loss=0.4645538330078125\n",
            "epoch 199: loss=0.46398746967315674\n",
            "epoch 200: loss=0.46342262625694275\n",
            "epoch 201: loss=0.46285927295684814\n",
            "epoch 202: loss=0.4622977077960968\n",
            "epoch 203: loss=0.46173766255378723\n",
            "epoch 204: loss=0.4611791968345642\n",
            "epoch 205: loss=0.46062225103378296\n",
            "epoch 206: loss=0.46006691455841064\n",
            "epoch 207: loss=0.45951324701309204\n",
            "epoch 208: loss=0.4589608311653137\n",
            "epoch 209: loss=0.45841044187545776\n",
            "epoch 210: loss=0.45786118507385254\n",
            "epoch 211: loss=0.4573136270046234\n",
            "epoch 212: loss=0.45676758885383606\n",
            "epoch 213: loss=0.45622318983078003\n",
            "epoch 214: loss=0.45568016171455383\n",
            "epoch 215: loss=0.4551387131214142\n",
            "epoch 216: loss=0.45459869503974915\n",
            "epoch 217: loss=0.45406028628349304\n",
            "epoch 218: loss=0.4535233974456787\n",
            "epoch 219: loss=0.4529879093170166\n",
            "epoch 220: loss=0.4524538516998291\n",
            "epoch 221: loss=0.4519214332103729\n",
            "epoch 222: loss=0.4513905346393585\n",
            "epoch 223: loss=0.4508609473705292\n",
            "epoch 224: loss=0.4503328800201416\n",
            "epoch 225: loss=0.4498063027858734\n",
            "epoch 226: loss=0.44928112626075745\n",
            "epoch 227: loss=0.44875743985176086\n",
            "epoch 228: loss=0.44823524355888367\n",
            "epoch 229: loss=0.4477144181728363\n",
            "epoch 230: loss=0.4471950829029083\n",
            "epoch 231: loss=0.44667720794677734\n",
            "epoch 232: loss=0.4461606740951538\n",
            "epoch 233: loss=0.4456455707550049\n",
            "epoch 234: loss=0.4451318681240082\n",
            "epoch 235: loss=0.4446195662021637\n",
            "epoch 236: loss=0.4441088140010834\n",
            "epoch 237: loss=0.4435991942882538\n",
            "epoch 238: loss=0.4430912137031555\n",
            "epoch 239: loss=0.44258439540863037\n",
            "epoch 240: loss=0.44207894802093506\n",
            "epoch 241: loss=0.44157522916793823\n",
            "epoch 242: loss=0.4410724639892578\n",
            "epoch 243: loss=0.4405713379383087\n",
            "epoch 244: loss=0.4400714933872223\n",
            "epoch 245: loss=0.43957290053367615\n",
            "epoch 246: loss=0.439075767993927\n",
            "epoch 247: loss=0.43858012557029724\n",
            "epoch 248: loss=0.438085675239563\n",
            "epoch 249: loss=0.437592476606369\n",
            "epoch 250: loss=0.43710052967071533\n",
            "epoch 251: loss=0.4366101324558258\n",
            "epoch 252: loss=0.4361210763454437\n",
            "epoch 253: loss=0.4356331527233124\n",
            "epoch 254: loss=0.4351467490196228\n",
            "epoch 255: loss=0.4346614480018616\n",
            "epoch 256: loss=0.4341774880886078\n",
            "epoch 257: loss=0.43369483947753906\n",
            "epoch 258: loss=0.43321359157562256\n",
            "epoch 259: loss=0.43273353576660156\n",
            "epoch 260: loss=0.43225476145744324\n",
            "epoch 261: loss=0.43177711963653564\n",
            "epoch 262: loss=0.43130093812942505\n",
            "epoch 263: loss=0.4308260381221771\n",
            "epoch 264: loss=0.4303523004055023\n",
            "epoch 265: loss=0.4298797845840454\n",
            "epoch 266: loss=0.4294084906578064\n",
            "epoch 267: loss=0.42893868684768677\n",
            "epoch 268: loss=0.42847001552581787\n",
            "epoch 269: loss=0.4280024766921997\n",
            "epoch 270: loss=0.4275362491607666\n",
            "epoch 271: loss=0.42707115411758423\n",
            "epoch 272: loss=0.42660748958587646\n",
            "epoch 273: loss=0.4261449873447418\n",
            "epoch 274: loss=0.42568355798721313\n",
            "epoch 275: loss=0.42522352933883667\n",
            "epoch 276: loss=0.42476463317871094\n",
            "epoch 277: loss=0.42430704832077026\n",
            "epoch 278: loss=0.42385023832321167\n",
            "epoch 279: loss=0.4233950078487396\n",
            "epoch 280: loss=0.42294082045555115\n",
            "epoch 281: loss=0.42248794436454773\n",
            "epoch 282: loss=0.42203617095947266\n",
            "epoch 283: loss=0.4215855896472931\n",
            "epoch 284: loss=0.42113614082336426\n",
            "epoch 285: loss=0.42068779468536377\n",
            "epoch 286: loss=0.4202407896518707\n",
            "epoch 287: loss=0.4197949469089508\n",
            "epoch 288: loss=0.4193502366542816\n",
            "epoch 289: loss=0.41890639066696167\n",
            "epoch 290: loss=0.41846397519111633\n",
            "epoch 291: loss=0.41802260279655457\n",
            "epoch 292: loss=0.4175826609134674\n",
            "epoch 293: loss=0.4171435236930847\n",
            "epoch 294: loss=0.4167054295539856\n",
            "epoch 295: loss=0.4162687063217163\n",
            "epoch 296: loss=0.41583287715911865\n",
            "epoch 297: loss=0.4153984785079956\n",
            "epoch 298: loss=0.4149649739265442\n",
            "epoch 299: loss=0.4145326316356659\n",
            "epoch 300: loss=0.41410133242607117\n",
            "epoch 301: loss=0.4136713147163391\n",
            "epoch 302: loss=0.4132422208786011\n",
            "epoch 303: loss=0.4128142297267914\n",
            "epoch 304: loss=0.4123874604701996\n",
            "epoch 305: loss=0.4119616448879242\n",
            "epoch 306: loss=0.4115370213985443\n",
            "epoch 307: loss=0.41111335158348083\n",
            "epoch 308: loss=0.4106908440589905\n",
            "epoch 309: loss=0.4102693796157837\n",
            "epoch 310: loss=0.40984901785850525\n",
            "epoch 311: loss=0.4094295799732208\n",
            "epoch 312: loss=0.4090114235877991\n",
            "epoch 313: loss=0.4085941016674042\n",
            "epoch 314: loss=0.40817803144454956\n",
            "epoch 315: loss=0.4077627956867218\n",
            "epoch 316: loss=0.40734875202178955\n",
            "epoch 317: loss=0.40693560242652893\n",
            "epoch 318: loss=0.40652385354042053\n",
            "epoch 319: loss=0.40611281991004944\n",
            "epoch 320: loss=0.40570276975631714\n",
            "epoch 321: loss=0.40529385209083557\n",
            "epoch 322: loss=0.40488606691360474\n",
            "epoch 323: loss=0.40447911620140076\n",
            "epoch 324: loss=0.4040732681751251\n",
            "epoch 325: loss=0.4036683738231659\n",
            "epoch 326: loss=0.40326446294784546\n",
            "epoch 327: loss=0.4028615951538086\n",
            "epoch 328: loss=0.40245985984802246\n",
            "epoch 329: loss=0.40205898880958557\n",
            "epoch 330: loss=0.40165916085243225\n",
            "epoch 331: loss=0.40126025676727295\n",
            "epoch 332: loss=0.400862455368042\n",
            "epoch 333: loss=0.4004655182361603\n",
            "epoch 334: loss=0.4000696539878845\n",
            "epoch 335: loss=0.399674654006958\n",
            "epoch 336: loss=0.3992806673049927\n",
            "epoch 337: loss=0.39888766407966614\n",
            "epoch 338: loss=0.39849549531936646\n",
            "epoch 339: loss=0.39810463786125183\n",
            "epoch 340: loss=0.3977143168449402\n",
            "epoch 341: loss=0.3973252475261688\n",
            "epoch 342: loss=0.3969371020793915\n",
            "epoch 343: loss=0.396549791097641\n",
            "epoch 344: loss=0.3961635231971741\n",
            "epoch 345: loss=0.3957781493663788\n",
            "epoch 346: loss=0.39539361000061035\n",
            "epoch 347: loss=0.39501017332077026\n",
            "epoch 348: loss=0.39462757110595703\n",
            "epoch 349: loss=0.3942459523677826\n",
            "epoch 350: loss=0.3938651978969574\n",
            "epoch 351: loss=0.3934853672981262\n",
            "epoch 352: loss=0.39310649037361145\n",
            "epoch 353: loss=0.3927285373210907\n",
            "epoch 354: loss=0.39235150814056396\n",
            "epoch 355: loss=0.39197540283203125\n",
            "epoch 356: loss=0.39160001277923584\n",
            "epoch 357: loss=0.39122581481933594\n",
            "epoch 358: loss=0.3908523619174957\n",
            "epoch 359: loss=0.3904797434806824\n",
            "epoch 360: loss=0.3901081383228302\n",
            "epoch 361: loss=0.3897373676300049\n",
            "epoch 362: loss=0.38936755061149597\n",
            "epoch 363: loss=0.38899853825569153\n",
            "epoch 364: loss=0.3886304199695587\n",
            "epoch 365: loss=0.38826319575309753\n",
            "epoch 366: loss=0.38789692521095276\n",
            "epoch 367: loss=0.38753142952919006\n",
            "epoch 368: loss=0.3871667981147766\n",
            "epoch 369: loss=0.38680294156074524\n",
            "epoch 370: loss=0.386440247297287\n",
            "epoch 371: loss=0.3860781490802765\n",
            "epoch 372: loss=0.38571697473526\n",
            "epoch 373: loss=0.38535675406455994\n",
            "epoch 374: loss=0.3849973678588867\n",
            "epoch 375: loss=0.3846386969089508\n",
            "epoch 376: loss=0.3842810094356537\n",
            "epoch 377: loss=0.38392409682273865\n",
            "epoch 378: loss=0.3835679590702057\n",
            "epoch 379: loss=0.3832126259803772\n",
            "epoch 380: loss=0.38285839557647705\n",
            "epoch 381: loss=0.38250482082366943\n",
            "epoch 382: loss=0.3821520507335663\n",
            "epoch 383: loss=0.3818000853061676\n",
            "epoch 384: loss=0.3814489245414734\n",
            "epoch 385: loss=0.3810987174510956\n",
            "epoch 386: loss=0.3807491958141327\n",
            "epoch 387: loss=0.3804006576538086\n",
            "epoch 388: loss=0.3800526559352875\n",
            "epoch 389: loss=0.3797057271003723\n",
            "epoch 390: loss=0.37935951352119446\n",
            "epoch 391: loss=0.37901413440704346\n",
            "epoch 392: loss=0.37866947054862976\n",
            "epoch 393: loss=0.3783257305622101\n",
            "epoch 394: loss=0.37798264622688293\n",
            "epoch 395: loss=0.37764036655426025\n",
            "epoch 396: loss=0.37729892134666443\n",
            "epoch 397: loss=0.37695834040641785\n",
            "epoch 398: loss=0.3766184151172638\n",
            "epoch 399: loss=0.3762792944908142\n",
            "epoch 400: loss=0.37594103813171387\n",
            "epoch 401: loss=0.37560349702835083\n",
            "epoch 402: loss=0.37526679039001465\n",
            "epoch 403: loss=0.37493079900741577\n",
            "epoch 404: loss=0.3745954930782318\n",
            "epoch 405: loss=0.3742610812187195\n",
            "epoch 406: loss=0.37392738461494446\n",
            "epoch 407: loss=0.37359458208084106\n",
            "epoch 408: loss=0.37326228618621826\n",
            "epoch 409: loss=0.3729308843612671\n",
            "epoch 410: loss=0.3726001977920532\n",
            "epoch 411: loss=0.372270405292511\n",
            "epoch 412: loss=0.3719412684440613\n",
            "epoch 413: loss=0.3716128170490265\n",
            "epoch 414: loss=0.371285080909729\n",
            "epoch 415: loss=0.37095823884010315\n",
            "epoch 416: loss=0.37063202261924744\n",
            "epoch 417: loss=0.3703065514564514\n",
            "epoch 418: loss=0.36998191475868225\n",
            "epoch 419: loss=0.3696579039096832\n",
            "epoch 420: loss=0.36933472752571106\n",
            "epoch 421: loss=0.36901217699050903\n",
            "epoch 422: loss=0.3686903715133667\n",
            "epoch 423: loss=0.36836928129196167\n",
            "epoch 424: loss=0.36804890632629395\n",
            "epoch 425: loss=0.3677292764186859\n",
            "epoch 426: loss=0.3674103915691376\n",
            "epoch 427: loss=0.3670922517776489\n",
            "epoch 428: loss=0.3667745590209961\n",
            "epoch 429: loss=0.36645781993865967\n",
            "epoch 430: loss=0.3661418557167053\n",
            "epoch 431: loss=0.36582642793655396\n",
            "epoch 432: loss=0.3655116558074951\n",
            "epoch 433: loss=0.36519771814346313\n",
            "epoch 434: loss=0.3648844063282013\n",
            "epoch 435: loss=0.3645719587802887\n",
            "epoch 436: loss=0.36425986886024475\n",
            "epoch 437: loss=0.36394867300987244\n",
            "epoch 438: loss=0.36363810300827026\n",
            "epoch 439: loss=0.36332833766937256\n",
            "epoch 440: loss=0.3630192279815674\n",
            "epoch 441: loss=0.3627106845378876\n",
            "epoch 442: loss=0.36240288615226746\n",
            "epoch 443: loss=0.36209580302238464\n",
            "epoch 444: loss=0.36178919672966003\n",
            "epoch 445: loss=0.3614836037158966\n",
            "epoch 446: loss=0.3611784875392914\n",
            "epoch 447: loss=0.3608740270137787\n",
            "epoch 448: loss=0.36057013273239136\n",
            "epoch 449: loss=0.36026713252067566\n",
            "epoch 450: loss=0.3599647879600525\n",
            "epoch 451: loss=0.3596627712249756\n",
            "epoch 452: loss=0.3593617379665375\n",
            "epoch 453: loss=0.35906121134757996\n",
            "epoch 454: loss=0.35876142978668213\n",
            "epoch 455: loss=0.35846224427223206\n",
            "epoch 456: loss=0.3581637144088745\n",
            "epoch 457: loss=0.35786575078964233\n",
            "epoch 458: loss=0.3575686514377594\n",
            "epoch 459: loss=0.3572719991207123\n",
            "epoch 460: loss=0.3569760024547577\n",
            "epoch 461: loss=0.3566807508468628\n",
            "epoch 462: loss=0.3563860356807709\n",
            "epoch 463: loss=0.35609206557273865\n",
            "epoch 464: loss=0.35579854249954224\n",
            "epoch 465: loss=0.35550570487976074\n",
            "epoch 466: loss=0.35521361231803894\n",
            "epoch 467: loss=0.35492220520973206\n",
            "epoch 468: loss=0.35463112592697144\n",
            "epoch 469: loss=0.35434094071388245\n",
            "epoch 470: loss=0.35405123233795166\n",
            "epoch 471: loss=0.35376226902008057\n",
            "epoch 472: loss=0.3534739017486572\n",
            "epoch 473: loss=0.3531859517097473\n",
            "epoch 474: loss=0.3528987765312195\n",
            "epoch 475: loss=0.3526122272014618\n",
            "epoch 476: loss=0.3523262143135071\n",
            "epoch 477: loss=0.3520407974720001\n",
            "epoch 478: loss=0.35175594687461853\n",
            "epoch 479: loss=0.351471871137619\n",
            "epoch 480: loss=0.3511882722377777\n",
            "epoch 481: loss=0.35090532898902893\n",
            "epoch 482: loss=0.3506229519844055\n",
            "epoch 483: loss=0.35034120082855225\n",
            "epoch 484: loss=0.35006001591682434\n",
            "epoch 485: loss=0.34977948665618896\n",
            "epoch 486: loss=0.34949952363967896\n",
            "epoch 487: loss=0.3492198884487152\n",
            "epoch 488: loss=0.34894120693206787\n",
            "epoch 489: loss=0.34866294264793396\n",
            "epoch 490: loss=0.3483852446079254\n",
            "epoch 491: loss=0.348108172416687\n",
            "epoch 492: loss=0.34783169627189636\n",
            "epoch 493: loss=0.3475556969642639\n",
            "epoch 494: loss=0.3472804129123688\n",
            "epoch 495: loss=0.34700560569763184\n",
            "epoch 496: loss=0.3467313051223755\n",
            "epoch 497: loss=0.3464578688144684\n",
            "epoch 498: loss=0.346184641122818\n",
            "epoch 499: loss=0.3459121286869049\n",
            "epoch 500: loss=0.34564027190208435\n",
            "epoch 501: loss=0.345368891954422\n",
            "epoch 502: loss=0.3450981378555298\n",
            "epoch 503: loss=0.34482792019844055\n",
            "epoch 504: loss=0.34455811977386475\n",
            "epoch 505: loss=0.34428897500038147\n",
            "epoch 506: loss=0.34402039647102356\n",
            "epoch 507: loss=0.34375235438346863\n",
            "epoch 508: loss=0.34348490834236145\n",
            "epoch 509: loss=0.3432179391384125\n",
            "epoch 510: loss=0.34295162558555603\n",
            "epoch 511: loss=0.3426858186721802\n",
            "epoch 512: loss=0.3424203395843506\n",
            "epoch 513: loss=0.3421556353569031\n",
            "epoch 514: loss=0.34189143776893616\n",
            "epoch 515: loss=0.3416278064250946\n",
            "epoch 516: loss=0.3413645923137665\n",
            "epoch 517: loss=0.3411019444465637\n",
            "epoch 518: loss=0.34084004163742065\n",
            "epoch 519: loss=0.3405783772468567\n",
            "epoch 520: loss=0.3403174877166748\n",
            "epoch 521: loss=0.34005698561668396\n",
            "epoch 522: loss=0.3397969901561737\n",
            "epoch 523: loss=0.3395375907421112\n",
            "epoch 524: loss=0.3392787575721741\n",
            "epoch 525: loss=0.339020311832428\n",
            "epoch 526: loss=0.33876246213912964\n",
            "epoch 527: loss=0.33850517868995667\n",
            "epoch 528: loss=0.33824828267097473\n",
            "epoch 529: loss=0.3379921317100525\n",
            "epoch 530: loss=0.3377362787723541\n",
            "epoch 531: loss=0.33748099207878113\n",
            "epoch 532: loss=0.33722636103630066\n",
            "epoch 533: loss=0.3369719982147217\n",
            "epoch 534: loss=0.3367183208465576\n",
            "epoch 535: loss=0.3364649713039398\n",
            "epoch 536: loss=0.33621230721473694\n",
            "epoch 537: loss=0.33596011996269226\n",
            "epoch 538: loss=0.3357083797454834\n",
            "epoch 539: loss=0.3354572355747223\n",
            "epoch 540: loss=0.3352064788341522\n",
            "epoch 541: loss=0.33495619893074036\n",
            "epoch 542: loss=0.33470645546913147\n",
            "epoch 543: loss=0.33445727825164795\n",
            "epoch 544: loss=0.3342086374759674\n",
            "epoch 545: loss=0.3339603841304779\n",
            "epoch 546: loss=0.33371248841285706\n",
            "epoch 547: loss=0.3334653079509735\n",
            "epoch 548: loss=0.3332185745239258\n",
            "epoch 549: loss=0.3329722583293915\n",
            "epoch 550: loss=0.332726389169693\n",
            "epoch 551: loss=0.33248111605644226\n",
            "epoch 552: loss=0.33223628997802734\n",
            "epoch 553: loss=0.331991970539093\n",
            "epoch 554: loss=0.3317481279373169\n",
            "epoch 555: loss=0.33150479197502136\n",
            "epoch 556: loss=0.3312618136405945\n",
            "epoch 557: loss=0.33101943135261536\n",
            "epoch 558: loss=0.33077743649482727\n",
            "epoch 559: loss=0.3305359184741974\n",
            "epoch 560: loss=0.3302949070930481\n",
            "epoch 561: loss=0.33005425333976746\n",
            "epoch 562: loss=0.32981425523757935\n",
            "epoch 563: loss=0.3295745849609375\n",
            "epoch 564: loss=0.32933560013771057\n",
            "epoch 565: loss=0.32909679412841797\n",
            "epoch 566: loss=0.3288586437702179\n",
            "epoch 567: loss=0.3286207616329193\n",
            "epoch 568: loss=0.32838356494903564\n",
            "epoch 569: loss=0.32814663648605347\n",
            "epoch 570: loss=0.32791030406951904\n",
            "epoch 571: loss=0.32767435908317566\n",
            "epoch 572: loss=0.3274388611316681\n",
            "epoch 573: loss=0.32720378041267395\n",
            "epoch 574: loss=0.3269692659378052\n",
            "epoch 575: loss=0.32673510909080505\n",
            "epoch 576: loss=0.3265014588832855\n",
            "epoch 577: loss=0.3262682259082794\n",
            "epoch 578: loss=0.3260354995727539\n",
            "epoch 579: loss=0.32580316066741943\n",
            "epoch 580: loss=0.32557129859924316\n",
            "epoch 581: loss=0.3253398537635803\n",
            "epoch 582: loss=0.3251088261604309\n",
            "epoch 583: loss=0.3248782753944397\n",
            "epoch 584: loss=0.3246481716632843\n",
            "epoch 585: loss=0.32441848516464233\n",
            "epoch 586: loss=0.3241891860961914\n",
            "epoch 587: loss=0.32396042346954346\n",
            "epoch 588: loss=0.32373207807540894\n",
            "epoch 589: loss=0.32350409030914307\n",
            "epoch 590: loss=0.3232766091823578\n",
            "epoch 591: loss=0.32304951548576355\n",
            "epoch 592: loss=0.32282280921936035\n",
            "epoch 593: loss=0.32259663939476013\n",
            "epoch 594: loss=0.3223707973957062\n",
            "epoch 595: loss=0.3221454620361328\n",
            "epoch 596: loss=0.3219205439090729\n",
            "epoch 597: loss=0.32169604301452637\n",
            "epoch 598: loss=0.3214719295501709\n",
            "epoch 599: loss=0.32124829292297363\n",
            "epoch 600: loss=0.32102492451667786\n",
            "epoch 601: loss=0.3208022713661194\n",
            "epoch 602: loss=0.3205796778202057\n",
            "epoch 603: loss=0.3203578293323517\n",
            "epoch 604: loss=0.3201361894607544\n",
            "epoch 605: loss=0.3199150562286377\n",
            "epoch 606: loss=0.3196941316127777\n",
            "epoch 607: loss=0.3194738030433655\n",
            "epoch 608: loss=0.3192538917064667\n",
            "epoch 609: loss=0.3190343379974365\n",
            "epoch 610: loss=0.318815141916275\n",
            "epoch 611: loss=0.3185964822769165\n",
            "epoch 612: loss=0.3183782398700714\n",
            "epoch 613: loss=0.3181602656841278\n",
            "epoch 614: loss=0.31794273853302\n",
            "epoch 615: loss=0.31772562861442566\n",
            "epoch 616: loss=0.3175089955329895\n",
            "epoch 617: loss=0.317292720079422\n",
            "epoch 618: loss=0.3170766532421112\n",
            "epoch 619: loss=0.31686127185821533\n",
            "epoch 620: loss=0.31664618849754333\n",
            "epoch 621: loss=0.3164314329624176\n",
            "epoch 622: loss=0.3162170946598053\n",
            "epoch 623: loss=0.3160032331943512\n",
            "epoch 624: loss=0.3157895505428314\n",
            "epoch 625: loss=0.315576434135437\n",
            "epoch 626: loss=0.31536370515823364\n",
            "epoch 627: loss=0.3151513338088989\n",
            "epoch 628: loss=0.3149394094944\n",
            "epoch 629: loss=0.3147277235984802\n",
            "epoch 630: loss=0.314516544342041\n",
            "epoch 631: loss=0.31430575251579285\n",
            "epoch 632: loss=0.31409531831741333\n",
            "epoch 633: loss=0.3138852119445801\n",
            "epoch 634: loss=0.3136756420135498\n",
            "epoch 635: loss=0.31346622109413147\n",
            "epoch 636: loss=0.3132573366165161\n",
            "epoch 637: loss=0.313048779964447\n",
            "epoch 638: loss=0.31284067034721375\n",
            "epoch 639: loss=0.3126329183578491\n",
            "epoch 640: loss=0.312425434589386\n",
            "epoch 641: loss=0.31221848726272583\n",
            "epoch 642: loss=0.3120117485523224\n",
            "epoch 643: loss=0.3118055462837219\n",
            "epoch 644: loss=0.3115994930267334\n",
            "epoch 645: loss=0.31139397621154785\n",
            "epoch 646: loss=0.31118881702423096\n",
            "epoch 647: loss=0.3109840452671051\n",
            "epoch 648: loss=0.3107796013355255\n",
            "epoch 649: loss=0.3105754554271698\n",
            "epoch 650: loss=0.31037193536758423\n",
            "epoch 651: loss=0.31016844511032104\n",
            "epoch 652: loss=0.30996549129486084\n",
            "epoch 653: loss=0.3097628355026245\n",
            "epoch 654: loss=0.3095605969429016\n",
            "epoch 655: loss=0.30935874581336975\n",
            "epoch 656: loss=0.30915719270706177\n",
            "epoch 657: loss=0.30895599722862244\n",
            "epoch 658: loss=0.308755099773407\n",
            "epoch 659: loss=0.30855467915534973\n",
            "epoch 660: loss=0.30835455656051636\n",
            "epoch 661: loss=0.3081548511981964\n",
            "epoch 662: loss=0.30795541405677795\n",
            "epoch 663: loss=0.30775636434555054\n",
            "epoch 664: loss=0.3075575828552246\n",
            "epoch 665: loss=0.3073593080043793\n",
            "epoch 666: loss=0.3071613311767578\n",
            "epoch 667: loss=0.3069636821746826\n",
            "epoch 668: loss=0.3067662715911865\n",
            "epoch 669: loss=0.30656933784484863\n",
            "epoch 670: loss=0.30637282133102417\n",
            "epoch 671: loss=0.30617648363113403\n",
            "epoch 672: loss=0.3059805929660797\n",
            "epoch 673: loss=0.3057849407196045\n",
            "epoch 674: loss=0.3055897355079651\n",
            "epoch 675: loss=0.3053949177265167\n",
            "epoch 676: loss=0.30520033836364746\n",
            "epoch 677: loss=0.30500611662864685\n",
            "epoch 678: loss=0.3048121929168701\n",
            "epoch 679: loss=0.30461862683296204\n",
            "epoch 680: loss=0.3044254183769226\n",
            "epoch 681: loss=0.3042326867580414\n",
            "epoch 682: loss=0.3040400445461273\n",
            "epoch 683: loss=0.30384787917137146\n",
            "epoch 684: loss=0.3036560118198395\n",
            "epoch 685: loss=0.30346444249153137\n",
            "epoch 686: loss=0.30327317118644714\n",
            "epoch 687: loss=0.30308234691619873\n",
            "epoch 688: loss=0.3028918206691742\n",
            "epoch 689: loss=0.30270150303840637\n",
            "epoch 690: loss=0.30251166224479675\n",
            "epoch 691: loss=0.302322119474411\n",
            "epoch 692: loss=0.30213287472724915\n",
            "epoch 693: loss=0.30194395780563354\n",
            "epoch 694: loss=0.3017553389072418\n",
            "epoch 695: loss=0.3015671670436859\n",
            "epoch 696: loss=0.3013792037963867\n",
            "epoch 697: loss=0.3011915683746338\n",
            "epoch 698: loss=0.3010042905807495\n",
            "epoch 699: loss=0.3008173108100891\n",
            "epoch 700: loss=0.30063068866729736\n",
            "epoch 701: loss=0.3004443645477295\n",
            "epoch 702: loss=0.3002582788467407\n",
            "epoch 703: loss=0.300072580575943\n",
            "epoch 704: loss=0.2998872697353363\n",
            "epoch 705: loss=0.29970210790634155\n",
            "epoch 706: loss=0.299517422914505\n",
            "epoch 707: loss=0.2993329167366028\n",
            "epoch 708: loss=0.299148827791214\n",
            "epoch 709: loss=0.2989649176597595\n",
            "epoch 710: loss=0.29878148436546326\n",
            "epoch 711: loss=0.2985983192920685\n",
            "epoch 712: loss=0.2984153628349304\n",
            "epoch 713: loss=0.298232764005661\n",
            "epoch 714: loss=0.29805052280426025\n",
            "epoch 715: loss=0.29786860942840576\n",
            "epoch 716: loss=0.29768693447113037\n",
            "epoch 717: loss=0.29750561714172363\n",
            "epoch 718: loss=0.2973245084285736\n",
            "epoch 719: loss=0.297143816947937\n",
            "epoch 720: loss=0.29696333408355713\n",
            "epoch 721: loss=0.2967832088470459\n",
            "epoch 722: loss=0.29660338163375854\n",
            "epoch 723: loss=0.2964238226413727\n",
            "epoch 724: loss=0.29624462127685547\n",
            "epoch 725: loss=0.29606562852859497\n",
            "epoch 726: loss=0.29588696360588074\n",
            "epoch 727: loss=0.29570862650871277\n",
            "epoch 728: loss=0.29553067684173584\n",
            "epoch 729: loss=0.2953529357910156\n",
            "epoch 730: loss=0.2951754331588745\n",
            "epoch 731: loss=0.29499825835227966\n",
            "epoch 732: loss=0.29482144117355347\n",
            "epoch 733: loss=0.29464492201805115\n",
            "epoch 734: loss=0.2944685220718384\n",
            "epoch 735: loss=0.29429250955581665\n",
            "epoch 736: loss=0.29411688446998596\n",
            "epoch 737: loss=0.2939414978027344\n",
            "epoch 738: loss=0.29376640915870667\n",
            "epoch 739: loss=0.29359155893325806\n",
            "epoch 740: loss=0.2934170067310333\n",
            "epoch 741: loss=0.29324275255203247\n",
            "epoch 742: loss=0.2930687665939331\n",
            "epoch 743: loss=0.29289510846138\n",
            "epoch 744: loss=0.2927217185497284\n",
            "epoch 745: loss=0.29254862666130066\n",
            "epoch 746: loss=0.29237574338912964\n",
            "epoch 747: loss=0.2922031879425049\n",
            "epoch 748: loss=0.2920309901237488\n",
            "epoch 749: loss=0.2918590009212494\n",
            "epoch 750: loss=0.2916873097419739\n",
            "epoch 751: loss=0.29151585698127747\n",
            "epoch 752: loss=0.2913447618484497\n",
            "epoch 753: loss=0.29117393493652344\n",
            "epoch 754: loss=0.2910033166408539\n",
            "epoch 755: loss=0.2908329665660858\n",
            "epoch 756: loss=0.2906630039215088\n",
            "epoch 757: loss=0.29049327969551086\n",
            "epoch 758: loss=0.29032376408576965\n",
            "epoch 759: loss=0.2901546359062195\n",
            "epoch 760: loss=0.2899855971336365\n",
            "epoch 761: loss=0.28981703519821167\n",
            "epoch 762: loss=0.2896486520767212\n",
            "epoch 763: loss=0.2894805669784546\n",
            "epoch 764: loss=0.2893126308917999\n",
            "epoch 765: loss=0.2891451120376587\n",
            "epoch 766: loss=0.28897780179977417\n",
            "epoch 767: loss=0.2888107895851135\n",
            "epoch 768: loss=0.2886439859867096\n",
            "epoch 769: loss=0.2884775698184967\n",
            "epoch 770: loss=0.28831130266189575\n",
            "epoch 771: loss=0.28814536333084106\n",
            "epoch 772: loss=0.28797975182533264\n",
            "epoch 773: loss=0.2878141701221466\n",
            "epoch 774: loss=0.28764912486076355\n",
            "epoch 775: loss=0.28748419880867004\n",
            "epoch 776: loss=0.2873196005821228\n",
            "epoch 777: loss=0.28715527057647705\n",
            "epoch 778: loss=0.28699102997779846\n",
            "epoch 779: loss=0.2868272662162781\n",
            "epoch 780: loss=0.2866637110710144\n",
            "epoch 781: loss=0.28650033473968506\n",
            "epoch 782: loss=0.2863372266292572\n",
            "epoch 783: loss=0.2861744165420532\n",
            "epoch 784: loss=0.28601181507110596\n",
            "epoch 785: loss=0.28584957122802734\n",
            "epoch 786: loss=0.28568750619888306\n",
            "epoch 787: loss=0.28552570939064026\n",
            "epoch 788: loss=0.28536418080329895\n",
            "epoch 789: loss=0.2852029800415039\n",
            "epoch 790: loss=0.2850418984889984\n",
            "epoch 791: loss=0.2848811447620392\n",
            "epoch 792: loss=0.2847207188606262\n",
            "epoch 793: loss=0.2845603823661804\n",
            "epoch 794: loss=0.28440049290657043\n",
            "epoch 795: loss=0.28424060344696045\n",
            "epoch 796: loss=0.2840811610221863\n",
            "epoch 797: loss=0.28392189741134644\n",
            "epoch 798: loss=0.28376293182373047\n",
            "epoch 799: loss=0.28360411524772644\n",
            "epoch 800: loss=0.28344565629959106\n",
            "epoch 801: loss=0.28328737616539\n",
            "epoch 802: loss=0.2831293046474457\n",
            "epoch 803: loss=0.2829716205596924\n",
            "epoch 804: loss=0.2828141152858734\n",
            "epoch 805: loss=0.28265678882598877\n",
            "epoch 806: loss=0.2824997901916504\n",
            "epoch 807: loss=0.2823430299758911\n",
            "epoch 808: loss=0.2821864187717438\n",
            "epoch 809: loss=0.2820301651954651\n",
            "epoch 810: loss=0.2818740904331207\n",
            "epoch 811: loss=0.28171828389167786\n",
            "epoch 812: loss=0.28156277537345886\n",
            "epoch 813: loss=0.2814074158668518\n",
            "epoch 814: loss=0.2812522351741791\n",
            "epoch 815: loss=0.2810974419116974\n",
            "epoch 816: loss=0.28094279766082764\n",
            "epoch 817: loss=0.2807884216308594\n",
            "epoch 818: loss=0.2806342840194702\n",
            "epoch 819: loss=0.2804804742336273\n",
            "epoch 820: loss=0.2803266942501068\n",
            "epoch 821: loss=0.28017333149909973\n",
            "epoch 822: loss=0.2800200581550598\n",
            "epoch 823: loss=0.2798670530319214\n",
            "epoch 824: loss=0.279714435338974\n",
            "epoch 825: loss=0.2795618772506714\n",
            "epoch 826: loss=0.2794097661972046\n",
            "epoch 827: loss=0.2792576849460602\n",
            "epoch 828: loss=0.2791058421134949\n",
            "epoch 829: loss=0.27895432710647583\n",
            "epoch 830: loss=0.2788029611110687\n",
            "epoch 831: loss=0.2786518931388855\n",
            "epoch 832: loss=0.2785010039806366\n",
            "epoch 833: loss=0.2783503532409668\n",
            "epoch 834: loss=0.2781999409198761\n",
            "epoch 835: loss=0.2780497968196869\n",
            "epoch 836: loss=0.277899831533432\n",
            "epoch 837: loss=0.27775004506111145\n",
            "epoch 838: loss=0.27760064601898193\n",
            "epoch 839: loss=0.2774512767791748\n",
            "epoch 840: loss=0.27730220556259155\n",
            "epoch 841: loss=0.2771534025669098\n",
            "epoch 842: loss=0.27700483798980713\n",
            "epoch 843: loss=0.27685636281967163\n",
            "epoch 844: loss=0.2767082750797272\n",
            "epoch 845: loss=0.27656036615371704\n",
            "epoch 846: loss=0.2764126658439636\n",
            "epoch 847: loss=0.2762651741504669\n",
            "epoch 848: loss=0.27611789107322693\n",
            "epoch 849: loss=0.27597084641456604\n",
            "epoch 850: loss=0.2758239805698395\n",
            "epoch 851: loss=0.2756774425506592\n",
            "epoch 852: loss=0.2755310535430908\n",
            "epoch 853: loss=0.2753848731517792\n",
            "epoch 854: loss=0.27523890137672424\n",
            "epoch 855: loss=0.2750932276248932\n",
            "epoch 856: loss=0.27494776248931885\n",
            "epoch 857: loss=0.27480238676071167\n",
            "epoch 858: loss=0.27465736865997314\n",
            "epoch 859: loss=0.27451249957084656\n",
            "epoch 860: loss=0.2743678390979767\n",
            "epoch 861: loss=0.2742234170436859\n",
            "epoch 862: loss=0.27407917380332947\n",
            "epoch 863: loss=0.2739351689815521\n",
            "epoch 864: loss=0.2737914025783539\n",
            "epoch 865: loss=0.27364787459373474\n",
            "epoch 866: loss=0.2735045254230499\n",
            "epoch 867: loss=0.27336129546165466\n",
            "epoch 868: loss=0.27321842312812805\n",
            "epoch 869: loss=0.273075670003891\n",
            "epoch 870: loss=0.27293312549591064\n",
            "epoch 871: loss=0.2727908194065094\n",
            "epoch 872: loss=0.27264878153800964\n",
            "epoch 873: loss=0.27250680327415466\n",
            "epoch 874: loss=0.27236512303352356\n",
            "epoch 875: loss=0.2722237706184387\n",
            "epoch 876: loss=0.2720823884010315\n",
            "epoch 877: loss=0.2719413638114929\n",
            "epoch 878: loss=0.2718004882335663\n",
            "epoch 879: loss=0.27165988087654114\n",
            "epoch 880: loss=0.27151942253112793\n",
            "epoch 881: loss=0.2713792622089386\n",
            "epoch 882: loss=0.2712392210960388\n",
            "epoch 883: loss=0.271099328994751\n",
            "epoch 884: loss=0.2709597647190094\n",
            "epoch 885: loss=0.27082037925720215\n",
            "epoch 886: loss=0.27068111300468445\n",
            "epoch 887: loss=0.2705421447753906\n",
            "epoch 888: loss=0.27040329575538635\n",
            "epoch 889: loss=0.2702646255493164\n",
            "epoch 890: loss=0.27012625336647034\n",
            "epoch 891: loss=0.2699880301952362\n",
            "epoch 892: loss=0.26985010504722595\n",
            "epoch 893: loss=0.2697122395038605\n",
            "epoch 894: loss=0.26957467198371887\n",
            "epoch 895: loss=0.26943716406822205\n",
            "epoch 896: loss=0.2692999839782715\n",
            "epoch 897: loss=0.26916301250457764\n",
            "epoch 898: loss=0.2690262198448181\n",
            "epoch 899: loss=0.26888954639434814\n",
            "epoch 900: loss=0.26875317096710205\n",
            "epoch 901: loss=0.26861685514450073\n",
            "epoch 902: loss=0.2684808671474457\n",
            "epoch 903: loss=0.26834505796432495\n",
            "epoch 904: loss=0.26820939779281616\n",
            "epoch 905: loss=0.2680738866329193\n",
            "epoch 906: loss=0.2679387331008911\n",
            "epoch 907: loss=0.2678036391735077\n",
            "epoch 908: loss=0.26766881346702576\n",
            "epoch 909: loss=0.26753419637680054\n",
            "epoch 910: loss=0.2673996090888977\n",
            "epoch 911: loss=0.26726531982421875\n",
            "epoch 912: loss=0.2671312093734741\n",
            "epoch 913: loss=0.266997367143631\n",
            "epoch 914: loss=0.266863614320755\n",
            "epoch 915: loss=0.2667301297187805\n",
            "epoch 916: loss=0.26659682393074036\n",
            "epoch 917: loss=0.26646363735198975\n",
            "epoch 918: loss=0.26633065938949585\n",
            "epoch 919: loss=0.26619789004325867\n",
            "epoch 920: loss=0.2660652995109558\n",
            "epoch 921: loss=0.2659328877925873\n",
            "epoch 922: loss=0.26580071449279785\n",
            "epoch 923: loss=0.26566869020462036\n",
            "epoch 924: loss=0.2655368745326996\n",
            "epoch 925: loss=0.26540520787239075\n",
            "epoch 926: loss=0.2652737498283386\n",
            "epoch 927: loss=0.26514241099357605\n",
            "epoch 928: loss=0.26501142978668213\n",
            "epoch 929: loss=0.2648804783821106\n",
            "epoch 930: loss=0.26474976539611816\n",
            "epoch 931: loss=0.26461923122406006\n",
            "epoch 932: loss=0.2644888162612915\n",
            "epoch 933: loss=0.2643587291240692\n",
            "epoch 934: loss=0.2642287015914917\n",
            "epoch 935: loss=0.2640989422798157\n",
            "epoch 936: loss=0.2639692723751068\n",
            "epoch 937: loss=0.26383981108665466\n",
            "epoch 938: loss=0.26371052861213684\n",
            "epoch 939: loss=0.26358145475387573\n",
            "epoch 940: loss=0.26345258951187134\n",
            "epoch 941: loss=0.2633238434791565\n",
            "epoch 942: loss=0.263195276260376\n",
            "epoch 943: loss=0.2630668878555298\n",
            "epoch 944: loss=0.2629387676715851\n",
            "epoch 945: loss=0.26281073689460754\n",
            "epoch 946: loss=0.26268288493156433\n",
            "epoch 947: loss=0.2625552713871002\n",
            "epoch 948: loss=0.2624277174472809\n",
            "epoch 949: loss=0.2623004615306854\n",
            "epoch 950: loss=0.2621733546257019\n",
            "epoch 951: loss=0.26204633712768555\n",
            "epoch 952: loss=0.26191961765289307\n",
            "epoch 953: loss=0.2617930471897125\n",
            "epoch 954: loss=0.26166656613349915\n",
            "epoch 955: loss=0.26154032349586487\n",
            "epoch 956: loss=0.2614142596721649\n",
            "epoch 957: loss=0.2612883746623993\n",
            "epoch 958: loss=0.2611626386642456\n",
            "epoch 959: loss=0.26103711128234863\n",
            "epoch 960: loss=0.2609117329120636\n",
            "epoch 961: loss=0.2607864737510681\n",
            "epoch 962: loss=0.26066136360168457\n",
            "epoch 963: loss=0.2605365514755249\n",
            "epoch 964: loss=0.2604118585586548\n",
            "epoch 965: loss=0.2602873146533966\n",
            "epoch 966: loss=0.2601628601551056\n",
            "epoch 967: loss=0.26003870368003845\n",
            "epoch 968: loss=0.259914755821228\n",
            "epoch 969: loss=0.2597907781600952\n",
            "epoch 970: loss=0.2596670985221863\n",
            "epoch 971: loss=0.259543776512146\n",
            "epoch 972: loss=0.2594203054904938\n",
            "epoch 973: loss=0.2592971920967102\n",
            "epoch 974: loss=0.2591741681098938\n",
            "epoch 975: loss=0.2590513527393341\n",
            "epoch 976: loss=0.2589285969734192\n",
            "epoch 977: loss=0.25880616903305054\n",
            "epoch 978: loss=0.2586837708950043\n",
            "epoch 979: loss=0.2585615813732147\n",
            "epoch 980: loss=0.2584395706653595\n",
            "epoch 981: loss=0.25831782817840576\n",
            "epoch 982: loss=0.25819605588912964\n",
            "epoch 983: loss=0.25807446241378784\n",
            "epoch 984: loss=0.25795313715934753\n",
            "epoch 985: loss=0.25783199071884155\n",
            "epoch 986: loss=0.25771090388298035\n",
            "epoch 987: loss=0.25759005546569824\n",
            "epoch 988: loss=0.2574693560600281\n",
            "epoch 989: loss=0.25734880566596985\n",
            "epoch 990: loss=0.25722837448120117\n",
            "epoch 991: loss=0.2571081817150116\n",
            "epoch 992: loss=0.25698813796043396\n",
            "epoch 993: loss=0.2568681538105011\n",
            "epoch 994: loss=0.2567485272884369\n",
            "epoch 995: loss=0.2566289007663727\n",
            "epoch 996: loss=0.2565094828605652\n",
            "epoch 997: loss=0.25639018416404724\n",
            "epoch 998: loss=0.2562710642814636\n",
            "epoch 999: loss=0.2561522126197815\n"
          ]
        }
      ],
      "source": [
        "# Set the number of passes, where on each pass,\n",
        "# we will make a prediction, calculate the loss, \n",
        "# take the gradient(the derivative) of the loss, \n",
        "# then subtract the current gradient from the \n",
        "# current weight. This has to be done iteratively\n",
        "# until the loss approaches zero.\n",
        "epochs = 1000\n",
        "\n",
        "losses = []\n",
        "for i in range(epochs):\n",
        "    y_pred = model.forward(torch.Tensor(x_data))\n",
        "\n",
        "    loss = criterion(y_pred, torch.Tensor(y_labels))\n",
        "    losses.append(loss)\n",
        "    print(\"epoch {}: loss={}\".format(i, loss.item()))\n",
        "    \n",
        "    optimizer.zero_grad()\n",
        "    loss.backward()\n",
        "\n",
        "    optimizer.step()"
      ]
    },
    {
      "cell_type": "markdown",
      "metadata": {
        "colab_type": "text",
        "id": "BatiiO4tzGkI"
      },
      "source": [
        "## Plot the Loss "
      ]
    },
    {
      "cell_type": "code",
      "execution_count": 0,
      "metadata": {
        "colab": {
          "base_uri": "https://localhost:8080/",
          "height": 296
        },
        "colab_type": "code",
        "id": "2lqz8q97zGGs",
        "outputId": "fbf5bc5f-9f97-4387-e1a7-158d80f1f89c"
      },
      "outputs": [
        {
          "data": {
            "text/plain": [
              "[<matplotlib.lines.Line2D at 0x7fb49e46a438>]"
            ]
          },
          "execution_count": 25,
          "metadata": {
            "tags": []
          },
          "output_type": "execute_result"
        },
        {
          "data": {
            "image/png": "[encoded data removed]",
            "text/plain": [
              "<Figure size 432x288 with 1 Axes>"
            ]
          },
          "metadata": {
            "tags": []
          },
          "output_type": "display_data"
        }
      ],
      "source": [
        "plt.xlabel(\"epochs\")\n",
        "plt.ylabel(\"loss\")\n",
        "plt.plot(range(epochs), losses)"
      ]
    },
    {
      "cell_type": "markdown",
      "metadata": {
        "colab_type": "text",
        "id": "xcN0dSi3zyAV"
      },
      "source": [
        "## Plot Trained Predictions"
      ]
    },
    {
      "cell_type": "code",
      "execution_count": 0,
      "metadata": {
        "colab": {
          "base_uri": "https://localhost:8080/",
          "height": 265
        },
        "colab_type": "code",
        "id": "zvEN6Wy2z1n2",
        "outputId": "a6000068-94c3-4467-869b-749e2ce7fb92"
      },
      "outputs": [
        {
          "data": {
            "image/png": "[encoded data removed]",
            "text/plain": [
              "<Figure size 432x288 with 1 Axes>"
            ]
          },
          "metadata": {
            "tags": []
          },
          "output_type": "display_data"
        }
      ],
      "source": [
        "plot_fit(\"Trained\")"
      ]
    },
    {
      "cell_type": "markdown",
      "metadata": {
        "colab_type": "text",
        "id": "qPGhvAJO0Jzf"
      },
      "source": [
        "# Testing"
      ]
    },
    {
      "cell_type": "code",
      "execution_count": 0,
      "metadata": {
        "colab": {
          "base_uri": "https://localhost:8080/",
          "height": 282
        },
        "colab_type": "code",
        "id": "ClwzXhHZ0LmQ",
        "outputId": "afee5558-4de9-446d-bc70-ea6502c38ad8"
      },
      "outputs": [
        {
          "data": {
            "text/plain": [
              "[<matplotlib.lines.Line2D at 0x7fb49e3ce208>]"
            ]
          },
          "execution_count": 27,
          "metadata": {
            "tags": []
          },
          "output_type": "execute_result"
        },
        {
          "data": {
            "image/png": "[encoded data removed]",
            "text/plain": [
              "<Figure size 432x288 with 1 Axes>"
            ]
          },
          "metadata": {
            "tags": []
          },
          "output_type": "display_data"
        }
      ],
      "source": [
        "point1 = torch.Tensor([1.0, -1.0])\n",
        "point2 = torch.Tensor([-1.0, 1.0])\n",
        "\n",
        "point1_np = point1.numpy()\n",
        "plt.plot(point1_np[0], point1_np[1], \"go\")\n",
        "\n",
        "point2_np = point2.numpy()\n",
        "plt.plot(point2_np[0], point2_np[1], \"ko\")"
      ]
    },
    {
      "cell_type": "code",
      "execution_count": 0,
      "metadata": {
        "colab": {
          "base_uri": "https://localhost:8080/",
          "height": 52
        },
        "colab_type": "code",
        "id": "cr2M20jx08pE",
        "outputId": "ec9715fa-8660-421d-b18a-a5957f5b840d"
      },
      "outputs": [
        {
          "name": "stdout",
          "output_type": "stream",
          "text": [
            "point1 probability to be in positive region = 0.9424158334732056\n",
            "point1 is in 1, lower right\n"
          ]
        }
      ],
      "source": [
        "print(\"point1 probability to be in positive region = {}\".format(model.forward(point1).item()))\n",
        "print(\"point1 is in \" + model.predict(point1))\n",
        "# If it's closer to 1, it means it is most probably in the positive region."
      ]
    },
    {
      "cell_type": "code",
      "execution_count": 0,
      "metadata": {
        "colab": {
          "base_uri": "https://localhost:8080/",
          "height": 52
        },
        "colab_type": "code",
        "id": "cJFB-Ccg1ZcQ",
        "outputId": "12fe26a0-58ae-4017-d13b-02cb8eb1a1e5"
      },
      "outputs": [
        {
          "name": "stdout",
          "output_type": "stream",
          "text": [
            "point2 probability to be in negative region = 0.05055497586727142\n",
            "point2 is in 0, upper left\n"
          ]
        }
      ],
      "source": [
        "print(\"point2 probability to be in negative region = {}\".format(model.forward(point2).item()))\n",
        "print(\"point2 is in \" + model.predict(point2))\n",
        "# If it's closer to 0, it means it is most probably in the negative region."
      ]
    },
    {
      "cell_type": "code",
      "execution_count": 0,
      "metadata": {
        "colab": {
          "base_uri": "https://localhost:8080/",
          "height": 265
        },
        "colab_type": "code",
        "id": "uJBdcl8e15WR",
        "outputId": "c5340499-2b59-4071-b2b4-7966eb8d3300"
      },
      "outputs": [
        {
          "data": {
            "image/png": "[encoded data removed]",
            "text/plain": [
              "<Figure size 432x288 with 1 Axes>"
            ]
          },
          "metadata": {
            "tags": []
          },
          "output_type": "display_data"
        }
      ],
      "source": [
        "plt.plot(point1_np[0], point1_np[1], \"go\")\n",
        "plt.plot(point2_np[0], point2_np[1], \"ko\")\n",
        "plot_fit(\"Trained + New Data\")"
      ]
    }
  ]
}