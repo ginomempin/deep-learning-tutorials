{
  "nbformat": 4,
  "nbformat_minor": 0,
  "metadata": {
    "orig_nbformat": 2,
    "file_extension": ".py",
    "mimetype": "text/x-python",
    "name": "python",
    "npconvert_exporter": "python",
    "pygments_lexer": "ipython3",
    "version": 3,
    "colab": {
      "name": "ImageRecognition.ipynb",
      "provenance": [],
      "toc_visible": true,
      "include_colab_link": true
    },
    "kernelspec": {
      "name": "python3",
      "display_name": "Python 3"
    }
  },
  "cells": [
    {
      "cell_type": "markdown",
      "metadata": {
        "id": "view-in-github",
        "colab_type": "text"
      },
      "source": [
        "<a href=\"https://colab.research.google.com/github/ginomempin/machine-learning-tutorials/blob/master/src/ImageRecognition.ipynb\" target=\"_parent\"><img src=\"https://colab.research.google.com/assets/colab-badge.svg\" alt=\"Open In Colab\"/></a>"
      ]
    },
    {
      "cell_type": "code",
      "metadata": {
        "id": "LIceHScq4gF2",
        "colab_type": "code",
        "colab": {
          "base_uri": "https://localhost:8080/",
          "height": 104
        },
        "outputId": "22232325-0c0a-47e9-9eb7-f784be997cc8"
      },
      "source": [
        "!pip3 install torch torchvision"
      ],
      "execution_count": 3,
      "outputs": [
        {
          "output_type": "stream",
          "text": [
            "Requirement already satisfied: torch in /usr/local/lib/python3.6/dist-packages (1.4.0)\n",
            "Requirement already satisfied: torchvision in /usr/local/lib/python3.6/dist-packages (0.5.0)\n",
            "Requirement already satisfied: numpy in /usr/local/lib/python3.6/dist-packages (from torchvision) (1.17.5)\n",
            "Requirement already satisfied: pillow>=4.1.1 in /usr/local/lib/python3.6/dist-packages (from torchvision) (6.2.2)\n",
            "Requirement already satisfied: six in /usr/local/lib/python3.6/dist-packages (from torchvision) (1.12.0)\n"
          ],
          "name": "stdout"
        }
      ]
    },
    {
      "cell_type": "code",
      "metadata": {
        "id": "zbcpQBgn5FSv",
        "colab_type": "code",
        "colab": {}
      },
      "source": [
        "import matplotlib.pyplot as plt\n",
        "import numpy as np\n",
        "\n",
        "import torch\n",
        "import torch.nn.functional as F\n",
        "from torch import nn \n",
        "from torchvision import datasets    # Contains the MNIST image dataset\n",
        "from torchvision import transforms  # Contains common image pre-processing functions"
      ],
      "execution_count": 0,
      "outputs": []
    },
    {
      "cell_type": "markdown",
      "metadata": {
        "id": "kytBBlQa4qGI",
        "colab_type": "text"
      },
      "source": [
        "# Reference\n",
        "\n",
        "[ginomempin / machine-learning-tutorials / docs / ImageRecognition.md](https://github.com/ginomempin/machine-learning-tutorials/blob/master/docs/ImageRecognition.md)"
      ]
    },
    {
      "cell_type": "markdown",
      "metadata": {
        "id": "vkAFAcTG5kvj",
        "colab_type": "text"
      },
      "source": [
        "# Setup the Training Set"
      ]
    },
    {
      "cell_type": "markdown",
      "metadata": {
        "id": "FaqBPs9j-q1X",
        "colab_type": "text"
      },
      "source": [
        "## Define the Image Transformation"
      ]
    },
    {
      "cell_type": "code",
      "metadata": {
        "id": "YSPovbEE-9cv",
        "colab_type": "code",
        "colab": {}
      },
      "source": [
        "transform = transforms.Compose([\n",
        "    # No effect on MNIST images, but useful for\n",
        "    # passing in test images of random sizes.\n",
        "    transforms.Resize((28, 28)),\n",
        "\n",
        "    # Convert from Numpy array 0-255 to PyTorch Tensor 0-1\n",
        "    transforms.ToTensor(),  \n",
        "\n",
        "    # For each tensor, normalize the values of image size,\n",
        "    # channel height and channel width. The 1st parameter\n",
        "    # is the mean and the 2nd parameter is the standard \n",
        "    # deviation. Make sure to specify only 1 channel since\n",
        "    # the MNIST dataset provides grayscale images.\n",
        "    #\n",
        "    # We choose 0.5 because we want to normalize the Tensor\n",
        "    # values from [0, 1] to be [-1, 1].\n",
        "    #   Ex. If value is 0 (minimum Tensor value)\n",
        "    #           (0 - 0.5) / 0.5 = -1\n",
        "    #   Ex. If value is 1 (maximum Tensor value)\n",
        "    #           (1 - 0.5) / 0.5 = +1\n",
        "    #\n",
        "    # Ultimately, we want to normalize to reduce skewness\n",
        "    # and distorted data values.    \n",
        "    transforms.Normalize((0.5,), (0.5,))\n",
        "])"
      ],
      "execution_count": 0,
      "outputs": []
    },
    {
      "cell_type": "markdown",
      "metadata": {
        "id": "azxGiSOJ-1wz",
        "colab_type": "text"
      },
      "source": [
        "## Define the Dataset"
      ]
    },
    {
      "cell_type": "code",
      "metadata": {
        "id": "ntF69kW34upe",
        "colab_type": "code",
        "colab": {
          "base_uri": "https://localhost:8080/",
          "height": 173
        },
        "outputId": "a031f23f-371c-4e65-dd3a-0017d453bcec"
      },
      "source": [
        "training_dataset = datasets.MNIST(\n",
        "    root=\"./data\",          # Where the MNIST dataset will be stored\n",
        "    train=True,             # Create a Training Set\n",
        "    download=True,          # Downloads from internet and put in `root` directory\n",
        "    transform=transform     # Image manipulations that will be applied to the images \n",
        ")\n",
        "training_dataset"
      ],
      "execution_count": 84,
      "outputs": [
        {
          "output_type": "execute_result",
          "data": {
            "text/plain": [
              "Dataset MNIST\n",
              "    Number of datapoints: 60000\n",
              "    Root location: ./data\n",
              "    Split: Train\n",
              "    StandardTransform\n",
              "Transform: Compose(\n",
              "               ToTensor()\n",
              "               Normalize(mean=(0.5,), std=(0.5,))\n",
              "           )"
            ]
          },
          "metadata": {
            "tags": []
          },
          "execution_count": 84
        }
      ]
    },
    {
      "cell_type": "code",
      "metadata": {
        "id": "k8ipzXzqCMTr",
        "colab_type": "code",
        "colab": {
          "base_uri": "https://localhost:8080/",
          "height": 34
        },
        "outputId": "6c824e08-16fd-4aad-875d-c31e8b3279b5"
      },
      "source": [
        "# Provides a way to load the input data into the model in batches.\n",
        "# Before we pass the entire data into the network every epoch.\n",
        " # With 60k data points, this would not be an efficient strategy.\n",
        "training_loader = torch.utils.data.DataLoader(\n",
        "    dataset=training_dataset,\n",
        "    batch_size=100,\n",
        "    shuffle=True            # Prevent getting stuck into local/false minimums\n",
        "                            # Make sure that each epoch uses a different batch\n",
        ")\n",
        "training_loader"
      ],
      "execution_count": 85,
      "outputs": [
        {
          "output_type": "execute_result",
          "data": {
            "text/plain": [
              "<torch.utils.data.dataloader.DataLoader at 0x7f124df6ada0>"
            ]
          },
          "metadata": {
            "tags": []
          },
          "execution_count": 85
        }
      ]
    },
    {
      "cell_type": "markdown",
      "metadata": {
        "id": "PlJct3_3_Ax0",
        "colab_type": "text"
      },
      "source": [
        "## Plot the Dataset"
      ]
    },
    {
      "cell_type": "code",
      "metadata": {
        "id": "pC_8WbDX_CnR",
        "colab_type": "code",
        "colab": {}
      },
      "source": [
        "# To plot, we need to convert the Tensor back to Numpy array.\n",
        "def img_convert(tensor: torch.Tensor):\n",
        "    image = tensor.clone().detach().numpy()\n",
        "\n",
        "    # Convert from 1x28x28 shape to 28x28x1\n",
        "    # The MNIST dataset are in grayscale, hence only 1 channel.\n",
        "    # Then each image is 28x28.\n",
        "    # print(image.shape)\n",
        "    image = image.transpose(1, 2, 0)\n",
        "\n",
        "    # De-normalize (reverse the normalization process earlier)\n",
        "    # Convert it from [-1, 1] back to the original [0, 1]\n",
        "    image = image * np.array((0.5,)) + np.array((0.5,))\n",
        "    image = image.clip(0, 1)\n",
        "\n",
        "    # print(image.shape)\n",
        "    return image"
      ],
      "execution_count": 0,
      "outputs": []
    },
    {
      "cell_type": "code",
      "metadata": {
        "id": "_UcgQ3yjC9Ow",
        "colab_type": "code",
        "colab": {
          "base_uri": "https://localhost:8080/",
          "height": 288
        },
        "outputId": "0b0b0266-fba3-4f0c-eef4-00ddea846001"
      },
      "source": [
        "# Create an iterable object\n",
        "# We can then use `next()` to iteratively get the next batch of data\n",
        "training_dataset_iter = iter(training_loader)\n",
        "\n",
        "images, labels = training_dataset_iter.next()\n",
        "fig = plt.figure(\n",
        "    figsize=(25, 4),\n",
        ")\n",
        "\n",
        "# Plot 20 MNIST images from the current batch\n",
        "for idx in np.arange(20):\n",
        "    # Make 2 rows of 10 columns\n",
        "    # Note that idx is 0-based, but need to be 1-20\n",
        "    axis = fig.add_subplot(2, 10, idx+1, xticks=[], yticks=[])  \n",
        "\n",
        "    # Show the i-th image (using the Tensor -> Numpy conversion)\n",
        "    img = img_convert(images[idx])\n",
        "    img = np.squeeze(img)\n",
        "    plt.imshow(img)\n",
        "\n",
        "    # Show the labels for each i-th image\n",
        "    axis.set_title( [labels[idx].item()] )"
      ],
      "execution_count": 87,
      "outputs": [
        {
          "output_type": "display_data",
          "data": {
            "image/png": "[encoded data removed]",
            "text/plain": [
              "<Figure size 1800x288 with 20 Axes>"
            ]
          },
          "metadata": {
            "tags": []
          }
        }
      ]
    },
    {
      "cell_type": "markdown",
      "metadata": {
        "id": "-kRYf2QNG4tL",
        "colab_type": "text"
      },
      "source": [
        "# Setup the Validation Set"
      ]
    },
    {
      "cell_type": "code",
      "metadata": {
        "id": "j9lmDkL9_gNS",
        "colab_type": "code",
        "colab": {
          "base_uri": "https://localhost:8080/",
          "height": 173
        },
        "outputId": "99520d8e-3698-4c21-b845-16cf2a4353e2"
      },
      "source": [
        "validation_dataset = datasets.MNIST(\n",
        "    root=\"./data\",          # Where the MNIST dataset will be stored\n",
        "    train=False,            # Create a Validation Set\n",
        "    download=True,          # Downloads from internet and put in `root` directory\n",
        "    transform=transform     # Image manipulations that will be applied to the images \n",
        ")\n",
        "validation_dataset"
      ],
      "execution_count": 110,
      "outputs": [
        {
          "output_type": "execute_result",
          "data": {
            "text/plain": [
              "Dataset MNIST\n",
              "    Number of datapoints: 10000\n",
              "    Root location: ./data\n",
              "    Split: Test\n",
              "    StandardTransform\n",
              "Transform: Compose(\n",
              "               ToTensor()\n",
              "               Normalize(mean=(0.5,), std=(0.5,))\n",
              "           )"
            ]
          },
          "metadata": {
            "tags": []
          },
          "execution_count": 110
        }
      ]
    },
    {
      "cell_type": "code",
      "metadata": {
        "id": "oN2JdKs8_9PH",
        "colab_type": "code",
        "colab": {
          "base_uri": "https://localhost:8080/",
          "height": 34
        },
        "outputId": "5fb1dab8-f8bc-4334-8f36-7b3902f4892e"
      },
      "source": [
        "validation_loader = torch.utils.data.DataLoader(\n",
        "    dataset=validation_dataset,\n",
        "    batch_size=100,\n",
        "    shuffle=False\n",
        ")\n",
        "validation_loader"
      ],
      "execution_count": 111,
      "outputs": [
        {
          "output_type": "execute_result",
          "data": {
            "text/plain": [
              "<torch.utils.data.dataloader.DataLoader at 0x7f124dd04f28>"
            ]
          },
          "metadata": {
            "tags": []
          },
          "execution_count": 111
        }
      ]
    },
    {
      "cell_type": "markdown",
      "metadata": {
        "id": "p4VP4dY4pd_u",
        "colab_type": "text"
      },
      "source": [
        "# Setup the Network"
      ]
    },
    {
      "cell_type": "code",
      "metadata": {
        "id": "dXm1kYJUpgdO",
        "colab_type": "code",
        "colab": {}
      },
      "source": [
        "class Classifier(nn.Module):\n",
        "    # D_in  : Number of input nodes\n",
        "    # H1,H2 : Hidden layers\n",
        "    # D_out : Number of output nodes\n",
        "    def __init__(self, D_in, H1, H2, D_out):\n",
        "        super().__init__()\n",
        "        self._linear1 = nn.Linear(D_in, H1)\n",
        "        self._linear2 = nn.Linear(H1, H2)\n",
        "        self._linear3 = nn.Linear(H2, D_out)\n",
        "    \n",
        "    def forward(self, x):\n",
        "        res = F.relu(self._linear1(x))      # Use ReLU instead of Sigmoid\n",
        "        res = F.relu(self._linear2(res))    # Use ReLU instead of Sigmoid\n",
        "        res = self._linear3(res)            # Don't apply an activation function for the output. \n",
        "                                            # What we will get here is the raw output known as \n",
        "                                            # the \"scores\", which is what is needed when dealing \n",
        "                                            # with multi-class data sets.\n",
        "        return res"
      ],
      "execution_count": 0,
      "outputs": []
    },
    {
      "cell_type": "code",
      "metadata": {
        "id": "-UwCS8Pdv-ie",
        "colab_type": "code",
        "colab": {
          "base_uri": "https://localhost:8080/",
          "height": 104
        },
        "outputId": "3ebd0c49-9a3d-4176-9a0a-c21d00c1048c"
      },
      "source": [
        "model = Classifier(\n",
        "    784,    # 28x28 images\n",
        "    125,    # Based on empirical observations from previous trainings\n",
        "    65,     # Based on empirical observations from previous trainings\n",
        "    10      # 0-9 \n",
        ")\n",
        "model"
      ],
      "execution_count": 114,
      "outputs": [
        {
          "output_type": "execute_result",
          "data": {
            "text/plain": [
              "Classifier(\n",
              "  (_linear1): Linear(in_features=784, out_features=125, bias=True)\n",
              "  (_linear2): Linear(in_features=125, out_features=65, bias=True)\n",
              "  (_linear3): Linear(in_features=65, out_features=10, bias=True)\n",
              ")"
            ]
          },
          "metadata": {
            "tags": []
          },
          "execution_count": 114
        }
      ]
    },
    {
      "cell_type": "markdown",
      "metadata": {
        "id": "plO7w9yawhx7",
        "colab_type": "text"
      },
      "source": [
        "# Setup the Loss Function and Optimizer"
      ]
    },
    {
      "cell_type": "code",
      "metadata": {
        "id": "CKc_6uyYwj05",
        "colab_type": "code",
        "colab": {}
      },
      "source": [
        "# Use Cross Entropy Loss for multi-class datasets (instead of BCE for binary data)\n",
        "criterion = nn.CrossEntropyLoss()  \n",
        "\n",
        "# Use Gradient Descent to optimize the model.\n",
        "# Specifically, the Adam optimizer (Adaptive Method Algorithms).\n",
        "# The Adam optimizer is a combination of 2 extensions of SGD (Stochastic Gradient Descent):\n",
        "#   Adagrad\n",
        "#   RMSprop\n",
        "# What distinguishes it from the SGD is that we had to be careful in choosing the proper\n",
        "# the learning rate. Too small leads to very slow convergence towards minimum error/loss, \n",
        "# while too large can hinder the convergence. When using Adam optimization, it computes \n",
        "# the adaptive learning rates for EACH parameter. In practice, Adam is recommended as the\n",
        "# default optimization algorithm.\n",
        "optimizer = torch.optim.Adam(\n",
        "    model.parameters(),\n",
        "    lr=0.0001    # Originally, it was set to 0.01, but the plot of the loss after\n",
        "                 # training was observed to be fluctuating, meaning the updates to \n",
        "                 # the model params were too drastic. When this happens, lower the\n",
        "                 # learning rate.\n",
        ")"
      ],
      "execution_count": 0,
      "outputs": []
    },
    {
      "cell_type": "markdown",
      "metadata": {
        "id": "fozhBsYOxVkr",
        "colab_type": "text"
      },
      "source": [
        "# Training + Validation"
      ]
    },
    {
      "cell_type": "code",
      "metadata": {
        "id": "vLV7KN4BxXbc",
        "colab_type": "code",
        "colab": {
          "base_uri": "https://localhost:8080/",
          "height": 799
        },
        "outputId": "8796272a-7a77-412b-b18b-038a60da3360"
      },
      "source": [
        "epochs = 15\n",
        "\n",
        "training_loss_history = []\n",
        "training_acc_history = []\n",
        "\n",
        "validation_loss_history = []\n",
        "validation_acc_history = []\n",
        "\n",
        "for e in range(epochs):\n",
        "\n",
        "    # For each epoch, iterate over all the batches to be provided\n",
        "    # by the training_loader, and keep track of the *total* loss\n",
        "    # for all batches.\n",
        "    training_running_loss = 0.0\n",
        "    training_running_acc = 0.0\n",
        "    validation_running_loss = 0.0\n",
        "    validation_running_acc = 0.0\n",
        "\n",
        "    print(\"Epoch: {}\".format(e + 1))\n",
        "\n",
        "    # Training Loop\n",
        "    for images, labels in training_loader:\n",
        "        # Flatten (1,28,28) into (1,784)\n",
        "        inputs = images.view(images.shape[0], -1)  # Infer from other dimensions\n",
        "\n",
        "        # Feedforward through the model\n",
        "        outputs = model.forward(inputs)\n",
        "\n",
        "        # Get the current loss\n",
        "        loss = criterion(outputs, labels)\n",
        "        training_running_loss += loss.item()\n",
        "\n",
        "        # Backpropagate the loss to update the model parameters\n",
        "        optimizer.zero_grad()\n",
        "        loss.backward()\n",
        "        optimizer.step()\n",
        "\n",
        "        # Get the current maximum scored class for each output\n",
        "        # Returns a tuple\n",
        "        #   0: The image scores for each of the classes\n",
        "        #   1: The index of the top score (i.e. which class does each image belong to?)\n",
        "        _, preds = torch.max(outputs, 1)\n",
        "        training_running_acc += torch.sum(preds == labels.data)    \n",
        "            # Example:\n",
        "            #   If preds  = [2 3 4 5 6]\n",
        "            #      labels = [2 5 4 5 6]\n",
        "            #   So only the 2nd prediction is incorrect.\n",
        "            #   So preds == labels will be [1 0 1 1 1].\n",
        "    else:  \n",
        "        epoch_training_loss = training_running_loss / len(training_loader)\n",
        "        epoch_training_acc  = training_running_acc.float() / len(training_loader)\n",
        "        # Note that this divide by batch size only works because batch_size = 100.\n",
        "        # So, dividing the loss/acc by 100 automatically gives a % value.\n",
        "        # If the batch size is != 100, divide instead by the dataset size\n",
        "        #   epoch_training_loss = training_running_loss / len(training_loader.dataset)\n",
        "        #   epoch_training_acc  = training_running_acc.float() / len(training_loader.dataset)        \n",
        "\n",
        "        training_loss_history.append(epoch_training_loss)\n",
        "        training_acc_history.append(epoch_training_acc)\n",
        "\n",
        "        print(\"Training Loss:{:.4f}, Acc:{:.4f}\".format(epoch_training_loss, epoch_training_acc))\n",
        "\n",
        "    # Validation Loop\n",
        "    with torch.no_grad():\n",
        "        for images, labels in validation_loader:\n",
        "            inputs = images.view(images.shape[0], -1)  # Infer from other dimensions    \n",
        "            outputs = model.forward(inputs) \n",
        "            \n",
        "            loss = criterion(outputs, labels)\n",
        "            validation_running_loss += loss.item()\n",
        "\n",
        "            _, preds = torch.max(outputs, 1)\n",
        "            validation_running_acc += torch.sum(preds == labels.data)\n",
        "        else:  \n",
        "            epoch_validation_loss = validation_running_loss / len(validation_loader)\n",
        "            epoch_validation_acc  = validation_running_acc.float() / len(validation_loader)\n",
        "            # Note that this divide by batch size only works because batch_size = 100.\n",
        "            # So, dividing the loss/acc by 100 automatically gives a % value.  \n",
        "            # If the batch size is != 100, divide instead by the dataset size\n",
        "            #   epoch_training_loss = validation_running_loss / len(validation_loader.dataset)\n",
        "            #   epoch_training_acc  = validation_running_acc.float() / len(validation_loader.dataset)                      \n",
        "\n",
        "            validation_loss_history.append(epoch_validation_loss)\n",
        "            validation_acc_history.append(epoch_validation_acc)\n",
        "\n",
        "            print(\"Validation Loss:{:.4f}, Acc:{:.4f}\".format(epoch_validation_loss, epoch_validation_acc))            "
      ],
      "execution_count": 116,
      "outputs": [
        {
          "output_type": "stream",
          "text": [
            "Epoch: 1\n",
            "Training Loss:0.9238, Acc:77.6250\n",
            "Validation Loss:0.4170, Acc:89.0100\n",
            "Epoch: 2\n",
            "Training Loss:0.3726, Acc:89.4500\n",
            "Validation Loss:0.3182, Acc:91.0400\n",
            "Epoch: 3\n",
            "Training Loss:0.3163, Acc:90.8500\n",
            "Validation Loss:0.2852, Acc:91.7400\n",
            "Epoch: 4\n",
            "Training Loss:0.2872, Acc:91.6950\n",
            "Validation Loss:0.2603, Acc:92.5000\n",
            "Epoch: 5\n",
            "Training Loss:0.2629, Acc:92.4017\n",
            "Validation Loss:0.2429, Acc:93.0900\n",
            "Epoch: 6\n",
            "Training Loss:0.2429, Acc:93.0667\n",
            "Validation Loss:0.2257, Acc:93.6000\n",
            "Epoch: 7\n",
            "Training Loss:0.2260, Acc:93.5267\n",
            "Validation Loss:0.2155, Acc:93.6100\n",
            "Epoch: 8\n",
            "Training Loss:0.2099, Acc:94.0467\n",
            "Validation Loss:0.1958, Acc:94.1700\n",
            "Epoch: 9\n",
            "Training Loss:0.1951, Acc:94.4067\n",
            "Validation Loss:0.1860, Acc:94.6000\n",
            "Epoch: 10\n",
            "Training Loss:0.1825, Acc:94.7717\n",
            "Validation Loss:0.1738, Acc:94.7700\n",
            "Epoch: 11\n",
            "Training Loss:0.1709, Acc:95.0633\n",
            "Validation Loss:0.1660, Acc:95.2100\n",
            "Epoch: 12\n",
            "Training Loss:0.1614, Acc:95.3967\n",
            "Validation Loss:0.1592, Acc:95.2200\n",
            "Epoch: 13\n",
            "Training Loss:0.1519, Acc:95.6533\n",
            "Validation Loss:0.1502, Acc:95.5400\n",
            "Epoch: 14\n",
            "Training Loss:0.1432, Acc:95.9250\n",
            "Validation Loss:0.1464, Acc:95.4900\n",
            "Epoch: 15\n",
            "Training Loss:0.1361, Acc:96.0583\n",
            "Validation Loss:0.1433, Acc:95.8900\n"
          ],
          "name": "stdout"
        }
      ]
    },
    {
      "cell_type": "code",
      "metadata": {
        "id": "v4Ri3Xr_5zvo",
        "colab_type": "code",
        "colab": {
          "base_uri": "https://localhost:8080/",
          "height": 282
        },
        "outputId": "18e30459-a530-4b35-bb15-f2e9633fac46"
      },
      "source": [
        "plt.plot(training_loss_history, label=\"Training Loss\")\n",
        "plt.plot(validation_loss_history, label=\"Validation Loss\")\n",
        "plt.legend()"
      ],
      "execution_count": 117,
      "outputs": [
        {
          "output_type": "execute_result",
          "data": {
            "text/plain": [
              "<matplotlib.legend.Legend at 0x7f124e0527b8>"
            ]
          },
          "metadata": {
            "tags": []
          },
          "execution_count": 117
        },
        {
          "output_type": "display_data",
          "data": {
            "image/png": "[encoded data removed]",
            "text/plain": [
              "<Figure size 432x288 with 1 Axes>"
            ]
          },
          "metadata": {
            "tags": []
          }
        }
      ]
    },
    {
      "cell_type": "markdown",
      "metadata": {
        "id": "by5FHhVHFjh6",
        "colab_type": "text"
      },
      "source": [
        "The plot already shows that the training and validation errors are converging at around epoch 12. If we continue training the model past epoch 12, the training error becomes **less** than the validation error. This means, past epoch 12, we will have **overfitting** wherein the model is memorizing the training data (low training error) but is unable to accurately classify new input data (high validation error). "
      ]
    },
    {
      "cell_type": "code",
      "metadata": {
        "id": "MRqOtz3q-HXJ",
        "colab_type": "code",
        "colab": {
          "base_uri": "https://localhost:8080/",
          "height": 282
        },
        "outputId": "2b40abea-0a05-410f-eeca-5c6516f05f1f"
      },
      "source": [
        "plt.plot(training_acc_history, label=\"Training Accuracy\")\n",
        "plt.plot(validation_acc_history, label=\"Validation Accuracy\")\n",
        "plt.legend()"
      ],
      "execution_count": 118,
      "outputs": [
        {
          "output_type": "execute_result",
          "data": {
            "text/plain": [
              "<matplotlib.legend.Legend at 0x7f124dd4f400>"
            ]
          },
          "metadata": {
            "tags": []
          },
          "execution_count": 118
        },
        {
          "output_type": "display_data",
          "data": {
            "image/png": "[encoded data removed]",
            "text/plain": [
              "<Figure size 432x288 with 1 Axes>"
            ]
          },
          "metadata": {
            "tags": []
          }
        }
      ]
    },
    {
      "cell_type": "markdown",
      "metadata": {
        "id": "72JSKTsM_eB3",
        "colab_type": "text"
      },
      "source": [
        "# Testing"
      ]
    },
    {
      "cell_type": "markdown",
      "metadata": {
        "id": "vyDIIN8yHUH4",
        "colab_type": "text"
      },
      "source": [
        "Test Links:\n",
        "\n",
        "* https://images.homedepot-static.com/productImages/007164ea-d47e-4f66-8d8c-fd9f621984a2/svn/architectural-mailboxes-house-letters-numbers-3585b-5-64_1000.jpg"
      ]
    },
    {
      "cell_type": "markdown",
      "metadata": {
        "id": "tu65_kHjIQ4W",
        "colab_type": "text"
      },
      "source": [
        "## Get a Test Image"
      ]
    },
    {
      "cell_type": "code",
      "metadata": {
        "id": "_rsgeBwKAO7G",
        "colab_type": "code",
        "colab": {
          "base_uri": "https://localhost:8080/",
          "height": 304
        },
        "outputId": "56e4df50-106b-4605-c1d5-cbe26b3a482c"
      },
      "source": [
        "from PIL import Image, ImageOps\n",
        "import requests\n",
        "\n",
        "url = \"https://images.homedepot-static.com/productImages/007164ea-d47e-4f66-8d8c-fd9f621984a2/svn/architectural-mailboxes-house-letters-numbers-3585b-5-64_1000.jpg\"\n",
        "resp = requests.get(url, stream=True)\n",
        "print(resp)\n",
        "\n",
        "img = Image.open(resp.raw)\n",
        "plt.imshow(img)"
      ],
      "execution_count": 148,
      "outputs": [
        {
          "output_type": "stream",
          "text": [
            "<Response [200]>\n"
          ],
          "name": "stdout"
        },
        {
          "output_type": "execute_result",
          "data": {
            "text/plain": [
              "<matplotlib.image.AxesImage at 0x7f124cdf8d68>"
            ]
          },
          "metadata": {
            "tags": []
          },
          "execution_count": 148
        },
        {
          "output_type": "display_data",
          "data": {
            "image/png": "[encoded data removed]",
            "text/plain": [
              "<Figure size 432x288 with 1 Axes>"
            ]
          },
          "metadata": {
            "tags": []
          }
        }
      ]
    },
    {
      "cell_type": "markdown",
      "metadata": {
        "id": "p-gxiJgaIZ9m",
        "colab_type": "text"
      },
      "source": [
        "## Do image preprocessing\n",
        "\n",
        "The test image must match the image format on which our model was trained on.  \n",
        "* White text on Black background\n",
        "* 28x28\n",
        "* 1-channel grayscale (not RGB)"
      ]
    },
    {
      "cell_type": "code",
      "metadata": {
        "id": "DnCjIlLWIcxl",
        "colab_type": "code",
        "colab": {
          "base_uri": "https://localhost:8080/",
          "height": 282
        },
        "outputId": "5f914dd9-0fae-41fc-ab9a-74d9a55a0934"
      },
      "source": [
        "img = ImageOps.invert(img.convert('RGB'))   # black-on-white to white-on-black\n",
        "img = img.convert('1')                      # grayscale\n",
        "img = transform(img)                        # apply model's expected image format\n",
        "img = img_convert(img)                      # convert to Numpy array\n",
        "plt.imshow(np.squeeze(img))"
      ],
      "execution_count": 149,
      "outputs": [
        {
          "output_type": "execute_result",
          "data": {
            "text/plain": [
              "<matplotlib.image.AxesImage at 0x7f124cdd4e10>"
            ]
          },
          "metadata": {
            "tags": []
          },
          "execution_count": 149
        },
        {
          "output_type": "display_data",
          "data": {
            "image/png": "[encoded data removed]",
            "text/plain": [
              "<Figure size 432x288 with 1 Axes>"
            ]
          },
          "metadata": {
            "tags": []
          }
        }
      ]
    },
    {
      "cell_type": "markdown",
      "metadata": {
        "id": "epp94luTLg96",
        "colab_type": "text"
      },
      "source": [
        "## Feed to Model"
      ]
    },
    {
      "cell_type": "code",
      "metadata": {
        "id": "bz4JzB0sLl7J",
        "colab_type": "code",
        "colab": {
          "base_uri": "https://localhost:8080/",
          "height": 34
        },
        "outputId": "30d11e4a-db1c-4121-a31e-4153b5ef7571"
      },
      "source": [
        "img = torch.Tensor(img)             # Numpy array to Tensor\n",
        "img = img.view(img.shape[0], -1)    # 1x784\n",
        "out = model.forward(img)\n",
        "\n",
        "_, pred = torch.max(out, 1)\n",
        "print(pred.item())"
      ],
      "execution_count": 152,
      "outputs": [
        {
          "output_type": "stream",
          "text": [
            "5\n"
          ],
          "name": "stdout"
        }
      ]
    }
  ]
}