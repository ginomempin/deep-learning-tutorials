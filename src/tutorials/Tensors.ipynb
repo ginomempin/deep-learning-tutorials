{
  "nbformat": 4,
  "nbformat_minor": 0,
  "metadata": {
    "colab": {
      "name": "Tensors",
      "provenance": [],
      "authorship_tag": "ABX9TyPeePdfZtiqlKkrBnBIVQ7+",
      "include_colab_link": true
    },
    "kernelspec": {
      "name": "python3",
      "display_name": "Python 3"
    }
  },
  "cells": [
    {
      "cell_type": "markdown",
      "metadata": {
        "id": "view-in-github",
        "colab_type": "text"
      },
      "source": [
        "<a href=\"https://colab.research.google.com/github/ginomempin/deep-learning-tutorials/blob/master/src/tutorials/Tensors.ipynb\" target=\"_parent\"><img src=\"https://colab.research.google.com/assets/colab-badge.svg\" alt=\"Open In Colab\"/></a>"
      ]
    },
    {
      "cell_type": "code",
      "metadata": {
        "id": "cEiMvTrgqSab",
        "colab_type": "code",
        "colab": {
          "base_uri": "https://localhost:8080/",
          "height": 52
        },
        "outputId": "e55cfe7e-d1ec-4889-946d-bc7252831bbb"
      },
      "source": [
        "!pip3 install torch "
      ],
      "execution_count": 1,
      "outputs": [
        {
          "output_type": "stream",
          "text": [
            "Requirement already satisfied: torch in /usr/local/lib/python3.6/dist-packages (1.3.1)\n",
            "Requirement already satisfied: numpy in /usr/local/lib/python3.6/dist-packages (from torch) (1.17.5)\n"
          ],
          "name": "stdout"
        }
      ]
    },
    {
      "cell_type": "code",
      "metadata": {
        "id": "dbb6inuXuS0h",
        "colab_type": "code",
        "colab": {}
      },
      "source": [
        "import numpy as np\n",
        "import torch"
      ],
      "execution_count": 0,
      "outputs": []
    },
    {
      "cell_type": "markdown",
      "metadata": {
        "id": "BA2X6fZhuvZI",
        "colab_type": "text"
      },
      "source": [
        "**Basic PyTorch Tensors**"
      ]
    },
    {
      "cell_type": "code",
      "metadata": {
        "id": "1BFgCh79rqZ6",
        "colab_type": "code",
        "colab": {
          "base_uri": "https://localhost:8080/",
          "height": 104
        },
        "outputId": "cf453c9a-7b23-471b-f17c-5330ae963100"
      },
      "source": [
        " t1 = torch.tensor([1, 2, 3, 4, 5, 6])\n",
        " print(t1) \n",
        " print(t1.dtype)\n",
        " print(t1[0], v[1], v[2])\n",
        " print(t1[1:4])\n",
        " print(t1[1:])"
      ],
      "execution_count": 17,
      "outputs": [
        {
          "output_type": "stream",
          "text": [
            "tensor([1, 2, 3, 4, 5, 6])\n",
            "torch.int64\n",
            "tensor(1) tensor(2) tensor(3)\n",
            "tensor([2, 3, 4])\n",
            "tensor([2, 3, 4, 5, 6])\n"
          ],
          "name": "stdout"
        }
      ]
    },
    {
      "cell_type": "code",
      "metadata": {
        "id": "-sRmcxJfskrO",
        "colab_type": "code",
        "colab": {
          "base_uri": "https://localhost:8080/",
          "height": 69
        },
        "outputId": "2d76480a-8cdb-4e09-ee08-b982446d241c"
      },
      "source": [
        " t2 = torch.FloatTensor([1, 2, 3, 4, 5, 6])\n",
        " print(t2) \n",
        " print(t2.dtype)\n",
        " print(t2.size())"
      ],
      "execution_count": 18,
      "outputs": [
        {
          "output_type": "stream",
          "text": [
            "tensor([1., 2., 3., 4., 5., 6.])\n",
            "torch.float32\n",
            "torch.Size([6])\n"
          ],
          "name": "stdout"
        }
      ]
    },
    {
      "cell_type": "markdown",
      "metadata": {
        "id": "UGKq6-o9u7RH",
        "colab_type": "text"
      },
      "source": [
        "**Rearranging Tensor Shape**"
      ]
    },
    {
      "cell_type": "code",
      "metadata": {
        "id": "7DYkS8CBtKsE",
        "colab_type": "code",
        "colab": {
          "base_uri": "https://localhost:8080/",
          "height": 121
        },
        "outputId": "6264dff7-f2a4-4620-c5bd-4307d94087d0"
      },
      "source": [
        "t1.view(6, 1)"
      ],
      "execution_count": 19,
      "outputs": [
        {
          "output_type": "execute_result",
          "data": {
            "text/plain": [
              "tensor([[1],\n",
              "        [2],\n",
              "        [3],\n",
              "        [4],\n",
              "        [5],\n",
              "        [6]])"
            ]
          },
          "metadata": {
            "tags": []
          },
          "execution_count": 19
        }
      ]
    },
    {
      "cell_type": "code",
      "metadata": {
        "id": "4lbNd8gwuE6G",
        "colab_type": "code",
        "colab": {
          "base_uri": "https://localhost:8080/",
          "height": 69
        },
        "outputId": "b7ca4687-2ccb-4e47-adbb-1adc6ec27546"
      },
      "source": [
        "t1.view(3, -1)"
      ],
      "execution_count": 20,
      "outputs": [
        {
          "output_type": "execute_result",
          "data": {
            "text/plain": [
              "tensor([[1, 2],\n",
              "        [3, 4],\n",
              "        [5, 6]])"
            ]
          },
          "metadata": {
            "tags": []
          },
          "execution_count": 20
        }
      ]
    },
    {
      "cell_type": "markdown",
      "metadata": {
        "id": "llgyc6YbvE6a",
        "colab_type": "text"
      },
      "source": [
        "**Converting Between Numpy Arrays and PyTorch Tensors**"
      ]
    },
    {
      "cell_type": "code",
      "metadata": {
        "id": "4h98P3dluQv0",
        "colab_type": "code",
        "colab": {
          "base_uri": "https://localhost:8080/",
          "height": 52
        },
        "outputId": "23bc2028-4fe4-4f84-ef5d-335f9802d880"
      },
      "source": [
        "numpy_arr = np.array([1, 2, 3, 4, 5])\n",
        "torch_tns = torch.from_numpy(a)\n",
        "print(torch_tns)\n",
        "print(torch_tns.dtype)"
      ],
      "execution_count": 21,
      "outputs": [
        {
          "output_type": "stream",
          "text": [
            "tensor([1, 2, 3, 4, 5])\n",
            "torch.int64\n"
          ],
          "name": "stdout"
        }
      ]
    },
    {
      "cell_type": "code",
      "metadata": {
        "id": "wyzu--xJvdgh",
        "colab_type": "code",
        "colab": {
          "base_uri": "https://localhost:8080/",
          "height": 52
        },
        "outputId": "cb4892f7-f03b-4666-d8e8-be71340a62ab"
      },
      "source": [
        "torch_tns = torch.Tensor([1, 2, 3, 4])\n",
        "numpy_arr = torch_tns.numpy()\n",
        "print(numpy_arr)\n",
        "print(numpy_arr.dtype) "
      ],
      "execution_count": 23,
      "outputs": [
        {
          "output_type": "stream",
          "text": [
            "[1. 2. 3. 4.]\n",
            "float32\n"
          ],
          "name": "stdout"
        }
      ]
    }
  ]
}