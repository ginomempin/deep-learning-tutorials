{
  "nbformat": 4,
  "nbformat_minor": 0,
  "metadata": {
    "colab": {
      "name": "Tensors",
      "provenance": [],
      "toc_visible": true,
      "authorship_tag": "ABX9TyOtzwfq85rkM7Z5A4+YHEI+",
      "include_colab_link": true
    },
    "kernelspec": {
      "name": "python3",
      "display_name": "Python 3"
    }
  },
  "cells": [
    {
      "cell_type": "markdown",
      "metadata": {
        "id": "view-in-github",
        "colab_type": "text"
      },
      "source": [
        "<a href=\"https://colab.research.google.com/github/ginomempin/deep-learning-tutorials/blob/master/src/tutorials/Tensors.ipynb\" target=\"_parent\"><img src=\"https://colab.research.google.com/assets/colab-badge.svg\" alt=\"Open In Colab\"/></a>"
      ]
    },
    {
      "cell_type": "code",
      "metadata": {
        "id": "cEiMvTrgqSab",
        "colab_type": "code",
        "colab": {
          "base_uri": "https://localhost:8080/",
          "height": 52
        },
        "outputId": "7421a336-a1cd-402a-d5f5-b64d12b1c245"
      },
      "source": [
        "!pip3 install torch "
      ],
      "execution_count": 1,
      "outputs": [
        {
          "output_type": "stream",
          "text": [
            "Requirement already satisfied: torch in /usr/local/lib/python3.6/dist-packages (1.3.1)\n",
            "Requirement already satisfied: numpy in /usr/local/lib/python3.6/dist-packages (from torch) (1.17.5)\n"
          ],
          "name": "stdout"
        }
      ]
    },
    {
      "cell_type": "code",
      "metadata": {
        "id": "dbb6inuXuS0h",
        "colab_type": "code",
        "colab": {}
      },
      "source": [
        "import matplotlib.pyplot as plt\n",
        "import numpy as np\n",
        "import torch"
      ],
      "execution_count": 0,
      "outputs": []
    },
    {
      "cell_type": "markdown",
      "metadata": {
        "id": "mxr9C4dG6AWB",
        "colab_type": "text"
      },
      "source": [
        "# Creation, Indexing, Slicing"
      ]
    },
    {
      "cell_type": "code",
      "metadata": {
        "id": "1BFgCh79rqZ6",
        "colab_type": "code",
        "outputId": "8cb8b252-c39c-4104-ac1d-585092fc9ca2",
        "colab": {
          "base_uri": "https://localhost:8080/",
          "height": 104
        }
      },
      "source": [
        " t1 = torch.tensor([1, 2, 3, 4, 5, 6])\n",
        " print(t1) \n",
        " print(t1.dtype)\n",
        " print(t1[0], t1[1], t1[2])\n",
        " print(t1[1:4])\n",
        " print(t1[1:])"
      ],
      "execution_count": 7,
      "outputs": [
        {
          "output_type": "stream",
          "text": [
            "tensor([1, 2, 3, 4, 5, 6])\n",
            "torch.int64\n",
            "tensor(1) tensor(2) tensor(3)\n",
            "tensor([2, 3, 4])\n",
            "tensor([2, 3, 4, 5, 6])\n"
          ],
          "name": "stdout"
        }
      ]
    },
    {
      "cell_type": "code",
      "metadata": {
        "id": "-sRmcxJfskrO",
        "colab_type": "code",
        "outputId": "5e3fd617-9821-49d3-bc20-82bca15ae06d",
        "colab": {
          "base_uri": "https://localhost:8080/",
          "height": 69
        }
      },
      "source": [
        " t2 = torch.FloatTensor([1, 2, 3, 4, 5, 6])\n",
        " print(t2) \n",
        " print(t2.dtype)\n",
        " print(t2.size())"
      ],
      "execution_count": 9,
      "outputs": [
        {
          "output_type": "stream",
          "text": [
            "tensor([1., 2., 3., 4., 5., 6.])\n",
            "torch.float32\n",
            "torch.Size([6])\n"
          ],
          "name": "stdout"
        }
      ]
    },
    {
      "cell_type": "markdown",
      "metadata": {
        "id": "ILhjHJqs6Gng",
        "colab_type": "text"
      },
      "source": [
        "# Defining Shapes"
      ]
    },
    {
      "cell_type": "code",
      "metadata": {
        "id": "7DYkS8CBtKsE",
        "colab_type": "code",
        "outputId": "3c8035e2-0dc8-45a2-fec8-9555e85f3a36",
        "colab": {
          "base_uri": "https://localhost:8080/",
          "height": 121
        }
      },
      "source": [
        "t1.view(6, 1)"
      ],
      "execution_count": 10,
      "outputs": [
        {
          "output_type": "execute_result",
          "data": {
            "text/plain": [
              "tensor([[1.],\n",
              "        [2.],\n",
              "        [3.],\n",
              "        [4.],\n",
              "        [5.],\n",
              "        [6.]])"
            ]
          },
          "metadata": {
            "tags": []
          },
          "execution_count": 10
        }
      ]
    },
    {
      "cell_type": "code",
      "metadata": {
        "id": "4lbNd8gwuE6G",
        "colab_type": "code",
        "outputId": "da9e3d7c-ee83-44ed-a5be-c3da9fbf20f2",
        "colab": {
          "base_uri": "https://localhost:8080/",
          "height": 69
        }
      },
      "source": [
        "t1.view(3, -1)"
      ],
      "execution_count": 11,
      "outputs": [
        {
          "output_type": "execute_result",
          "data": {
            "text/plain": [
              "tensor([[1., 2.],\n",
              "        [3., 4.],\n",
              "        [5., 6.]])"
            ]
          },
          "metadata": {
            "tags": []
          },
          "execution_count": 11
        }
      ]
    },
    {
      "cell_type": "markdown",
      "metadata": {
        "id": "flkS2wbi6StX",
        "colab_type": "text"
      },
      "source": [
        "# Numpy Arrays <=> PyTorch Tensors"
      ]
    },
    {
      "cell_type": "code",
      "metadata": {
        "id": "4h98P3dluQv0",
        "colab_type": "code",
        "outputId": "3f1d19e3-9378-4876-ea37-4521ebc62433",
        "colab": {
          "base_uri": "https://localhost:8080/",
          "height": 52
        }
      },
      "source": [
        "numpy_arr = np.array([1, 2, 3, 4, 5])\n",
        "torch_tns = torch.from_numpy(numpy_arr)\n",
        "print(torch_tns)\n",
        "print(torch_tns.dtype)"
      ],
      "execution_count": 13,
      "outputs": [
        {
          "output_type": "stream",
          "text": [
            "tensor([1, 2, 3, 4, 5])\n",
            "torch.int64\n"
          ],
          "name": "stdout"
        }
      ]
    },
    {
      "cell_type": "code",
      "metadata": {
        "id": "wyzu--xJvdgh",
        "colab_type": "code",
        "outputId": "be8bed75-c4f0-40b3-e973-c959611ef9ff",
        "colab": {
          "base_uri": "https://localhost:8080/",
          "height": 52
        }
      },
      "source": [
        "torch_tns = torch.Tensor([1, 2, 3, 4])\n",
        "numpy_arr = torch_tns.numpy()\n",
        "print(numpy_arr)\n",
        "print(numpy_arr.dtype) "
      ],
      "execution_count": 14,
      "outputs": [
        {
          "output_type": "stream",
          "text": [
            "[1. 2. 3. 4.]\n",
            "float32\n"
          ],
          "name": "stdout"
        }
      ]
    },
    {
      "cell_type": "markdown",
      "metadata": {
        "id": "cayK5oX56NCz",
        "colab_type": "text"
      },
      "source": [
        "# Vector Operations"
      ]
    },
    {
      "cell_type": "code",
      "metadata": {
        "id": "K0C-uD0Sx4hB",
        "colab_type": "code",
        "colab": {}
      },
      "source": [
        "t_one = torch.tensor([1, 2, 3])\n",
        "t_two = torch.tensor([1, 2, 3])"
      ],
      "execution_count": 0,
      "outputs": []
    },
    {
      "cell_type": "code",
      "metadata": {
        "id": "yfUCpcw57WJl",
        "colab_type": "code",
        "outputId": "d5ebb149-eead-40e8-a1a7-8b57a8f00bda",
        "colab": {
          "base_uri": "https://localhost:8080/",
          "height": 34
        }
      },
      "source": [
        "# SUM\n",
        "t_one + t_two"
      ],
      "execution_count": 18,
      "outputs": [
        {
          "output_type": "execute_result",
          "data": {
            "text/plain": [
              "tensor([2, 4, 6])"
            ]
          },
          "metadata": {
            "tags": []
          },
          "execution_count": 18
        }
      ]
    },
    {
      "cell_type": "code",
      "metadata": {
        "id": "FpA-W8jK7Z5R",
        "colab_type": "code",
        "outputId": "c6b10b5d-f71f-42fc-93fa-2199a86da140",
        "colab": {
          "base_uri": "https://localhost:8080/",
          "height": 34
        }
      },
      "source": [
        "# MULTIPLY by a vector\n",
        "t_one * t_two"
      ],
      "execution_count": 19,
      "outputs": [
        {
          "output_type": "execute_result",
          "data": {
            "text/plain": [
              "tensor([1, 4, 9])"
            ]
          },
          "metadata": {
            "tags": []
          },
          "execution_count": 19
        }
      ]
    },
    {
      "cell_type": "code",
      "metadata": {
        "id": "KlK9_Z_k7dMb",
        "colab_type": "code",
        "outputId": "15dd6ded-33ab-4233-e9fa-587bcc553c2e",
        "colab": {
          "base_uri": "https://localhost:8080/",
          "height": 34
        }
      },
      "source": [
        "# MULTIPLY by a scalar\n",
        "t_one * 5"
      ],
      "execution_count": 20,
      "outputs": [
        {
          "output_type": "execute_result",
          "data": {
            "text/plain": [
              "tensor([ 5, 10, 15])"
            ]
          },
          "metadata": {
            "tags": []
          },
          "execution_count": 20
        }
      ]
    },
    {
      "cell_type": "code",
      "metadata": {
        "id": "Wstmi0_C7fYc",
        "colab_type": "code",
        "outputId": "6543fa0e-cdca-48ba-92bc-eff3f3fe355e",
        "colab": {
          "base_uri": "https://localhost:8080/",
          "height": 34
        }
      },
      "source": [
        "# DOT PRODUCT\n",
        "# (1*1) + (2*2) + (3*3)\n",
        "torch.dot(t_one, t_two)"
      ],
      "execution_count": 21,
      "outputs": [
        {
          "output_type": "execute_result",
          "data": {
            "text/plain": [
              "tensor(14)"
            ]
          },
          "metadata": {
            "tags": []
          },
          "execution_count": 21
        }
      ]
    },
    {
      "cell_type": "markdown",
      "metadata": {
        "id": "0yU3jl1X6Pr2",
        "colab_type": "text"
      },
      "source": [
        "# Plotting"
      ]
    },
    {
      "cell_type": "code",
      "metadata": {
        "id": "iVmx7yaBy-NY",
        "colab_type": "code",
        "outputId": "a3edd6e3-0626-4524-b660-2c4953b7f90a",
        "colab": {
          "base_uri": "https://localhost:8080/",
          "height": 260
        }
      },
      "source": [
        "out = torch.linspace(0, 100, steps=5)\n",
        "print(out)\n",
        "\n",
        "out = torch.linspace(0, 10)  # default steps=100\n",
        "print(out)"
      ],
      "execution_count": 23,
      "outputs": [
        {
          "output_type": "stream",
          "text": [
            "tensor([  0.,  25.,  50.,  75., 100.])\n",
            "tensor([ 0.0000,  0.1010,  0.2020,  0.3030,  0.4040,  0.5051,  0.6061,  0.7071,\n",
            "         0.8081,  0.9091,  1.0101,  1.1111,  1.2121,  1.3131,  1.4141,  1.5152,\n",
            "         1.6162,  1.7172,  1.8182,  1.9192,  2.0202,  2.1212,  2.2222,  2.3232,\n",
            "         2.4242,  2.5253,  2.6263,  2.7273,  2.8283,  2.9293,  3.0303,  3.1313,\n",
            "         3.2323,  3.3333,  3.4343,  3.5354,  3.6364,  3.7374,  3.8384,  3.9394,\n",
            "         4.0404,  4.1414,  4.2424,  4.3434,  4.4444,  4.5455,  4.6465,  4.7475,\n",
            "         4.8485,  4.9495,  5.0505,  5.1515,  5.2525,  5.3535,  5.4545,  5.5556,\n",
            "         5.6566,  5.7576,  5.8586,  5.9596,  6.0606,  6.1616,  6.2626,  6.3636,\n",
            "         6.4646,  6.5657,  6.6667,  6.7677,  6.8687,  6.9697,  7.0707,  7.1717,\n",
            "         7.2727,  7.3737,  7.4747,  7.5758,  7.6768,  7.7778,  7.8788,  7.9798,\n",
            "         8.0808,  8.1818,  8.2828,  8.3838,  8.4848,  8.5859,  8.6869,  8.7879,\n",
            "         8.8889,  8.9899,  9.0909,  9.1919,  9.2929,  9.3939,  9.4949,  9.5960,\n",
            "         9.6970,  9.7980,  9.8990, 10.0000])\n"
          ],
          "name": "stdout"
        }
      ]
    },
    {
      "cell_type": "code",
      "metadata": {
        "id": "W8mJT1FI0HwJ",
        "colab_type": "code",
        "outputId": "f5d1ec02-6b78-4b96-92cf-50a253e85758",
        "colab": {
          "base_uri": "https://localhost:8080/",
          "height": 282
        }
      },
      "source": [
        "x = torch.linspace(start=0, end=10, steps=100)\n",
        "y = torch.sin(x)\n",
        "\n",
        "plt.plot(\n",
        "    x.numpy(), \n",
        "    y.numpy()\n",
        ") "
      ],
      "execution_count": 24,
      "outputs": [
        {
          "output_type": "execute_result",
          "data": {
            "text/plain": [
              "[<matplotlib.lines.Line2D at 0x7fc9c2fef7f0>]"
            ]
          },
          "metadata": {
            "tags": []
          },
          "execution_count": 24
        },
        {
          "output_type": "display_data",
          "data": {
            "image/png": "[encoded data removed]",
            "text/plain": [
              "<Figure size 432x288 with 1 Axes>"
            ]
          },
          "metadata": {
            "tags": []
          }
        }
      ]
    },
    {
      "cell_type": "markdown",
      "metadata": {
        "id": "IP7Ejgsi71fw",
        "colab_type": "text"
      },
      "source": [
        "# 1D, 2D, and 3D Tensors"
      ]
    },
    {
      "cell_type": "code",
      "metadata": {
        "id": "3aK2Q6xv74-l",
        "colab_type": "code",
        "outputId": "26c75f22-4174-474d-f30c-c49c051c96a9",
        "colab": {
          "base_uri": "https://localhost:8080/",
          "height": 34
        }
      },
      "source": [
        "one_d = torch.arange(0, 9, step=1)\n",
        "one_d"
      ],
      "execution_count": 25,
      "outputs": [
        {
          "output_type": "execute_result",
          "data": {
            "text/plain": [
              "tensor([0, 1, 2, 3, 4, 5, 6, 7, 8])"
            ]
          },
          "metadata": {
            "tags": []
          },
          "execution_count": 25
        }
      ]
    },
    {
      "cell_type": "code",
      "metadata": {
        "id": "D61ZksDS8DR7",
        "colab_type": "code",
        "outputId": "72b00727-c203-4c29-ab09-b7bfa0e93d9b",
        "colab": {
          "base_uri": "https://localhost:8080/",
          "height": 69
        }
      },
      "source": [
        "two_d = one_d.view(3, 3)\n",
        "two_d"
      ],
      "execution_count": 26,
      "outputs": [
        {
          "output_type": "execute_result",
          "data": {
            "text/plain": [
              "tensor([[0, 1, 2],\n",
              "        [3, 4, 5],\n",
              "        [6, 7, 8]])"
            ]
          },
          "metadata": {
            "tags": []
          },
          "execution_count": 26
        }
      ]
    },
    {
      "cell_type": "code",
      "metadata": {
        "id": "Iwz4avXa8UhF",
        "colab_type": "code",
        "outputId": "a551e98c-ba13-490d-bc17-88e16c63c6a3",
        "colab": {
          "base_uri": "https://localhost:8080/",
          "height": 34
        }
      },
      "source": [
        "two_d.dim()"
      ],
      "execution_count": 27,
      "outputs": [
        {
          "output_type": "execute_result",
          "data": {
            "text/plain": [
              "2"
            ]
          },
          "metadata": {
            "tags": []
          },
          "execution_count": 27
        }
      ]
    },
    {
      "cell_type": "code",
      "metadata": {
        "id": "qB95ugiy8X64",
        "colab_type": "code",
        "outputId": "ee887f66-296f-41f0-f673-ee496a485694",
        "colab": {
          "base_uri": "https://localhost:8080/",
          "height": 52
        }
      },
      "source": [
        "print(two_d[0, 0])\n",
        "print(two_d[1, 2])"
      ],
      "execution_count": 28,
      "outputs": [
        {
          "output_type": "stream",
          "text": [
            "tensor(0)\n",
            "tensor(5)\n"
          ],
          "name": "stdout"
        }
      ]
    },
    {
      "cell_type": "code",
      "metadata": {
        "id": "Huz3jJsh8tMP",
        "colab_type": "code",
        "outputId": "06e98ae4-b45c-4b79-c321-d789e1aace62",
        "colab": {
          "base_uri": "https://localhost:8080/",
          "height": 34
        }
      },
      "source": [
        "one_d = torch.arange(0, 18, step=1)\n",
        "one_d"
      ],
      "execution_count": 29,
      "outputs": [
        {
          "output_type": "execute_result",
          "data": {
            "text/plain": [
              "tensor([ 0,  1,  2,  3,  4,  5,  6,  7,  8,  9, 10, 11, 12, 13, 14, 15, 16, 17])"
            ]
          },
          "metadata": {
            "tags": []
          },
          "execution_count": 29
        }
      ]
    },
    {
      "cell_type": "code",
      "metadata": {
        "id": "TGCySmcJ8z6F",
        "colab_type": "code",
        "outputId": "34fe959e-76af-4dd4-8faf-633a1acccba8",
        "colab": {
          "base_uri": "https://localhost:8080/",
          "height": 139
        }
      },
      "source": [
        "three_d = one_d.view(2, 3, 3)\n",
        "three_d"
      ],
      "execution_count": 30,
      "outputs": [
        {
          "output_type": "execute_result",
          "data": {
            "text/plain": [
              "tensor([[[ 0,  1,  2],\n",
              "         [ 3,  4,  5],\n",
              "         [ 6,  7,  8]],\n",
              "\n",
              "        [[ 9, 10, 11],\n",
              "         [12, 13, 14],\n",
              "         [15, 16, 17]]])"
            ]
          },
          "metadata": {
            "tags": []
          },
          "execution_count": 30
        }
      ]
    },
    {
      "cell_type": "markdown",
      "metadata": {
        "id": "XkUFEs_sgW-g",
        "colab_type": "text"
      },
      "source": [
        "# Slicing 3D Tensors"
      ]
    },
    {
      "cell_type": "code",
      "metadata": {
        "id": "6AbgAbkRgaHU",
        "colab_type": "code",
        "outputId": "3c952b32-c9ed-4486-ddbf-19597dccdc77",
        "colab": {
          "base_uri": "https://localhost:8080/",
          "height": 156
        }
      },
      "source": [
        "x = torch.arange(18).view(3, 2, 3)\n",
        "x"
      ],
      "execution_count": 31,
      "outputs": [
        {
          "output_type": "execute_result",
          "data": {
            "text/plain": [
              "tensor([[[ 0,  1,  2],\n",
              "         [ 3,  4,  5]],\n",
              "\n",
              "        [[ 6,  7,  8],\n",
              "         [ 9, 10, 11]],\n",
              "\n",
              "        [[12, 13, 14],\n",
              "         [15, 16, 17]]])"
            ]
          },
          "metadata": {
            "tags": []
          },
          "execution_count": 31
        }
      ]
    },
    {
      "cell_type": "code",
      "metadata": {
        "id": "0OQ5C2Seg4uv",
        "colab_type": "code",
        "outputId": "1bfc45f1-07c4-4594-c8e9-135dc10f1ef6",
        "colab": {
          "base_uri": "https://localhost:8080/",
          "height": 34
        }
      },
      "source": [
        "# Getting the element \"10\"\n",
        "x[1, 1, 1]"
      ],
      "execution_count": 32,
      "outputs": [
        {
          "output_type": "execute_result",
          "data": {
            "text/plain": [
              "tensor(10)"
            ]
          },
          "metadata": {
            "tags": []
          },
          "execution_count": 32
        }
      ]
    },
    {
      "cell_type": "code",
      "metadata": {
        "id": "mpehF6m9hV5u",
        "colab_type": "code",
        "outputId": "7f976b39-26b4-43f6-c23d-b945a4617ec6",
        "colab": {
          "base_uri": "https://localhost:8080/",
          "height": 52
        }
      },
      "source": [
        "# Getting elements 6-11\n",
        "x[1, :, :]"
      ],
      "execution_count": 0,
      "outputs": [
        {
          "output_type": "execute_result",
          "data": {
            "text/plain": [
              "tensor([[ 6,  7,  8],\n",
              "        [ 9, 10, 11]])"
            ]
          },
          "metadata": {
            "tags": []
          },
          "execution_count": 6
        }
      ]
    },
    {
      "cell_type": "code",
      "metadata": {
        "id": "1D4KwooXhtn3",
        "colab_type": "code",
        "outputId": "fd24cafc-a15a-43af-b286-3408779c459f",
        "colab": {
          "base_uri": "https://localhost:8080/",
          "height": 34
        }
      },
      "source": [
        " # Getting elements 13-14\n",
        " x[2, 0, 1:3] "
      ],
      "execution_count": 33,
      "outputs": [
        {
          "output_type": "execute_result",
          "data": {
            "text/plain": [
              "tensor([13, 14])"
            ]
          },
          "metadata": {
            "tags": []
          },
          "execution_count": 33
        }
      ]
    },
    {
      "cell_type": "markdown",
      "metadata": {
        "id": "fy8XSxOkigKx",
        "colab_type": "text"
      },
      "source": [
        "# Matrix Multiplication"
      ]
    },
    {
      "cell_type": "markdown",
      "metadata": {
        "id": "RxVG8ouxit39",
        "colab_type": "text"
      },
      "source": [
        "```\n",
        "Matrix A\n",
        "  [ 0 3 5 ]\n",
        "  [ 5 5 2 ]\n",
        "\n",
        "Matrix B\n",
        "  [ 3  4 ]\n",
        "  [ 3 -2 ]\n",
        "  [ 4 -2 ]\n",
        "\n",
        "The product AB is only possible if Arows = Bcols.\n",
        "   Ar * Ac  X  Br * Bc = AB(Ar * Bc) \n",
        "   ex.\n",
        "    A           B        AB\n",
        "    2 * 3   X   3 * 2  = 2*2 \n",
        "\n",
        "Matrix AB\n",
        "  [ V1  V2 ]\n",
        "  [ V3  V4 ]\n",
        "  \n",
        "  where V1 = 0*3 + 3*3  + 5*4  = 29\n",
        "        V2 = 0*4 + 3*-2 + 5*-2 = -16\n",
        "        V3 = 5*3 + 5*3  + 2*4  = 38\n",
        "        V4 = 5*4 + 5*-2 + 2*-2 = 6\n",
        "```\n",
        "\n"
      ]
    },
    {
      "cell_type": "code",
      "metadata": {
        "id": "-7uN5efoijhH",
        "colab_type": "code",
        "outputId": "7d2021d3-3626-44df-ae1c-ff583c558503",
        "colab": {
          "base_uri": "https://localhost:8080/",
          "height": 52
        }
      },
      "source": [
        "mat_A = torch.tensor([0, 3, 5, 5, 5, 2]).view(2, 3)\n",
        "mat_A"
      ],
      "execution_count": 34,
      "outputs": [
        {
          "output_type": "execute_result",
          "data": {
            "text/plain": [
              "tensor([[0, 3, 5],\n",
              "        [5, 5, 2]])"
            ]
          },
          "metadata": {
            "tags": []
          },
          "execution_count": 34
        }
      ]
    },
    {
      "cell_type": "code",
      "metadata": {
        "id": "06DTSroJkaJ7",
        "colab_type": "code",
        "outputId": "61671e24-ac3a-4e6d-bc00-bdc441774618",
        "colab": {
          "base_uri": "https://localhost:8080/",
          "height": 69
        }
      },
      "source": [
        "mat_B = torch.tensor([3, 4, 3, -2, 4, -2]).view(3, 2)\n",
        "mat_B"
      ],
      "execution_count": 35,
      "outputs": [
        {
          "output_type": "execute_result",
          "data": {
            "text/plain": [
              "tensor([[ 3,  4],\n",
              "        [ 3, -2],\n",
              "        [ 4, -2]])"
            ]
          },
          "metadata": {
            "tags": []
          },
          "execution_count": 35
        }
      ]
    },
    {
      "cell_type": "code",
      "metadata": {
        "id": "f2d_E89WkffD",
        "colab_type": "code",
        "outputId": "5126a96c-6a5e-4166-80aa-12aaa4e71d58",
        "colab": {
          "base_uri": "https://localhost:8080/",
          "height": 52
        }
      },
      "source": [
        "mat_AB = torch.matmul(mat_A, mat_B)\n",
        "mat_AB"
      ],
      "execution_count": 36,
      "outputs": [
        {
          "output_type": "execute_result",
          "data": {
            "text/plain": [
              "tensor([[ 29, -16],\n",
              "        [ 38,   6]])"
            ]
          },
          "metadata": {
            "tags": []
          },
          "execution_count": 36
        }
      ]
    },
    {
      "cell_type": "code",
      "metadata": {
        "id": "xitt3lHSkk2i",
        "colab_type": "code",
        "outputId": "37368dc2-3ecf-4326-c5bc-887a0a3354fa",
        "colab": {
          "base_uri": "https://localhost:8080/",
          "height": 52
        }
      },
      "source": [
        "# shorthand for matrix multiplication\n",
        "mat_A @ mat_B"
      ],
      "execution_count": 37,
      "outputs": [
        {
          "output_type": "execute_result",
          "data": {
            "text/plain": [
              "tensor([[ 29, -16],\n",
              "        [ 38,   6]])"
            ]
          },
          "metadata": {
            "tags": []
          },
          "execution_count": 37
        }
      ]
    },
    {
      "cell_type": "markdown",
      "metadata": {
        "id": "v30BPdA_ov0K",
        "colab_type": "text"
      },
      "source": [
        "# Derivatives\n"
      ]
    },
    {
      "cell_type": "markdown",
      "metadata": {
        "id": "J6mSxFdGqUMI",
        "colab_type": "text"
      },
      "source": [
        "**Equation**:\n",
        "\n",
        "y = x<sup>2</sup>\n",
        "\n",
        "**Derivative**\n",
        "* This is the rate at which the value of the equation changes\n",
        "* At **x=2**:  \n",
        "    * 36*(2<sup>3</sup>) + 6*(2<sup>2</sup>) + 6*2 + 6 = 330\n"
      ]
    },
    {
      "cell_type": "code",
      "metadata": {
        "id": "C2xKoC-hktJ8",
        "colab_type": "code",
        "outputId": "2d5afc7f-88ce-4dc0-c966-cad12852e735",
        "colab": {
          "base_uri": "https://localhost:8080/",
          "height": 34
        }
      },
      "source": [
        "x = torch.tensor(2.0, requires_grad=True)\n",
        "y = 9*x**4 + 2*x**3 + 3*x**2 + 6*x + 1\n",
        "\n",
        "y.backward()\n",
        "x.grad"
      ],
      "execution_count": 38,
      "outputs": [
        {
          "output_type": "execute_result",
          "data": {
            "text/plain": [
              "tensor(330.)"
            ]
          },
          "metadata": {
            "tags": []
          },
          "execution_count": 38
        }
      ]
    },
    {
      "cell_type": "markdown",
      "metadata": {
        "id": "GmH42LIKsjXW",
        "colab_type": "text"
      },
      "source": [
        "**Equation:**  \n",
        "\n",
        "y = x<sup>2</sup> + z<sup>3</sup>\n",
        "\n",
        "**Partial Derivative of y with respect to x:**\n",
        "\n",
        "y = 2x  \n",
        "* z will be treated as a constant\n",
        "* At **x=1**:  \n",
        "  * 2(1) = 2\n",
        "\n",
        "**Partial Derivative of y with respect to z:**\n",
        "\n",
        "y = 3z<sup>2</sup>\n",
        "* x will be treated as a constant\n",
        "* At **z=2**:\n",
        "  * 3(2<sup>2</sup>) = 12"
      ]
    },
    {
      "cell_type": "code",
      "metadata": {
        "id": "diWRKs_Pq1C4",
        "colab_type": "code",
        "outputId": "2e6bf407-0b44-4bde-8548-538c7453fdfb",
        "colab": {
          "base_uri": "https://localhost:8080/",
          "height": 34
        }
      },
      "source": [
        "x = torch.tensor(1.0, requires_grad=True)\n",
        "z = torch.tensor(2.0, requires_grad=True)\n",
        "\n",
        "y = x**2 + z**3\n",
        "\n",
        "y.backward()\n",
        "x.grad, z.grad"
      ],
      "execution_count": 39,
      "outputs": [
        {
          "output_type": "execute_result",
          "data": {
            "text/plain": [
              "(tensor(2.), tensor(12.))"
            ]
          },
          "metadata": {
            "tags": []
          },
          "execution_count": 39
        }
      ]
    }
  ]
}