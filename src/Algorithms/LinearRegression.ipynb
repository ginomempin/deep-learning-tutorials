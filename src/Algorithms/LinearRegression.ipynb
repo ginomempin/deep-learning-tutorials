{
  "nbformat": 4,
  "nbformat_minor": 0,
  "metadata": {
    "colab": {
      "name": "LinearRegression.ipynb",
      "provenance": [],
      "collapsed_sections": [],
      "authorship_tag": "ABX9TyM182r0aIxKBPnjAwiDIlJD",
      "include_colab_link": true
    },
    "kernelspec": {
      "name": "python3",
      "display_name": "Python 3"
    }
  },
  "cells": [
    {
      "cell_type": "markdown",
      "metadata": {
        "colab_type": "text",
        "id": "view-in-github"
      },
      "source": [
        "<a href=\"https://colab.research.google.com/github/ginomempin/machine-learning-tutorials/blob/master/src/Algorithms/LinearRegression.ipynb\" target=\"_parent\"><img src=\"https://colab.research.google.com/assets/colab-badge.svg\" alt=\"Open In Colab\"/></a>"
      ]
    },
    {
      "cell_type": "code",
      "execution_count": 0,
      "metadata": {
        "colab": {
          "base_uri": "https://localhost:8080/",
          "height": 52
        },
        "colab_type": "code",
        "id": "IVYKSqVlUJXV",
        "outputId": "c1511f9a-f820-4d23-bbdd-d9f3171aaad2"
      },
      "outputs": [
        {
          "name": "stdout",
          "output_type": "stream",
          "text": [
            "Requirement already satisfied: torch in /usr/local/lib/python3.6/dist-packages (1.3.1)\n",
            "Requirement already satisfied: numpy in /usr/local/lib/python3.6/dist-packages (from torch) (1.17.5)\n"
          ]
        }
      ],
      "source": [
        "!pip3 install torch"
      ]
    },
    {
      "cell_type": "code",
      "execution_count": 0,
      "metadata": {
        "colab": {},
        "colab_type": "code",
        "id": "RBb_iF1UUUyq"
      },
      "outputs": [],
      "source": [
        "import matplotlib.pyplot as plt\n",
        "import numpy as np\n",
        "\n",
        "import torch\n",
        "import torch.nn as nn\n",
        "from torch.nn import Linear"
      ]
    },
    {
      "cell_type": "markdown",
      "metadata": {
        "colab_type": "text",
        "id": "2JhRv2ipXTVo"
      },
      "source": [
        "# Algorithm Overview"
      ]
    },
    {
      "cell_type": "markdown",
      "metadata": {
        "colab_type": "text",
        "id": "Y1vpDHs_Uvtd"
      },
      "source": [
        "Given this equation for a line:\n",
        "\n",
        "y = wx + b\n",
        "\n",
        "where:  \n",
        "* **w** is the slope\n",
        "* **b** is the bias or y-intercept\n",
        "\n",
        "The task is to create a model that, given a data set of points, can \"learn\"\n",
        "the correct equation for a line (i.e. get the optimal values for **w** and **b**) that will fit the said data set of points."
      ]
    },
    {
      "cell_type": "markdown",
      "metadata": {
        "colab_type": "text",
        "id": "2SnXvbOaXzsM"
      },
      "source": [
        "# Defining the Model (Manual Way)"
      ]
    },
    {
      "cell_type": "code",
      "execution_count": 0,
      "metadata": {
        "colab": {},
        "colab_type": "code",
        "id": "ktRu-rO5U8ay"
      },
      "outputs": [],
      "source": [
        "# First, we set the slope and bias to some random values we assume would\n",
        "# make the line fit the given data set.\n",
        "# Eventually, the model should arrive at the correct values.\n",
        "w = torch.tensor(3.0, requires_grad=True)  \n",
        "b = torch.tensor(1.0, requires_grad=True)"
      ]
    },
    {
      "cell_type": "code",
      "execution_count": 0,
      "metadata": {
        "colab": {},
        "colab_type": "code",
        "id": "4Lq8PNkXWFF-"
      },
      "outputs": [],
      "source": [
        "# Define the forward function that predicts the value based on an input x.\n",
        "def forward(x):\n",
        "    y = w*x + b \n",
        "    return y"
      ]
    },
    {
      "cell_type": "code",
      "execution_count": 0,
      "metadata": {
        "colab": {
          "base_uri": "https://localhost:8080/"
        },
        "colab_type": "code",
        "id": "ZxuB38R-Wh9h",
        "outputId": "af41e094-2cd5-47d2-d9a2-2b224d36ffd6"
      },
      "outputs": [
        {
          "name": "stdout",
          "output_type": "stream",
          "text": [
            "tensor(7., grad_fn=<AddBackward0>)\n",
            "tensor([[13.],\n",
            "        [22.]], grad_fn=<AddBackward0>)\n"
          ]
        }
      ],
      "source": [
        "# Check the computations of the forward function.\n",
        "\n",
        "# Can pass single inputs\n",
        "x = torch.tensor(2)\n",
        "print(forward(x))\n",
        "\n",
        "# Can pass many inputs\n",
        "x = torch.tensor([ [4], [7] ])\n",
        "print(forward(x))"
      ]
    },
    {
      "cell_type": "markdown",
      "metadata": {
        "colab_type": "text",
        "id": "1gxFcNKlX7T0"
      },
      "source": [
        "# Defining the Model (Using Linear Class)"
      ]
    },
    {
      "cell_type": "code",
      "execution_count": 0,
      "metadata": {
        "colab": {
          "base_uri": "https://localhost:8080/"
        },
        "colab_type": "code",
        "id": "1xMOf7IEWmtZ",
        "outputId": "dff01f26-d84a-4c16-9231-3949513c7b63"
      },
      "outputs": [
        {
          "name": "stdout",
          "output_type": "stream",
          "text": [
            "Parameter containing:\n",
            "tensor([[0.5153]], requires_grad=True)\n",
            "Parameter containing:\n",
            "tensor([-0.4414], requires_grad=True)\n"
          ]
        }
      ],
      "source": [
        "torch.manual_seed(1)\n",
        "# This is necessary because the model will be assigned random values\n",
        "# for the weight (w) and bias (b). The seed can be any value, as long\n",
        "# you are consistently using the same seed for training.\n",
        "\n",
        "model = Linear(in_features=1, out_features=1)\n",
        "# For every 1 output, there is a 1 corresponding input.\n",
        "\n",
        "print(model.weight) # corresponds to the 'w' param\n",
        "print(model.bias)   # corresponds to the 'b' param"
      ]
    },
    {
      "cell_type": "code",
      "execution_count": 0,
      "metadata": {
        "colab": {
          "base_uri": "https://localhost:8080/"
        },
        "colab_type": "code",
        "id": "WT1uscK5eCWu",
        "outputId": "90d99632-7bc3-4576-ba14-2dde715df2fd"
      },
      "outputs": [
        {
          "data": {
            "text/plain": [
              "tensor([0.5891], grad_fn=<AddBackward0>)"
            ]
          },
          "execution_count": 7,
          "metadata": {
            "tags": []
          },
          "output_type": "execute_result"
        }
      ],
      "source": [
        "x = torch.tensor([2.0])\n",
        "model(x)"
      ]
    },
    {
      "cell_type": "code",
      "execution_count": 0,
      "metadata": {
        "colab": {
          "base_uri": "https://localhost:8080/"
        },
        "colab_type": "code",
        "id": "SSmDeSQce90f",
        "outputId": "8c92432a-9977-48cf-ed08-98b9324905b8"
      },
      "outputs": [
        {
          "data": {
            "text/plain": [
              "tensor([[0.5891],\n",
              "        [1.2590]], grad_fn=<AddmmBackward>)"
            ]
          },
          "execution_count": 8,
          "metadata": {
            "tags": []
          },
          "output_type": "execute_result"
        }
      ],
      "source": [
        "x = torch.tensor([[2.0], [3.3]])\n",
        "model(x)"
      ]
    },
    {
      "cell_type": "markdown",
      "metadata": {
        "colab_type": "text",
        "id": "Xz-ZFoPzfQG3"
      },
      "source": [
        "# Defining the Model (OOP Approach)"
      ]
    },
    {
      "cell_type": "code",
      "execution_count": 0,
      "metadata": {
        "colab": {},
        "colab_type": "code",
        "id": "HphAcDJ-fRf_"
      },
      "outputs": [],
      "source": [
        "# Linear Regression Module\n",
        "#\n",
        "# Wraps PyTorch's Linear module, configuring the\n",
        "# required params to setup and use a Linear model.\n",
        "class LR(nn.Module):\n",
        "    def __init__(self, input_size, output_size):\n",
        "        super().__init__()\n",
        "        self._linear = nn.Linear(in_features=input_size,\n",
        "                                out_features=output_size)\n",
        "\n",
        "    def print_params(self):\n",
        "        print(list(self.parameters()))\n",
        "\n",
        "    def forward(self, x: torch.Tensor):\n",
        "        return self._linear(x)"
      ]
    },
    {
      "cell_type": "code",
      "execution_count": 0,
      "metadata": {
        "colab": {
          "base_uri": "https://localhost:8080/",
          "height": 173
        },
        "colab_type": "code",
        "id": "7rKCYXTLg_Z_",
        "outputId": "503d901d-72ad-41b6-e0b6-1b51551f9f7b"
      },
      "outputs": [
        {
          "name": "stdout",
          "output_type": "stream",
          "text": [
            "LR(\n",
            "  (_linear): Linear(in_features=1, out_features=1, bias=True)\n",
            ")\n",
            "[Parameter containing:\n",
            "tensor([[0.5153]], requires_grad=True), Parameter containing:\n",
            "tensor([-0.4414], requires_grad=True)]\n",
            "tensor([0.5891], grad_fn=<AddBackward0>)\n",
            "tensor([[0.5891],\n",
            "        [1.2590]], grad_fn=<AddmmBackward>)\n"
          ]
        }
      ],
      "source": [
        "torch.manual_seed(1)\n",
        "\n",
        "model = LR(1, 1)\n",
        "print(model)\n",
        "\n",
        "model.print_params()  \n",
        "# This should show same result as in \"Using Linear Class\" section.\n",
        "\n",
        "x = torch.tensor([2.0])\n",
        "print(model.forward(x))\n",
        "# This should show same result as in \"Using Linear Class\" section.\n",
        "\n",
        "x = torch.tensor([[2.0], [3.3]])\n",
        "print(model.forward(x))\n",
        "# This should show same result as in \"Using Linear Class\" section."
      ]
    },
    {
      "cell_type": "markdown",
      "metadata": {
        "colab_type": "text",
        "id": "ypuN3UikjBfg"
      },
      "source": [
        "# Creating the Data Set"
      ]
    },
    {
      "cell_type": "code",
      "execution_count": 0,
      "metadata": {
        "colab": {
          "base_uri": "https://localhost:8080/",
          "height": 282
        },
        "colab_type": "code",
        "id": "IYrrw_sfjDx9",
        "outputId": "c3b00846-29d1-4124-cb97-0df70e0e7c29"
      },
      "outputs": [
        {
          "data": {
            "text/plain": [
              "[<matplotlib.lines.Line2D at 0x7f142dc0ee48>]"
            ]
          },
          "execution_count": 19,
          "metadata": {
            "tags": []
          },
          "output_type": "execute_result"
        },
        {
          "data": {
            "image/png": "[encoded data removed]",
            "text/plain": [
              "<Figure size 432x288 with 1 Axes>"
            ]
          },
          "metadata": {
            "tags": []
          },
          "output_type": "display_data"
        }
      ],
      "source": [
        "# Generate a Tensor filled with random numbers that are normally distributed.\n",
        "# Let the Tensor have 100 rows and 1 column, where the column represents the\n",
        "# single value within the normal distribution.\n",
        "x_data = 10 * torch.randn(100, 1)   # Make it plottable by scaling values by 10\n",
        "y_data = x_data\n",
        "\n",
        "plt.plot(x_data.numpy(), y_data.numpy(), 'o')"
      ]
    },
    {
      "cell_type": "code",
      "execution_count": 0,
      "metadata": {
        "colab": {
          "base_uri": "https://localhost:8080/",
          "height": 296
        },
        "colab_type": "code",
        "id": "_EMcpadgkTkS",
        "outputId": "b58d2788-f587-45fd-86ff-b0930d279f24"
      },
      "outputs": [
        {
          "data": {
            "text/plain": [
              "[<matplotlib.lines.Line2D at 0x7f14305a69b0>]"
            ]
          },
          "execution_count": 12,
          "metadata": {
            "tags": []
          },
          "output_type": "execute_result"
        },
        {
          "data": {
            "image/png": "[encoded data removed]",
            "text/plain": [
              "<Figure size 432x288 with 1 Axes>"
            ]
          },
          "metadata": {
            "tags": []
          },
          "output_type": "display_data"
        }
      ],
      "source": [
        "# The previous plot already shows a linear data set, which would be \"easy\"\n",
        "# for the model to \"learn\". Make it difficult by adding \"noise\" values to\n",
        "# the resulting y value.\n",
        "x_data = 10 * torch.randn(100, 1)\n",
        "y_data = x_data + (3 * torch.randn(100, 1))\n",
        "\n",
        "plt.ylabel('y')\n",
        "plt.xlabel('x')\n",
        "plt.plot(x_data.numpy(), y_data.numpy(), 'o') "
      ]
    },
    {
      "cell_type": "markdown",
      "metadata": {
        "colab_type": "text",
        "id": "Q8QObyJeqXQZ"
      },
      "source": [
        "# Plotting the Initial Model vs. the Data Set"
      ]
    },
    {
      "cell_type": "code",
      "execution_count": 0,
      "metadata": {
        "colab": {
          "base_uri": "https://localhost:8080/",
          "height": 86
        },
        "colab_type": "code",
        "id": "g_B8E-U_l4EX",
        "outputId": "52c62f0a-e0e1-4a4b-a99d-a10e7d90d4a3"
      },
      "outputs": [
        {
          "name": "stdout",
          "output_type": "stream",
          "text": [
            "Parameter containing:\n",
            "tensor([[0.5153]], requires_grad=True)\n",
            "Parameter containing:\n",
            "tensor([-0.4414], requires_grad=True)\n"
          ]
        }
      ],
      "source": [
        "# Initial prediction of a model\n",
        "\n",
        "torch.manual_seed(1)\n",
        "model = LR(1, 1) \n",
        "\n",
        "w, b = model.parameters()  \n",
        "print(w)\n",
        "print(b)"
      ]
    },
    {
      "cell_type": "code",
      "execution_count": 0,
      "metadata": {
        "colab": {
          "base_uri": "https://localhost:8080/",
          "height": 86
        },
        "colab_type": "code",
        "id": "wNKvf4h6m5bM",
        "outputId": "baa3135c-a95a-4311-d350-b796c4c0f7aa"
      },
      "outputs": [
        {
          "name": "stdout",
          "output_type": "stream",
          "text": [
            "tensor(0.5153, grad_fn=<SelectBackward>)\n",
            "0.5152631998062134\n",
            "tensor(-0.4414, grad_fn=<SelectBackward>)\n",
            "-0.44137823581695557\n"
          ]
        }
      ],
      "source": [
        "w1 = w[0][0]\n",
        "print(w1)           # should now be a basic Tensor type\n",
        "print(w1.item())    # get the raw value\n",
        "\n",
        "b1 = b[0]\n",
        "print(b1)           # should not be a basic Tensor type\n",
        "print(b1.item())    # get the raw value"
      ]
    },
    {
      "cell_type": "code",
      "execution_count": 0,
      "metadata": {
        "colab": {},
        "colab_type": "code",
        "id": "GqYib_GgnCdg"
      },
      "outputs": [],
      "source": [
        "def get_params():\n",
        "    return (\n",
        "        w[0][0].item(),\n",
        "        b[0].item()\n",
        "    )\n",
        "\n",
        "def plot_fit(title):\n",
        "    plt.title = title\n",
        "    w1, b1 = get_params()\n",
        "    x1 = np.array([-30, 30])    # based on the plot of the data set\n",
        "    y1 = (w1 * x1) + b1\n",
        "    plt.plot(x1, y1, 'r')\n",
        "    plt.scatter(x_data, y_data)\n",
        "    plt.show()"
      ]
    },
    {
      "cell_type": "code",
      "execution_count": 0,
      "metadata": {
        "colab": {
          "base_uri": "https://localhost:8080/",
          "height": 265
        },
        "colab_type": "code",
        "id": "WOEcDQsGpuWy",
        "outputId": "90d4cc5b-8548-4e56-a443-28fc2e666fc7"
      },
      "outputs": [
        {
          "data": {
            "image/png": "[encoded data removed]",
            "text/plain": [
              "<Figure size 432x288 with 1 Axes>"
            ]
          },
          "metadata": {
            "tags": []
          },
          "output_type": "display_data"
        }
      ],
      "source": [
        "plot_fit(\"Initial Model\")"
      ]
    },
    {
      "cell_type": "markdown",
      "metadata": {
        "colab_type": "text",
        "id": "CnN-aE5sq06m"
      },
      "source": [
        "Clearly the initial Linear model does not match the data set. This is caused by assigning random weights and biases when setting-up the Linear model. We need to adjust these parameters based on the total error until we get a Linear model with suitable parameters."
      ]
    },
    {
      "cell_type": "markdown",
      "metadata": {
        "colab_type": "text",
        "id": "m7KrAPuXqoSQ"
      },
      "source": [
        "# Loss Function"
      ]
    },
    {
      "cell_type": "markdown",
      "metadata": {
        "colab_type": "text",
        "id": "JlTOZXeisOn9"
      },
      "source": [
        "The Loss Function is defined as:\n",
        "\n",
        "> <strong>LOSS = (y<sub>1</sub> - y<sub>0</sub>)<sup>2</sup></strong>  \n",
        "where:\n",
        "* y<sub>1</sub> is the correct value\n",
        "* y<sub>0</sub> is current prediction value\n",
        "\n",
        "The closer the prediction value is to the correct value, the smaller the error.\n",
        "\n",
        "We know that y<sub>0</sub> = wx + b:\n",
        "\n",
        "> <strong>LOSS = (y<sub>1</sub> - (wx + b))<sup>2</sup></strong>  \n",
        "\n",
        "The **b** here (the y-intercept, the point on the y-axis intersected by the line) indicates an infinite number of lines can be drawn that results in LOSS~0. \n",
        "\n",
        "So, let's fix **b=0** to only consider the lines passing through the origin (y=0).\n",
        "\n",
        "> <strong>LOSS = (y<sub>1</sub> - wx)<sup>2</sup></strong>  \n",
        "\n",
        "Given a data point **(-3, 3)**:\n",
        "\n",
        "> <strong>LOSS = (3 - (-3w))<sup>2</sup></strong>  \n",
        "\n",
        "The LOSS (or error) depends on the weight (or slope) value.\n"
      ]
    },
    {
      "cell_type": "code",
      "execution_count": 0,
      "metadata": {
        "colab": {
          "base_uri": "https://localhost:8080/",
          "height": 282
        },
        "colab_type": "code",
        "id": "-v_5sdAIqtt7",
        "outputId": "758022a5-6714-4892-f15b-b2e00d1e465b"
      },
      "outputs": [
        {
          "data": {
            "text/plain": [
              "[<matplotlib.lines.Line2D at 0x7f142dc722e8>]"
            ]
          },
          "execution_count": 18,
          "metadata": {
            "tags": []
          },
          "output_type": "execute_result"
        },
        {
          "data": {
            "image/png": "[encoded data removed]",
            "text/plain": [
              "<Figure size 432x288 with 1 Axes>"
            ]
          },
          "metadata": {
            "tags": []
          },
          "output_type": "display_data"
        }
      ],
      "source": [
        "w_possibles = torch.linspace(start=-2.0, end=0.0, steps=100)\n",
        "loss_result = pow(3 - (-3 * w_possibles), 2)\n",
        "\n",
        "plt.plot(w_possibles.numpy(), loss_result.numpy())"
      ]
    },
    {
      "cell_type": "markdown",
      "metadata": {
        "colab_type": "text",
        "id": "3Fj1MpxnxURW"
      },
      "source": [
        "We can see that the minimum LOSS happens at w=-1.00."
      ]
    },
    {
      "cell_type": "markdown",
      "metadata": {
        "colab_type": "text",
        "id": "033dg0v0oZ8b"
      },
      "source": [
        "# Gradient Descent"
      ]
    },
    {
      "cell_type": "markdown",
      "metadata": {
        "colab_type": "text",
        "id": "Wu5KusjyotgR"
      },
      "source": [
        "From the initial line produced by the model (initialized with a random weight/slope **w** and bias/y-intercept **b**), we want it to move *towards* the direction where the loss/error function is approaching zero.\n",
        "\n",
        "The trick is getting the gradient or the derivative of the loss function, which indicates the rate at which it changes. If rate of change is becoming vertical (i.e. towards +8 in the graph above), then it means the error rate is increasing. If the rate of change is becoming horizontal (i.e. towards 0) then the error rate is decreasing.\n",
        "\n",
        "Given the previous loss function:\n",
        "\n",
        "> <strong>LOSS = (3 - (-3w))<sup>2</sup></strong>\n",
        "\n",
        "The derivative is:\n",
        "\n",
        "> <strong>LOSS = (3 + 3w)<sup>2</sup></strong>  \n",
        "> <strong>LOSS = 9 + 9w + 9w + 9w<sup>2</sup></strong>  \n",
        "> <strong>LOSS = 9 + 18w + 9w<sup>2</sup></strong>  \n",
        "> <strong>LOSS' = 18 + 18w</strong>  \n",
        "> <strong>LOSS' = 18(w + 1)</strong>\n",
        "\n",
        "In summary, first compute the derivative of the loss function. Then substitute the current weight value of the line. That will give the current gradient value.\n",
        "\n",
        "Then, this current gradient value is subtracted from the current weight (w<sub>0</sub>) to get the new updated weight (w<sub>1</sub>):\n",
        "\n",
        "> <strong>w<sub>1</sub> = w<sub>0</sub> - LOSS'</strong>\n",
        "\n",
        "The new weight should result in a smaller error than the previous one. We keep doing this iteratively until we obtain a smallest error and the optimal parameters for the model to fit the date.\n",
        "\n",
        "As we try to get the optimal gradient value, we need to iterate in very small steps, because we don't want it to move too drastically in one direction. To do that, we need to multiply **LOSS'** by a small value, called the **learning rate (&alpha;)**.\n",
        "\n",
        "> <strong>w<sub>1</sub> = w<sub>0</sub> - &alpha; * LOSS'</strong>\n",
        "\n",
        "See this ![sample visualization using Excel](https://github.com/ginomempin/machine-learning-tutorials/blob/master/src/Algorithms/LinearRegression-GradientDescentSimulation.png).\n",
        "\n",
        "Basically, the gradient is like a compass, pointing us in the direction of the smallest error."
      ]
    },
    {
      "cell_type": "markdown",
      "metadata": {
        "colab_type": "text",
        "id": "vw5GdajS3bgS"
      },
      "source": [
        "# Mean Squared Error"
      ]
    },
    {
      "cell_type": "markdown",
      "metadata": {
        "colab_type": "text",
        "id": "YxrmzIcK3row"
      },
      "source": [
        "The mean squared error is calculated the same way as the loss function, but this time, the bias value (i.e. the y-intercept of the linear equation) will also be considered since it is also a parameter that needs to be optimized during training.\n",
        "\n",
        "See the [formula for Mean Squared Error](https://github.com/ginomempin/machine-learning-tutorials/blob/master/src/Algorithms/LinearRegression-MeanSquaredError.jpg).\n",
        "\n",
        "The steps to calculate will not be shown here, but it is generally the same steps as with the **LOSS** function:\n",
        "\n",
        "1. Substitute the (y = wx+b) formula for the current predicted value y<sub>0</sub>\n",
        "1. Get the partial derivatives with respect to **w** and with respect to **b**\n",
        "1. Get the current gradient value\n",
        "1. Get the new weight by subtracting the current gradient value from the current weight\n",
        "1. Iteratively repeat the previous steps until we get an error that approaches zero\n",
        "\n",
        "> <strong>w<sub>1</sub> = w<sub>0</sub> - &alpha; * LOSS'</strong>  \n",
        "> <strong>b<sub>1</sub> = b<sub>0</sub> - &alpha; * LOSS'</strong>"
      ]
    },
    {
      "cell_type": "markdown",
      "metadata": {
        "colab_type": "text",
        "id": "3I-c425rAVPt"
      },
      "source": [
        "# How to do all this math???"
      ]
    },
    {
      "cell_type": "markdown",
      "metadata": {
        "colab_type": "text",
        "id": "73iQ83FqJ_d_"
      },
      "source": [
        "PyTorch actually does all this math for us under the hood.\n",
        "\n",
        "The basic idea is:\n",
        "\n",
        "1. Initialize a model with a random set of weight and bias parameters\n",
        "1. Calcuate the loss/error between current and correct model outputs\n",
        "1. Use gradient descent to update the weight and bias parameters\n",
        "1. Repeat until we approach an error close to zero\n"
      ]
    },
    {
      "cell_type": "markdown",
      "metadata": {
        "colab_type": "text",
        "id": "jWBI3voMJ-cM"
      },
      "source": [
        ""
      ]
    },
    {
      "cell_type": "markdown",
      "metadata": {
        "colab_type": "text",
        "id": "lYTUHNhEBDU4"
      },
      "source": [
        "# THE CODE"
      ]
    },
    {
      "cell_type": "code",
      "execution_count": 0,
      "metadata": {
        "colab": {
          "base_uri": "https://localhost:8080/",
          "height": 265
        },
        "colab_type": "code",
        "id": "EfZt2k7LBIWG",
        "outputId": "80d12287-18d9-41a4-c17a-198b8935cad7"
      },
      "outputs": [
        {
          "data": {
            "image/png": "[encoded data removed]",
            "text/plain": [
              "<Figure size 432x288 with 1 Axes>"
            ]
          },
          "metadata": {
            "tags": []
          },
          "output_type": "display_data"
        }
      ],
      "source": [
        "# Define the data set\n",
        "x_data = 10 * torch.randn(100, 1)\n",
        "y_data = x_data + (3 * torch.randn(100, 1))\n",
        "\n",
        "# Initialize a model\n",
        "\n",
        "class LR(nn.Module):\n",
        "    def __init__(self, input_size, output_size):\n",
        "        super().__init__()\n",
        "        self._linear = nn.Linear(in_features=input_size,\n",
        "                                out_features=output_size)\n",
        "    def forward(self, x: torch.Tensor):\n",
        "        return self._linear(x)\n",
        "\n",
        "torch.manual_seed(1)\n",
        "model = LR(1, 1)\n",
        "def get_params():\n",
        "    w, b = model.parameters()\n",
        "    w0 = w[0][0].item()\n",
        "    b0 = b[0].item()\n",
        "    return w0, b0\n",
        "\n",
        "# Check the intial output of the model\n",
        "def plot_fit(title):\n",
        "    plt.title = title\n",
        "    wp, bp = get_params()\n",
        "    xp = np.array([-30, 30])    # based on the plot of the data set\n",
        "    yp = (wp * xp) + bp\n",
        "    plt.plot(xp, yp, 'r')\n",
        "    plt.scatter(x_data, y_data)\n",
        "    plt.show()\n",
        "\n",
        "plot_fit(\"Initial\")"
      ]
    },
    {
      "cell_type": "code",
      "execution_count": 0,
      "metadata": {
        "colab": {},
        "colab_type": "code",
        "id": "z8oVCp1zInEy"
      },
      "outputs": [],
      "source": [
        "# TRAINING! \n",
        "\n",
        "# We want our loss to approach zero\n",
        "criterion = nn.MSELoss()        \n",
        "\n",
        "# We will use Stochastic Gradient Descent\n",
        "optimizer = torch.optim.SGD(\n",
        "                model.parameters(),\n",
        "                lr=0.01)\n",
        "\n",
        "# Define how many passes on the data set\n",
        "# Too few epochs can lead to underfitting\n",
        "# Too many epochs can lead to overfitting\n",
        "epochs = 100\n",
        "\n",
        "# Note: \n",
        "#   When running in Google Colab and getting weird\n",
        "#   values for loss, try restarting the Runtime.\n",
        "losses = []\n",
        "for i in range(epochs):\n",
        "    # Get current model output\n",
        "    y_pred = model.forward(x_data)\n",
        "\n",
        "    # Calculate the loss\n",
        "    loss = criterion(y_pred, y_data)\n",
        "    print(\"epoch: {}, loss: {}\".format(i, loss.item()))\n",
        "    losses.append(loss)\n",
        "\n",
        "    # Get the gradient/derivative of the loss function\n",
        "    optimizer.zero_grad()   \n",
        "    loss.backward()\n",
        "\n",
        "    # Update the model parameters\n",
        "    optimizer.step()\n"
      ]
    },
    {
      "cell_type": "code",
      "execution_count": 0,
      "metadata": {
        "colab": {
          "base_uri": "https://localhost:8080/",
          "height": 296
        },
        "colab_type": "code",
        "id": "vZ4QorEHHehn",
        "outputId": "91358260-2437-4c2c-a894-1c0a79d54d63"
      },
      "outputs": [
        {
          "data": {
            "text/plain": [
              "Text(0.5, 0, 'epoch')"
            ]
          },
          "execution_count": 4,
          "metadata": {
            "tags": []
          },
          "output_type": "execute_result"
        },
        {
          "data": {
            "image/png": "[encoded data removed]",
            "text/plain": [
              "<Figure size 432x288 with 1 Axes>"
            ]
          },
          "metadata": {
            "tags": []
          },
          "output_type": "display_data"
        }
      ],
      "source": [
        "plt.plot(range(epochs), losses)\n",
        "plt.ylabel(\"loss\")\n",
        "plt.xlabel(\"epoch\")"
      ]
    },
    {
      "cell_type": "code",
      "execution_count": 0,
      "metadata": {
        "colab": {
          "base_uri": "https://localhost:8080/",
          "height": 265
        },
        "colab_type": "code",
        "id": "BtKK0r_FIFZ_",
        "outputId": "5866942e-aa30-4140-a116-707da641108c"
      },
      "outputs": [
        {
          "data": {
            "image/png": "[encoded data removed]",
            "text/plain": [
              "<Figure size 432x288 with 1 Axes>"
            ]
          },
          "metadata": {
            "tags": []
          },
          "output_type": "display_data"
        }
      ],
      "source": [
        "# Check the trained output of the model\n",
        "plot_fit(\"Trained\")"
      ]
    }
  ]
}