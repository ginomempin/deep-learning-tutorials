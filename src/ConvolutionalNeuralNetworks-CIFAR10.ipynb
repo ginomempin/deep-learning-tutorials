{
  "nbformat": 4,
  "nbformat_minor": 0,
  "metadata": {
    "orig_nbformat": 2,
    "file_extension": ".py",
    "mimetype": "text/x-python",
    "name": "python",
    "npconvert_exporter": "python",
    "pygments_lexer": "ipython3",
    "version": 3,
    "colab": {
      "name": "ConvolutionalNeuralNetworks.ipynb",
      "provenance": [],
      "collapsed_sections": [],
      "toc_visible": true,
      "include_colab_link": true
    },
    "kernelspec": {
      "name": "python3",
      "display_name": "Python 3"
    },
    "accelerator": "GPU"
  },
  "cells": [
    {
      "cell_type": "markdown",
      "metadata": {
        "id": "view-in-github",
        "colab_type": "text"
      },
      "source": [
        "<a href=\"https://colab.research.google.com/github/ginomempin/machine-learning-tutorials/blob/master/src/ConvolutionalNeuralNetworks.ipynb\" target=\"_parent\"><img src=\"https://colab.research.google.com/assets/colab-badge.svg\" alt=\"Open In Colab\"/></a>"
      ]
    },
    {
      "cell_type": "markdown",
      "metadata": {
        "id": "kytBBlQa4qGI",
        "colab_type": "text"
      },
      "source": [
        "# OVERVIEW\n",
        "\n",
        "This notebook demonstrates the creation, training, and testing of a **Convolutional Neural Network**.  \n",
        "The network will classify handwritten numbers from the [MNIST](http://yann.lecun.com/exdb/mnist/) dataset.\n",
        "\n",
        "### Reference\n",
        "\n",
        "[ginomempin / machine-learning-tutorials / docs / ConvolutionalNeuralNetworks.md](https://github.com/ginomempin/machine-learning-tutorials/blob/master/docs/ConvolutionalNeuralNetworks.md)\n",
        "\n",
        "### Note\n",
        "\n",
        "This notebook requires the use of GPU (or not if you want slow/long training times).  \n",
        "\n",
        "When running in Google Colab:\n",
        "1. Select \"Runtime\" from the menu\n",
        "1. Select \"GPU\" as the hardware accelerator type."
      ]
    },
    {
      "cell_type": "code",
      "metadata": {
        "id": "LIceHScq4gF2",
        "colab_type": "code",
        "outputId": "2a4434d5-df57-4d88-eb43-17126fd026ee",
        "colab": {
          "base_uri": "https://localhost:8080/",
          "height": 104
        }
      },
      "source": [
        "!pip3 install torch torchvision"
      ],
      "execution_count": 0,
      "outputs": [
        {
          "output_type": "stream",
          "text": [
            "Requirement already satisfied: torch in /usr/local/lib/python3.6/dist-packages (1.4.0)\n",
            "Requirement already satisfied: torchvision in /usr/local/lib/python3.6/dist-packages (0.5.0)\n",
            "Requirement already satisfied: numpy in /usr/local/lib/python3.6/dist-packages (from torchvision) (1.17.5)\n",
            "Requirement already satisfied: pillow>=4.1.1 in /usr/local/lib/python3.6/dist-packages (from torchvision) (6.2.2)\n",
            "Requirement already satisfied: six in /usr/local/lib/python3.6/dist-packages (from torchvision) (1.12.0)\n"
          ],
          "name": "stdout"
        }
      ]
    },
    {
      "cell_type": "code",
      "metadata": {
        "id": "zbcpQBgn5FSv",
        "colab_type": "code",
        "colab": {}
      },
      "source": [
        "import matplotlib.pyplot as plt\n",
        "import numpy as np\n",
        "\n",
        "import torch\n",
        "import torch.nn.functional as F\n",
        "from torch import nn \n",
        "from torchvision import datasets    # Contains the MNIST image dataset\n",
        "from torchvision import transforms  # Contains common image pre-processing functions"
      ],
      "execution_count": 0,
      "outputs": []
    },
    {
      "cell_type": "code",
      "metadata": {
        "id": "EUJwkA6PVD9U",
        "colab_type": "code",
        "colab": {}
      },
      "source": [
        "device = torch.device(\"cuda:0\" if torch.cuda.is_available() else \"cpu\")"
      ],
      "execution_count": 0,
      "outputs": []
    },
    {
      "cell_type": "markdown",
      "metadata": {
        "id": "vkAFAcTG5kvj",
        "colab_type": "text"
      },
      "source": [
        "# Setup the Training Set"
      ]
    },
    {
      "cell_type": "markdown",
      "metadata": {
        "id": "FaqBPs9j-q1X",
        "colab_type": "text"
      },
      "source": [
        "## Define the Image Transformation"
      ]
    },
    {
      "cell_type": "code",
      "metadata": {
        "id": "YSPovbEE-9cv",
        "colab_type": "code",
        "colab": {}
      },
      "source": [
        "transform = transforms.Compose([\n",
        "    # No effect on MNIST images, but useful for\n",
        "    # passing in test images of random sizes.\n",
        "    transforms.Resize((28, 28)),\n",
        "\n",
        "    # Convert from Numpy array 0-255 to PyTorch Tensor 0-1\n",
        "    transforms.ToTensor(),  \n",
        "\n",
        "    # For each tensor, normalize the values of image size,\n",
        "    # channel height and channel width. The 1st parameter\n",
        "    # is the mean and the 2nd parameter is the standard \n",
        "    # deviation. Make sure to specify only 1 channel since\n",
        "    # the MNIST dataset provides grayscale images.\n",
        "    #\n",
        "    # We choose 0.5 because we want to normalize the Tensor\n",
        "    # values from [0, 1] to be [-1, 1].\n",
        "    #   Ex. If value is 0 (minimum Tensor value)\n",
        "    #           (0 - 0.5) / 0.5 = -1\n",
        "    #   Ex. If value is 1 (maximum Tensor value)\n",
        "    #           (1 - 0.5) / 0.5 = +1\n",
        "    #\n",
        "    # Ultimately, we want to normalize to reduce skewness\n",
        "    # and distorted data values.    \n",
        "    transforms.Normalize((0.5,), (0.5,))\n",
        "])"
      ],
      "execution_count": 0,
      "outputs": []
    },
    {
      "cell_type": "markdown",
      "metadata": {
        "id": "azxGiSOJ-1wz",
        "colab_type": "text"
      },
      "source": [
        "## Define the Dataset"
      ]
    },
    {
      "cell_type": "code",
      "metadata": {
        "id": "ntF69kW34upe",
        "colab_type": "code",
        "outputId": "a9ff7a51-e2b6-473f-e59a-2ba6fe6d7cf7",
        "colab": {
          "base_uri": "https://localhost:8080/",
          "height": 191
        }
      },
      "source": [
        "training_dataset = datasets.MNIST(\n",
        "    root=\"./data\",          # Where the MNIST dataset will be stored\n",
        "    train=True,             # Create a Training Set\n",
        "    download=True,          # Downloads from internet and put in `root` directory\n",
        "    transform=transform     # Image manipulations that will be applied to the images \n",
        ")\n",
        "training_dataset"
      ],
      "execution_count": 0,
      "outputs": [
        {
          "output_type": "execute_result",
          "data": {
            "text/plain": [
              "Dataset MNIST\n",
              "    Number of datapoints: 60000\n",
              "    Root location: ./data\n",
              "    Split: Train\n",
              "    StandardTransform\n",
              "Transform: Compose(\n",
              "               Resize(size=(28, 28), interpolation=PIL.Image.BILINEAR)\n",
              "               ToTensor()\n",
              "               Normalize(mean=(0.5,), std=(0.5,))\n",
              "           )"
            ]
          },
          "metadata": {
            "tags": []
          },
          "execution_count": 27
        }
      ]
    },
    {
      "cell_type": "code",
      "metadata": {
        "id": "k8ipzXzqCMTr",
        "colab_type": "code",
        "outputId": "fdb265bf-2d1a-46a1-9281-3edb56bb6773",
        "colab": {
          "base_uri": "https://localhost:8080/",
          "height": 34
        }
      },
      "source": [
        "# Provides a way to load the input data into the model in batches.\n",
        "# Before we pass the entire data into the network every epoch.\n",
        " # With 60k data points, this would not be an efficient strategy.\n",
        "training_loader = torch.utils.data.DataLoader(\n",
        "    dataset=training_dataset,\n",
        "    batch_size=100,\n",
        "    shuffle=True            # Prevent getting stuck into local/false minimums\n",
        "                            # Make sure that each epoch uses a different batch\n",
        ")\n",
        "training_loader"
      ],
      "execution_count": 0,
      "outputs": [
        {
          "output_type": "execute_result",
          "data": {
            "text/plain": [
              "<torch.utils.data.dataloader.DataLoader at 0x7f2aa02be588>"
            ]
          },
          "metadata": {
            "tags": []
          },
          "execution_count": 28
        }
      ]
    },
    {
      "cell_type": "markdown",
      "metadata": {
        "id": "PlJct3_3_Ax0",
        "colab_type": "text"
      },
      "source": [
        "## Plot the Dataset"
      ]
    },
    {
      "cell_type": "code",
      "metadata": {
        "id": "pC_8WbDX_CnR",
        "colab_type": "code",
        "colab": {}
      },
      "source": [
        "# To plot, we need to convert the Tensor back to Numpy array.\n",
        "def img_convert(tensor: torch.Tensor):\n",
        "    image = tensor.cpu().clone().detach().numpy()\n",
        "\n",
        "    # Convert from 1x28x28 shape to 28x28x1\n",
        "    # The MNIST dataset are in grayscale, hence only 1 channel.\n",
        "    # Then each image is 28x28.\n",
        "    # print(image.shape)\n",
        "    image = image.transpose(1, 2, 0)\n",
        "\n",
        "    # De-normalize (reverse the normalization process earlier)\n",
        "    # Convert it from [-1, 1] back to the original [0, 1]\n",
        "    image = image * np.array((0.5,)) + np.array((0.5,))\n",
        "    image = image.clip(0, 1)\n",
        "\n",
        "    # print(image.shape)\n",
        "    return image"
      ],
      "execution_count": 0,
      "outputs": []
    },
    {
      "cell_type": "code",
      "metadata": {
        "id": "_UcgQ3yjC9Ow",
        "colab_type": "code",
        "outputId": "6953e75d-4ac0-4214-b9a1-d6c4c1e28a3d",
        "colab": {
          "base_uri": "https://localhost:8080/",
          "height": 268
        }
      },
      "source": [
        "# Create an iterable object\n",
        "# We can then use `next()` to iteratively get the next batch of data\n",
        "training_dataset_iter = iter(training_loader)\n",
        "\n",
        "images, labels = training_dataset_iter.next()\n",
        "fig = plt.figure(\n",
        "    figsize=(25, 4),\n",
        ")\n",
        "\n",
        "# Plot 20 MNIST images from the current batch\n",
        "for idx in np.arange(20):\n",
        "    # Make 2 rows of 10 columns\n",
        "    # Note that idx is 0-based, but need to be 1-20\n",
        "    axis = fig.add_subplot(2, 10, idx+1, xticks=[], yticks=[])  \n",
        "\n",
        "    # Show the i-th image (using the Tensor -> Numpy conversion)\n",
        "    img = img_convert(images[idx])\n",
        "    img = np.squeeze(img)\n",
        "    plt.imshow(img)\n",
        "\n",
        "    # Show the labels for each i-th image\n",
        "    axis.set_title( [labels[idx].item()] )"
      ],
      "execution_count": 0,
      "outputs": [
        {
          "output_type": "display_data",
          "data": {
            "image/png": "[encoded data removed]",
            "text/plain": [
              "<Figure size 1800x288 with 20 Axes>"
            ]
          },
          "metadata": {
            "tags": []
          }
        }
      ]
    },
    {
      "cell_type": "markdown",
      "metadata": {
        "id": "-kRYf2QNG4tL",
        "colab_type": "text"
      },
      "source": [
        "# Setup the Validation Set"
      ]
    },
    {
      "cell_type": "code",
      "metadata": {
        "id": "j9lmDkL9_gNS",
        "colab_type": "code",
        "outputId": "aa636bf1-656c-4ef8-c7b4-ea8fab7b3416",
        "colab": {
          "base_uri": "https://localhost:8080/",
          "height": 191
        }
      },
      "source": [
        "validation_dataset = datasets.MNIST(\n",
        "    root=\"./data\",          # Where the MNIST dataset will be stored\n",
        "    train=False,            # Create a Validation Set\n",
        "    download=True,          # Downloads from internet and put in `root` directory\n",
        "    transform=transform     # Image manipulations that will be applied to the images \n",
        ")\n",
        "validation_dataset"
      ],
      "execution_count": 0,
      "outputs": [
        {
          "output_type": "execute_result",
          "data": {
            "text/plain": [
              "Dataset MNIST\n",
              "    Number of datapoints: 10000\n",
              "    Root location: ./data\n",
              "    Split: Test\n",
              "    StandardTransform\n",
              "Transform: Compose(\n",
              "               Resize(size=(28, 28), interpolation=PIL.Image.BILINEAR)\n",
              "               ToTensor()\n",
              "               Normalize(mean=(0.5,), std=(0.5,))\n",
              "           )"
            ]
          },
          "metadata": {
            "tags": []
          },
          "execution_count": 31
        }
      ]
    },
    {
      "cell_type": "code",
      "metadata": {
        "id": "oN2JdKs8_9PH",
        "colab_type": "code",
        "outputId": "9345643a-df91-4188-fc35-f8ca45342412",
        "colab": {
          "base_uri": "https://localhost:8080/",
          "height": 34
        }
      },
      "source": [
        "validation_loader = torch.utils.data.DataLoader(\n",
        "    dataset=validation_dataset,\n",
        "    batch_size=100,\n",
        "    shuffle=False\n",
        ")\n",
        "validation_loader"
      ],
      "execution_count": 0,
      "outputs": [
        {
          "output_type": "execute_result",
          "data": {
            "text/plain": [
              "<torch.utils.data.dataloader.DataLoader at 0x7f2aa031c9e8>"
            ]
          },
          "metadata": {
            "tags": []
          },
          "execution_count": 32
        }
      ]
    },
    {
      "cell_type": "markdown",
      "metadata": {
        "id": "p4VP4dY4pd_u",
        "colab_type": "text"
      },
      "source": [
        "# Setup the Network"
      ]
    },
    {
      "cell_type": "markdown",
      "metadata": {
        "id": "RhZR3Is9Lbb1",
        "colab_type": "text"
      },
      "source": [
        "We will use the **LeNet** model as the reference for our model.\n",
        "\n",
        "It consists of 2 convolutional-pooling layers followed by 2 FCNs.  \n",
        "Using a 5x5 kernel effectively reduces the feature matrix size by 4 pixels.  \n",
        "And using a max pooling function further cuts the size in half.\n",
        "\n",
        "See [CNN-2-Architecture-24](https://github.com/ginomempin/machine-learning-tutorials/blob/master/docs/ConvolutionalNeuralNetworks.md#-and-repeat) for the dimension changes."
      ]
    },
    {
      "cell_type": "code",
      "metadata": {
        "id": "dXm1kYJUpgdO",
        "colab_type": "code",
        "colab": {}
      },
      "source": [
        "class LeNet(nn.Module):\n",
        "    def __init__(self):\n",
        "        super().__init__()\n",
        "        self.conv1 = nn.Conv2d(\n",
        "            1,      # Input is grayscale image\n",
        "            20,     # Number of features to extract\n",
        "            5,      # Kernel size\n",
        "            1       # Stride\n",
        "        )\n",
        "        self.conv2 = nn.Conv2d(\n",
        "            20,     # Input is the features from previous conv layer\n",
        "            50,     # Number of features to extract\n",
        "            5,      # Kernel size\n",
        "            1       # Stride\n",
        "        )\n",
        "        self.fc1 = nn.Linear(\n",
        "            4*4*50, # Each input feature will be 4x4\n",
        "                    #   28x28 -conv1-> 24x24 -pool1-> 12x12 -conv2-> 8x8 -pool2-> 4x4\n",
        "                    # Then there are 50 features from conv2\n",
        "            500     # Hidden layer\n",
        "        )\n",
        "        self.dropout1 = nn.Dropout(     \n",
        "            0.5     # Add a dropout layer to fix the overfitting problem.\n",
        "                    # Try removing this layer, and the performance after\n",
        "                    # training shows that the training accuracy is higher\n",
        "                    # than the validation accuracy, indicating memorization\n",
        "                    # of the training data, or overfitting.\n",
        "        )\n",
        "        self.fc2 = nn.Linear(\n",
        "            500,    # Hidden layer\n",
        "            10      # 1 class for each possible digit\n",
        "        ) \n",
        "    \n",
        "    def forward(self, x):\n",
        "        x = F.relu(self.conv1(x))\n",
        "        x = F.max_pool2d(x, 2, 2)  # 2x2 kernel\n",
        "        x = F.relu(self.conv2(x))\n",
        "        x = F.max_pool2d(x, 2, 2)  # 2x2 kernel\n",
        "        x = x.view(-1, 4*4*50)     # 1x(4x4x50)\n",
        "        x = F.relu(self.fc1(x))\n",
        "        x = self.dropout1(x)\n",
        "        x = self.fc2(x)            # Do not apply an activation function for non-binary classification\n",
        "        return x"
      ],
      "execution_count": 0,
      "outputs": []
    },
    {
      "cell_type": "code",
      "metadata": {
        "id": "-UwCS8Pdv-ie",
        "colab_type": "code",
        "outputId": "0c8d6383-671a-4c4c-d7ea-2ea8da9e09fe",
        "colab": {
          "base_uri": "https://localhost:8080/",
          "height": 139
        }
      },
      "source": [
        "model = LeNet().to(device)\n",
        "model"
      ],
      "execution_count": 0,
      "outputs": [
        {
          "output_type": "execute_result",
          "data": {
            "text/plain": [
              "LeNet(\n",
              "  (conv1): Conv2d(1, 20, kernel_size=(5, 5), stride=(1, 1))\n",
              "  (conv2): Conv2d(20, 50, kernel_size=(5, 5), stride=(1, 1))\n",
              "  (fc1): Linear(in_features=800, out_features=500, bias=True)\n",
              "  (dropout1): Dropout(p=0.5, inplace=False)\n",
              "  (fc2): Linear(in_features=500, out_features=10, bias=True)\n",
              ")"
            ]
          },
          "metadata": {
            "tags": []
          },
          "execution_count": 34
        }
      ]
    },
    {
      "cell_type": "markdown",
      "metadata": {
        "id": "plO7w9yawhx7",
        "colab_type": "text"
      },
      "source": [
        "# Setup the Loss Function and Optimizer"
      ]
    },
    {
      "cell_type": "code",
      "metadata": {
        "id": "CKc_6uyYwj05",
        "colab_type": "code",
        "colab": {}
      },
      "source": [
        "# Use Cross Entropy Loss for multi-class datasets (instead of BCE for binary data)\n",
        "criterion = nn.CrossEntropyLoss()  \n",
        "\n",
        "# Use Gradient Descent to optimize the model.\n",
        "# Specifically, the Adam optimizer (Adaptive Method Algorithms).\n",
        "# The Adam optimizer is a combination of 2 extensions of SGD (Stochastic Gradient Descent):\n",
        "#   Adagrad\n",
        "#   RMSprop\n",
        "# What distinguishes it from the SGD is that we had to be careful in choosing the proper\n",
        "# the learning rate. Too small leads to very slow convergence towards minimum error/loss, \n",
        "# while too large can hinder the convergence. When using Adam optimization, it computes \n",
        "# the adaptive learning rates for EACH parameter. In practice, Adam is recommended as the\n",
        "# default optimization algorithm.\n",
        "optimizer = torch.optim.Adam(\n",
        "    model.parameters(),\n",
        "    lr=0.0001    # Originally, it was set to 0.01, but the plot of the loss after\n",
        "                 # training was observed to be fluctuating, meaning the updates to \n",
        "                 # the model params were too drastic. When this happens, lower the\n",
        "                 # learning rate.\n",
        ")"
      ],
      "execution_count": 0,
      "outputs": []
    },
    {
      "cell_type": "markdown",
      "metadata": {
        "id": "fozhBsYOxVkr",
        "colab_type": "text"
      },
      "source": [
        "# Training + Validation"
      ]
    },
    {
      "cell_type": "code",
      "metadata": {
        "id": "vLV7KN4BxXbc",
        "colab_type": "code",
        "outputId": "7ccd9d1b-ade4-42b0-cc01-531ece3db1d1",
        "colab": {
          "base_uri": "https://localhost:8080/",
          "height": 538
        }
      },
      "source": [
        "epochs = 10\n",
        "\n",
        "training_loss_history = []\n",
        "training_acc_history = []\n",
        "\n",
        "validation_loss_history = []\n",
        "validation_acc_history = []\n",
        "\n",
        "for e in range(epochs):\n",
        "\n",
        "    # For each epoch, iterate over all the batches to be provided\n",
        "    # by the training_loader, and keep track of the *total* loss\n",
        "    # for all batches.\n",
        "    training_running_loss = 0.0\n",
        "    training_running_acc = 0.0\n",
        "    validation_running_loss = 0.0\n",
        "    validation_running_acc = 0.0\n",
        "\n",
        "    print(\"Epoch: {}\".format(e + 1))\n",
        "\n",
        "    # Training Loop\n",
        "    for images, labels in training_loader:\n",
        "        inputs = images.to(device)\n",
        "        labels = labels.to(device)\n",
        "\n",
        "        # Feedforward through the model\n",
        "        outputs = model.forward(inputs)\n",
        "\n",
        "        # Get the current loss\n",
        "        loss = criterion(outputs, labels)\n",
        "        training_running_loss += loss.item()\n",
        "\n",
        "        # Backpropagate the loss to update the model parameters\n",
        "        optimizer.zero_grad()\n",
        "        loss.backward()\n",
        "        optimizer.step()\n",
        "\n",
        "        # Get the current maximum scored class for each output\n",
        "        # Returns a tuple\n",
        "        #   0: The image scores for each of the classes\n",
        "        #   1: The index of the top score (i.e. which class does each image belong to?)\n",
        "        _, preds = torch.max(outputs, 1)\n",
        "        training_running_acc += torch.sum(preds == labels.data)    \n",
        "            # Example:\n",
        "            #   If preds  = [2 3 4 5 6]\n",
        "            #      labels = [2 5 4 5 6]\n",
        "            #   So only the 2nd prediction is incorrect.\n",
        "            #   So preds == labels will be [1 0 1 1 1].\n",
        "    else:  \n",
        "        epoch_training_loss = training_running_loss / len(training_loader)\n",
        "        epoch_training_acc  = training_running_acc.float() / len(training_loader)\n",
        "        # Note that this divide by batch size only works because batch_size = 100.\n",
        "        # So, dividing the loss/acc by 100 automatically gives a % value.\n",
        "        # If the batch size is != 100, divide instead by the dataset size\n",
        "        #   epoch_training_loss = training_running_loss / len(training_loader.dataset)\n",
        "        #   epoch_training_acc  = training_running_acc.float() / len(training_loader.dataset)        \n",
        "\n",
        "        training_loss_history.append(epoch_training_loss)\n",
        "        training_acc_history.append(epoch_training_acc)\n",
        "\n",
        "        print(\"Training Loss:{:.4f}, Acc:{:.4f}\".format(epoch_training_loss, epoch_training_acc))\n",
        "\n",
        "    # Validation Loop\n",
        "    with torch.no_grad():\n",
        "        for images, labels in validation_loader:\n",
        "            inputs = images.to(device)\n",
        "            labels = labels.to(device)\n",
        "\n",
        "            outputs = model.forward(inputs) \n",
        "            \n",
        "            loss = criterion(outputs, labels)\n",
        "            validation_running_loss += loss.item()\n",
        "\n",
        "            _, preds = torch.max(outputs, 1)\n",
        "            validation_running_acc += torch.sum(preds == labels.data)\n",
        "        else:  \n",
        "            epoch_validation_loss = validation_running_loss / len(validation_loader)\n",
        "            epoch_validation_acc  = validation_running_acc.float() / len(validation_loader)\n",
        "            # Note that this divide by batch size only works because batch_size = 100.\n",
        "            # So, dividing the loss/acc by 100 automatically gives a % value.  \n",
        "            # If the batch size is != 100, divide instead by the dataset size\n",
        "            #   epoch_training_loss = validation_running_loss / len(validation_loader.dataset)\n",
        "            #   epoch_training_acc  = validation_running_acc.float() / len(validation_loader.dataset)                      \n",
        "\n",
        "            validation_loss_history.append(epoch_validation_loss)\n",
        "            validation_acc_history.append(epoch_validation_acc)\n",
        "\n",
        "            print(\"Validation Loss:{:.4f}, Acc:{:.4f}\".format(epoch_validation_loss, epoch_validation_acc))            "
      ],
      "execution_count": 0,
      "outputs": [
        {
          "output_type": "stream",
          "text": [
            "Epoch: 1\n",
            "Training Loss:0.5600, Acc:84.5367\n",
            "Validation Loss:0.1850, Acc:94.5300\n",
            "Epoch: 2\n",
            "Training Loss:0.1528, Acc:95.5350\n",
            "Validation Loss:0.1052, Acc:96.8000\n",
            "Epoch: 3\n",
            "Training Loss:0.1031, Acc:96.8967\n",
            "Validation Loss:0.0792, Acc:97.6500\n",
            "Epoch: 4\n",
            "Training Loss:0.0808, Acc:97.5550\n",
            "Validation Loss:0.0646, Acc:98.0300\n",
            "Epoch: 5\n",
            "Training Loss:0.0679, Acc:97.9600\n",
            "Validation Loss:0.0574, Acc:98.2300\n",
            "Epoch: 6\n",
            "Training Loss:0.0583, Acc:98.2433\n",
            "Validation Loss:0.0497, Acc:98.3300\n",
            "Epoch: 7\n",
            "Training Loss:0.0510, Acc:98.4250\n",
            "Validation Loss:0.0445, Acc:98.5600\n",
            "Epoch: 8\n",
            "Training Loss:0.0459, Acc:98.6167\n",
            "Validation Loss:0.0424, Acc:98.5700\n",
            "Epoch: 9\n",
            "Training Loss:0.0414, Acc:98.7100\n",
            "Validation Loss:0.0385, Acc:98.6800\n",
            "Epoch: 10\n",
            "Training Loss:0.0373, Acc:98.8333\n",
            "Validation Loss:0.0356, Acc:98.8600\n"
          ],
          "name": "stdout"
        }
      ]
    },
    {
      "cell_type": "code",
      "metadata": {
        "id": "v4Ri3Xr_5zvo",
        "colab_type": "code",
        "outputId": "095d5224-bf8a-451f-8e46-7449163a22de",
        "colab": {
          "base_uri": "https://localhost:8080/",
          "height": 282
        }
      },
      "source": [
        "plt.plot(training_loss_history, label=\"Training Loss\")\n",
        "plt.plot(validation_loss_history, label=\"Validation Loss\")\n",
        "plt.legend()"
      ],
      "execution_count": 0,
      "outputs": [
        {
          "output_type": "execute_result",
          "data": {
            "text/plain": [
              "<matplotlib.legend.Legend at 0x7f2aa24188d0>"
            ]
          },
          "metadata": {
            "tags": []
          },
          "execution_count": 37
        },
        {
          "output_type": "display_data",
          "data": {
            "image/png": "[encoded data removed]",
            "text/plain": [
              "<Figure size 432x288 with 1 Axes>"
            ]
          },
          "metadata": {
            "tags": []
          }
        }
      ]
    },
    {
      "cell_type": "code",
      "metadata": {
        "id": "MRqOtz3q-HXJ",
        "colab_type": "code",
        "outputId": "e48bcd98-bb21-42ac-aa8d-c4123f74f7f0",
        "colab": {
          "base_uri": "https://localhost:8080/",
          "height": 282
        }
      },
      "source": [
        "plt.plot(training_acc_history, label=\"Training Accuracy\")\n",
        "plt.plot(validation_acc_history, label=\"Validation Accuracy\")\n",
        "plt.legend()"
      ],
      "execution_count": 0,
      "outputs": [
        {
          "output_type": "execute_result",
          "data": {
            "text/plain": [
              "<matplotlib.legend.Legend at 0x7f2aa2d575c0>"
            ]
          },
          "metadata": {
            "tags": []
          },
          "execution_count": 38
        },
        {
          "output_type": "display_data",
          "data": {
            "image/png": "[encoded data removed]",
            "text/plain": [
              "<Figure size 432x288 with 1 Axes>"
            ]
          },
          "metadata": {
            "tags": []
          }
        }
      ]
    },
    {
      "cell_type": "markdown",
      "metadata": {
        "id": "72JSKTsM_eB3",
        "colab_type": "text"
      },
      "source": [
        "# Testing"
      ]
    },
    {
      "cell_type": "markdown",
      "metadata": {
        "id": "vyDIIN8yHUH4",
        "colab_type": "text"
      },
      "source": [
        "Test Links:\n",
        "\n",
        "* https://images.homedepot-static.com/productImages/007164ea-d47e-4f66-8d8c-fd9f621984a2/svn/architectural-mailboxes-house-letters-numbers-3585b-5-64_1000.jpg"
      ]
    },
    {
      "cell_type": "markdown",
      "metadata": {
        "id": "tu65_kHjIQ4W",
        "colab_type": "text"
      },
      "source": [
        "## Get a Test Image"
      ]
    },
    {
      "cell_type": "code",
      "metadata": {
        "id": "_rsgeBwKAO7G",
        "colab_type": "code",
        "outputId": "f0a9fc26-2ac4-4679-f570-9dc5a2721be3",
        "colab": {
          "base_uri": "https://localhost:8080/",
          "height": 286
        }
      },
      "source": [
        "from PIL import Image, ImageOps\n",
        "import requests\n",
        "\n",
        "url = \"https://images.homedepot-static.com/productImages/007164ea-d47e-4f66-8d8c-fd9f621984a2/svn/architectural-mailboxes-house-letters-numbers-3585b-5-64_1000.jpg\"\n",
        "resp = requests.get(url, stream=True)\n",
        "\n",
        "img = Image.open(resp.raw)\n",
        "plt.imshow(img)"
      ],
      "execution_count": 0,
      "outputs": [
        {
          "output_type": "execute_result",
          "data": {
            "text/plain": [
              "<matplotlib.image.AxesImage at 0x7f2aa2949a58>"
            ]
          },
          "metadata": {
            "tags": []
          },
          "execution_count": 39
        },
        {
          "output_type": "display_data",
          "data": {
            "image/png": "[encoded data removed]",
            "text/plain": [
              "<Figure size 432x288 with 1 Axes>"
            ]
          },
          "metadata": {
            "tags": []
          }
        }
      ]
    },
    {
      "cell_type": "markdown",
      "metadata": {
        "id": "p-gxiJgaIZ9m",
        "colab_type": "text"
      },
      "source": [
        "## Do image preprocessing\n",
        "\n",
        "The test image must match the image format on which our model was trained on.  \n",
        "* White text on Black background\n",
        "* 28x28\n",
        "* 1-channel grayscale (not RGB)"
      ]
    },
    {
      "cell_type": "code",
      "metadata": {
        "id": "DnCjIlLWIcxl",
        "colab_type": "code",
        "outputId": "284bf7a9-2935-4a1c-b45c-d944bfd83ebf",
        "colab": {
          "base_uri": "https://localhost:8080/",
          "height": 282
        }
      },
      "source": [
        "img = ImageOps.invert(img.convert('RGB'))   # black-on-white to white-on-black\n",
        "img = img.convert('1')                      # grayscale\n",
        "img = transform(img)                        # apply model's expected image format\n",
        "plt.imshow(np.squeeze(img_convert(img)))"
      ],
      "execution_count": 0,
      "outputs": [
        {
          "output_type": "execute_result",
          "data": {
            "text/plain": [
              "<matplotlib.image.AxesImage at 0x7f2aa2995128>"
            ]
          },
          "metadata": {
            "tags": []
          },
          "execution_count": 40
        },
        {
          "output_type": "display_data",
          "data": {
            "image/png": "[encoded data removed]",
            "text/plain": [
              "<Figure size 432x288 with 1 Axes>"
            ]
          },
          "metadata": {
            "tags": []
          }
        }
      ]
    },
    {
      "cell_type": "markdown",
      "metadata": {
        "id": "epp94luTLg96",
        "colab_type": "text"
      },
      "source": [
        "## Feed to Model"
      ]
    },
    {
      "cell_type": "code",
      "metadata": {
        "id": "TgGbK5VshQ0D",
        "colab_type": "code",
        "outputId": "81d185fe-2160-49c7-eae8-c33bcf1750bc",
        "colab": {
          "base_uri": "https://localhost:8080/",
          "height": 34
        }
      },
      "source": [
        "# Make sure to use different variable to distinguish result of passing to GPU\n",
        "# image and the previous Numpy `img`.\n",
        "images = img.to(device)     \n",
        "print(images[0].size())"
      ],
      "execution_count": 0,
      "outputs": [
        {
          "output_type": "stream",
          "text": [
            "torch.Size([28, 28])\n"
          ],
          "name": "stdout"
        }
      ]
    },
    {
      "cell_type": "code",
      "metadata": {
        "id": "R_CTUrpahZNy",
        "colab_type": "code",
        "outputId": "4ff1b8dd-98f3-4adb-df83-607615c64e69",
        "colab": {
          "base_uri": "https://localhost:8080/",
          "height": 34
        }
      },
      "source": [
        "# Need 4D input to the network\n",
        "# Convert 28x28 to 1x1x28x28\n",
        "image = images[0].unsqueeze(0).unsqueeze(0)\n",
        "print(image.size())"
      ],
      "execution_count": 0,
      "outputs": [
        {
          "output_type": "stream",
          "text": [
            "torch.Size([1, 1, 28, 28])\n"
          ],
          "name": "stdout"
        }
      ]
    },
    {
      "cell_type": "code",
      "metadata": {
        "id": "6BPMPzM1ftsd",
        "colab_type": "code",
        "outputId": "2d5d78b3-ed67-4fbf-9e73-c2487142ffd8",
        "colab": {
          "base_uri": "https://localhost:8080/",
          "height": 34
        }
      },
      "source": [
        "output = model(image)\n",
        "_, pred = torch.max(output, 1)\n",
        "print(pred.item())"
      ],
      "execution_count": 0,
      "outputs": [
        {
          "output_type": "stream",
          "text": [
            "5\n"
          ],
          "name": "stdout"
        }
      ]
    }
  ]
}